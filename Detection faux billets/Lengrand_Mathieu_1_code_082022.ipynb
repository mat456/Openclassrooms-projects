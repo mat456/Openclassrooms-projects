{
 "cells": [
  {
   "cell_type": "markdown",
   "id": "e9928d16-b343-4484-8166-d7aae22f26c2",
   "metadata": {},
   "source": [
    "# <font color=\"blue\">Imports</font>"
   ]
  },
  {
   "cell_type": "code",
   "execution_count": 2,
   "id": "b5826f43-1c5e-4599-800c-e30005c0746f",
   "metadata": {},
   "outputs": [],
   "source": [
    "# Import des libraires\n",
    "import numpy as np\n",
    "import pandas as pd\n",
    "import matplotlib.pyplot as plt\n",
    "import seaborn as sns\n",
    "import statsmodels.api as sm\n",
    "from statsmodels.stats.outliers_influence import variance_inflation_factor\n",
    "from scipy.stats import t, shapiro, pearsonr, kstest\n",
    "from sklearn.model_selection import train_test_split, GridSearchCV\n",
    "from sklearn.linear_model import LinearRegression, LogisticRegression, SGDClassifier\n",
    "from sklearn.metrics import confusion_matrix, accuracy_score\n",
    "from sklearn import preprocessing\n",
    "from sklearn.cluster import KMeans"
   ]
  },
  {
   "cell_type": "code",
   "execution_count": 3,
   "id": "d8497a63-c4fc-47d5-a0d8-f436e4b192bd",
   "metadata": {},
   "outputs": [],
   "source": [
    "# Import Data\n",
    "billets = pd.read_csv(\"Data/billets.csv\",sep = \";\") "
   ]
  },
  {
   "cell_type": "markdown",
   "id": "c9bfb9a2-070c-40e8-9033-333a202cdae3",
   "metadata": {},
   "source": [
    "# <font color=\"blue\"> Analyse exploratoire </font>"
   ]
  },
  {
   "cell_type": "code",
   "execution_count": 4,
   "id": "72cc9086-8ef9-40b0-b955-54729156370a",
   "metadata": {},
   "outputs": [
    {
     "data": {
      "text/html": [
       "<div>\n",
       "<style scoped>\n",
       "    .dataframe tbody tr th:only-of-type {\n",
       "        vertical-align: middle;\n",
       "    }\n",
       "\n",
       "    .dataframe tbody tr th {\n",
       "        vertical-align: top;\n",
       "    }\n",
       "\n",
       "    .dataframe thead th {\n",
       "        text-align: right;\n",
       "    }\n",
       "</style>\n",
       "<table border=\"1\" class=\"dataframe\">\n",
       "  <thead>\n",
       "    <tr style=\"text-align: right;\">\n",
       "      <th></th>\n",
       "      <th>is_genuine</th>\n",
       "      <th>diagonal</th>\n",
       "      <th>height_left</th>\n",
       "      <th>height_right</th>\n",
       "      <th>margin_low</th>\n",
       "      <th>margin_up</th>\n",
       "      <th>length</th>\n",
       "    </tr>\n",
       "  </thead>\n",
       "  <tbody>\n",
       "    <tr>\n",
       "      <th>0</th>\n",
       "      <td>True</td>\n",
       "      <td>171.81</td>\n",
       "      <td>104.86</td>\n",
       "      <td>104.95</td>\n",
       "      <td>4.52</td>\n",
       "      <td>2.89</td>\n",
       "      <td>112.83</td>\n",
       "    </tr>\n",
       "    <tr>\n",
       "      <th>1</th>\n",
       "      <td>True</td>\n",
       "      <td>171.46</td>\n",
       "      <td>103.36</td>\n",
       "      <td>103.66</td>\n",
       "      <td>3.77</td>\n",
       "      <td>2.99</td>\n",
       "      <td>113.09</td>\n",
       "    </tr>\n",
       "    <tr>\n",
       "      <th>2</th>\n",
       "      <td>True</td>\n",
       "      <td>172.69</td>\n",
       "      <td>104.48</td>\n",
       "      <td>103.50</td>\n",
       "      <td>4.40</td>\n",
       "      <td>2.94</td>\n",
       "      <td>113.16</td>\n",
       "    </tr>\n",
       "    <tr>\n",
       "      <th>3</th>\n",
       "      <td>True</td>\n",
       "      <td>171.36</td>\n",
       "      <td>103.91</td>\n",
       "      <td>103.94</td>\n",
       "      <td>3.62</td>\n",
       "      <td>3.01</td>\n",
       "      <td>113.51</td>\n",
       "    </tr>\n",
       "    <tr>\n",
       "      <th>4</th>\n",
       "      <td>True</td>\n",
       "      <td>171.73</td>\n",
       "      <td>104.28</td>\n",
       "      <td>103.46</td>\n",
       "      <td>4.04</td>\n",
       "      <td>3.48</td>\n",
       "      <td>112.54</td>\n",
       "    </tr>\n",
       "  </tbody>\n",
       "</table>\n",
       "</div>"
      ],
      "text/plain": [
       "   is_genuine  diagonal  height_left  height_right  margin_low  margin_up  \\\n",
       "0        True    171.81       104.86        104.95        4.52       2.89   \n",
       "1        True    171.46       103.36        103.66        3.77       2.99   \n",
       "2        True    172.69       104.48        103.50        4.40       2.94   \n",
       "3        True    171.36       103.91        103.94        3.62       3.01   \n",
       "4        True    171.73       104.28        103.46        4.04       3.48   \n",
       "\n",
       "   length  \n",
       "0  112.83  \n",
       "1  113.09  \n",
       "2  113.16  \n",
       "3  113.51  \n",
       "4  112.54  "
      ]
     },
     "execution_count": 4,
     "metadata": {},
     "output_type": "execute_result"
    }
   ],
   "source": [
    "billets.head()"
   ]
  },
  {
   "cell_type": "code",
   "execution_count": 5,
   "id": "1df7acb2-50e4-426f-b304-3f07e420b9a2",
   "metadata": {},
   "outputs": [
    {
     "data": {
      "text/html": [
       "<div>\n",
       "<style scoped>\n",
       "    .dataframe tbody tr th:only-of-type {\n",
       "        vertical-align: middle;\n",
       "    }\n",
       "\n",
       "    .dataframe tbody tr th {\n",
       "        vertical-align: top;\n",
       "    }\n",
       "\n",
       "    .dataframe thead th {\n",
       "        text-align: right;\n",
       "    }\n",
       "</style>\n",
       "<table border=\"1\" class=\"dataframe\">\n",
       "  <thead>\n",
       "    <tr style=\"text-align: right;\">\n",
       "      <th></th>\n",
       "      <th>is_genuine</th>\n",
       "      <th>diagonal</th>\n",
       "      <th>height_left</th>\n",
       "      <th>height_right</th>\n",
       "      <th>margin_low</th>\n",
       "      <th>margin_up</th>\n",
       "      <th>length</th>\n",
       "    </tr>\n",
       "  </thead>\n",
       "  <tbody>\n",
       "    <tr>\n",
       "      <th>count</th>\n",
       "      <td>1500</td>\n",
       "      <td>1500.000000</td>\n",
       "      <td>1500.000000</td>\n",
       "      <td>1500.000000</td>\n",
       "      <td>1463.000000</td>\n",
       "      <td>1500.000000</td>\n",
       "      <td>1500.00000</td>\n",
       "    </tr>\n",
       "    <tr>\n",
       "      <th>unique</th>\n",
       "      <td>2</td>\n",
       "      <td>NaN</td>\n",
       "      <td>NaN</td>\n",
       "      <td>NaN</td>\n",
       "      <td>NaN</td>\n",
       "      <td>NaN</td>\n",
       "      <td>NaN</td>\n",
       "    </tr>\n",
       "    <tr>\n",
       "      <th>top</th>\n",
       "      <td>True</td>\n",
       "      <td>NaN</td>\n",
       "      <td>NaN</td>\n",
       "      <td>NaN</td>\n",
       "      <td>NaN</td>\n",
       "      <td>NaN</td>\n",
       "      <td>NaN</td>\n",
       "    </tr>\n",
       "    <tr>\n",
       "      <th>freq</th>\n",
       "      <td>1000</td>\n",
       "      <td>NaN</td>\n",
       "      <td>NaN</td>\n",
       "      <td>NaN</td>\n",
       "      <td>NaN</td>\n",
       "      <td>NaN</td>\n",
       "      <td>NaN</td>\n",
       "    </tr>\n",
       "    <tr>\n",
       "      <th>mean</th>\n",
       "      <td>NaN</td>\n",
       "      <td>171.958440</td>\n",
       "      <td>104.029533</td>\n",
       "      <td>103.920307</td>\n",
       "      <td>4.485967</td>\n",
       "      <td>3.151473</td>\n",
       "      <td>112.67850</td>\n",
       "    </tr>\n",
       "    <tr>\n",
       "      <th>std</th>\n",
       "      <td>NaN</td>\n",
       "      <td>0.305195</td>\n",
       "      <td>0.299462</td>\n",
       "      <td>0.325627</td>\n",
       "      <td>0.663813</td>\n",
       "      <td>0.231813</td>\n",
       "      <td>0.87273</td>\n",
       "    </tr>\n",
       "    <tr>\n",
       "      <th>min</th>\n",
       "      <td>NaN</td>\n",
       "      <td>171.040000</td>\n",
       "      <td>103.140000</td>\n",
       "      <td>102.820000</td>\n",
       "      <td>2.980000</td>\n",
       "      <td>2.270000</td>\n",
       "      <td>109.49000</td>\n",
       "    </tr>\n",
       "    <tr>\n",
       "      <th>25%</th>\n",
       "      <td>NaN</td>\n",
       "      <td>171.750000</td>\n",
       "      <td>103.820000</td>\n",
       "      <td>103.710000</td>\n",
       "      <td>4.015000</td>\n",
       "      <td>2.990000</td>\n",
       "      <td>112.03000</td>\n",
       "    </tr>\n",
       "    <tr>\n",
       "      <th>50%</th>\n",
       "      <td>NaN</td>\n",
       "      <td>171.960000</td>\n",
       "      <td>104.040000</td>\n",
       "      <td>103.920000</td>\n",
       "      <td>4.310000</td>\n",
       "      <td>3.140000</td>\n",
       "      <td>112.96000</td>\n",
       "    </tr>\n",
       "    <tr>\n",
       "      <th>75%</th>\n",
       "      <td>NaN</td>\n",
       "      <td>172.170000</td>\n",
       "      <td>104.230000</td>\n",
       "      <td>104.150000</td>\n",
       "      <td>4.870000</td>\n",
       "      <td>3.310000</td>\n",
       "      <td>113.34000</td>\n",
       "    </tr>\n",
       "    <tr>\n",
       "      <th>max</th>\n",
       "      <td>NaN</td>\n",
       "      <td>173.010000</td>\n",
       "      <td>104.880000</td>\n",
       "      <td>104.950000</td>\n",
       "      <td>6.900000</td>\n",
       "      <td>3.910000</td>\n",
       "      <td>114.44000</td>\n",
       "    </tr>\n",
       "  </tbody>\n",
       "</table>\n",
       "</div>"
      ],
      "text/plain": [
       "       is_genuine     diagonal  height_left  height_right   margin_low  \\\n",
       "count        1500  1500.000000  1500.000000   1500.000000  1463.000000   \n",
       "unique          2          NaN          NaN           NaN          NaN   \n",
       "top          True          NaN          NaN           NaN          NaN   \n",
       "freq         1000          NaN          NaN           NaN          NaN   \n",
       "mean          NaN   171.958440   104.029533    103.920307     4.485967   \n",
       "std           NaN     0.305195     0.299462      0.325627     0.663813   \n",
       "min           NaN   171.040000   103.140000    102.820000     2.980000   \n",
       "25%           NaN   171.750000   103.820000    103.710000     4.015000   \n",
       "50%           NaN   171.960000   104.040000    103.920000     4.310000   \n",
       "75%           NaN   172.170000   104.230000    104.150000     4.870000   \n",
       "max           NaN   173.010000   104.880000    104.950000     6.900000   \n",
       "\n",
       "          margin_up      length  \n",
       "count   1500.000000  1500.00000  \n",
       "unique          NaN         NaN  \n",
       "top             NaN         NaN  \n",
       "freq            NaN         NaN  \n",
       "mean       3.151473   112.67850  \n",
       "std        0.231813     0.87273  \n",
       "min        2.270000   109.49000  \n",
       "25%        2.990000   112.03000  \n",
       "50%        3.140000   112.96000  \n",
       "75%        3.310000   113.34000  \n",
       "max        3.910000   114.44000  "
      ]
     },
     "execution_count": 5,
     "metadata": {},
     "output_type": "execute_result"
    }
   ],
   "source": [
    "billets.describe(include=\"all\")"
   ]
  },
  {
   "cell_type": "markdown",
   "id": "fcb743f0-817c-48ce-a998-400f64415624",
   "metadata": {},
   "source": [
    "##### <font color=\"green\"> Des valeurs manquantes sur la variable \"margin_low\", on va d'abord explorer les données en les omettant puis choisir la meilleure manière de les imputer  </font>"
   ]
  },
  {
   "cell_type": "code",
   "execution_count": 6,
   "id": "02e53b84-ffe9-4f03-8809-1e12c5ae7196",
   "metadata": {},
   "outputs": [],
   "source": [
    "df = billets[~pd.isna(billets.margin_low)]"
   ]
  },
  {
   "cell_type": "code",
   "execution_count": 7,
   "id": "f193735a-ca99-4e92-a862-1d1c129f5856",
   "metadata": {},
   "outputs": [
    {
     "data": {
      "image/png": "[encoded data removed]",
      "text/plain": [
       "<Figure size 1008x720 with 6 Axes>"
      ]
     },
     "metadata": {
      "needs_background": "light"
     },
     "output_type": "display_data"
    }
   ],
   "source": [
    "# Analyse des distributions\n",
    "df_num = df[[\"diagonal\", \"height_left\", \"height_right\", \"margin_up\", \"margin_low\", \"length\"]]\n",
    "fig, ax = plt.subplots(nrows=2, ncols=3, figsize=(14,10))\n",
    "for col, i, j in zip(df_num.columns, [0,0,0,1,1,1], [0,1,2,0,1,2]):\n",
    "    g = sns.histplot(ax=ax[i,j], data=df_num, x=col) \n",
    "    g.set(xlabel='', ylabel='')\n",
    "    g.set_title(col, c=\"blue\")"
   ]
  },
  {
   "cell_type": "code",
   "execution_count": 8,
   "id": "16fe6921-c0ec-4406-a865-d6b5c77478a8",
   "metadata": {},
   "outputs": [
    {
     "data": {
      "image/png": "[encoded data removed]",
      "text/plain": [
       "<Figure size 1008x720 with 6 Axes>"
      ]
     },
     "metadata": {
      "needs_background": "light"
     },
     "output_type": "display_data"
    }
   ],
   "source": [
    "# Boxplot\n",
    "fig, ax = plt.subplots(nrows=2, ncols=3, figsize=(14,10))\n",
    "for col, i, j in zip(df_num.columns, [0,0,0,1,1,1], [0,1,2,0,1,2]):\n",
    "    g = sns.boxplot(ax=ax[i,j], data=df_num, y=col, color=\"green\") \n",
    "    g.set(xlabel='', ylabel='')\n",
    "    g.set_title(col, c=\"blue\")"
   ]
  },
  {
   "cell_type": "code",
   "execution_count": 9,
   "id": "33d97d0a-48cd-414e-b48b-4bd4991949fa",
   "metadata": {},
   "outputs": [
    {
     "data": {
      "text/plain": [
       "<AxesSubplot:>"
      ]
     },
     "execution_count": 9,
     "metadata": {},
     "output_type": "execute_result"
    },
    {
     "data": {
      "image/png": "[encoded data removed]",
      "text/plain": [
       "<Figure size 432x288 with 2 Axes>"
      ]
     },
     "metadata": {
      "needs_background": "light"
     },
     "output_type": "display_data"
    }
   ],
   "source": [
    "# Analyse des corrélations\n",
    "tc=df_num.corr()\n",
    "sns.heatmap(tc,annot=True,cmap=\"coolwarm\")"
   ]
  },
  {
   "cell_type": "code",
   "execution_count": 10,
   "id": "07f9cfaf-2219-474b-aae8-bbaf7aeacf07",
   "metadata": {},
   "outputs": [
    {
     "name": "stdout",
     "output_type": "stream",
     "text": [
      "Corrélation entre  diagonal  et  margin_low  (p_value :  0.0 )\n",
      "Corrélation entre  diagonal  et  length  (p_value :  0.0 )\n",
      "Corrélation entre  height_left  et  height_right  (p_value :  0.0 )\n",
      "Corrélation entre  height_left  et  margin_up  (p_value :  0.0 )\n",
      "Corrélation entre  height_left  et  margin_low  (p_value :  0.0 )\n",
      "Corrélation entre  height_left  et  length  (p_value :  0.0 )\n",
      "Corrélation entre  height_right  et  height_left  (p_value :  0.0 )\n",
      "Corrélation entre  height_right  et  margin_up  (p_value :  0.0 )\n",
      "Corrélation entre  height_right  et  margin_low  (p_value :  0.0 )\n",
      "Corrélation entre  height_right  et  length  (p_value :  0.0 )\n",
      "Corrélation entre  margin_up  et  height_left  (p_value :  0.0 )\n",
      "Corrélation entre  margin_up  et  height_right  (p_value :  0.0 )\n",
      "Corrélation entre  margin_up  et  margin_low  (p_value :  0.0 )\n",
      "Corrélation entre  margin_up  et  length  (p_value :  0.0 )\n",
      "Corrélation entre  margin_low  et  diagonal  (p_value :  0.0 )\n",
      "Corrélation entre  margin_low  et  height_left  (p_value :  0.0 )\n",
      "Corrélation entre  margin_low  et  height_right  (p_value :  0.0 )\n",
      "Corrélation entre  margin_low  et  margin_up  (p_value :  0.0 )\n",
      "Corrélation entre  margin_low  et  length  (p_value :  0.0 )\n",
      "Corrélation entre  length  et  diagonal  (p_value :  0.0 )\n",
      "Corrélation entre  length  et  height_left  (p_value :  0.0 )\n",
      "Corrélation entre  length  et  height_right  (p_value :  0.0 )\n",
      "Corrélation entre  length  et  margin_up  (p_value :  0.0 )\n",
      "Corrélation entre  length  et  margin_low  (p_value :  0.0 )\n"
     ]
    }
   ],
   "source": [
    "# Test des corrélations\n",
    "for col1 in df_num.columns:\n",
    "    for col2 in df_num.columns:\n",
    "        if col1 != col2 :\n",
    "            coef, p_value = pearsonr(df_num[col1], df_num[col2])\n",
    "            if p_value <= 0.01 :\n",
    "                print(\"Corrélation entre \",col1,\" et \",col2, \" (p_value : \", round(p_value,2),\")\")"
   ]
  },
  {
   "cell_type": "markdown",
   "id": "a4b092c1-da08-4d69-b4fd-d112e3bd1712",
   "metadata": {},
   "source": [
    "##### <font color=\"green\"> La variable \"margin_low\" est corrélée aux autres variables, on va imputer les valeurs manquantes par régression linéaire  </font>"
   ]
  },
  {
   "cell_type": "markdown",
   "id": "13aa7599-38a0-4e62-b797-bf6b23185b13",
   "metadata": {},
   "source": [
    "# <font color=\"blue\"> Régression linéaire </font>"
   ]
  },
  {
   "cell_type": "code",
   "execution_count": 11,
   "id": "d471927a-82a3-4a65-b812-2e2855d3cdbf",
   "metadata": {},
   "outputs": [
    {
     "data": {
      "text/html": [
       "<table class=\"simpletable\">\n",
       "<caption>OLS Regression Results</caption>\n",
       "<tr>\n",
       "  <th>Dep. Variable:</th>       <td>margin_low</td>    <th>  R-squared:         </th> <td>   0.480</td> \n",
       "</tr>\n",
       "<tr>\n",
       "  <th>Model:</th>                   <td>OLS</td>       <th>  Adj. R-squared:    </th> <td>   0.477</td> \n",
       "</tr>\n",
       "<tr>\n",
       "  <th>Method:</th>             <td>Least Squares</td>  <th>  F-statistic:       </th> <td>   187.9</td> \n",
       "</tr>\n",
       "<tr>\n",
       "  <th>Date:</th>             <td>Fri, 19 Aug 2022</td> <th>  Prob (F-statistic):</th> <td>8.84e-142</td>\n",
       "</tr>\n",
       "<tr>\n",
       "  <th>Time:</th>                 <td>18:02:05</td>     <th>  Log-Likelihood:    </th> <td> -696.35</td> \n",
       "</tr>\n",
       "<tr>\n",
       "  <th>No. Observations:</th>      <td>  1024</td>      <th>  AIC:               </th> <td>   1405.</td> \n",
       "</tr>\n",
       "<tr>\n",
       "  <th>Df Residuals:</th>          <td>  1018</td>      <th>  BIC:               </th> <td>   1434.</td> \n",
       "</tr>\n",
       "<tr>\n",
       "  <th>Df Model:</th>              <td>     5</td>      <th>                     </th>     <td> </td>    \n",
       "</tr>\n",
       "<tr>\n",
       "  <th>Covariance Type:</th>      <td>nonrobust</td>    <th>                     </th>     <td> </td>    \n",
       "</tr>\n",
       "</table>\n",
       "<table class=\"simpletable\">\n",
       "<tr>\n",
       "        <td></td>          <th>coef</th>     <th>std err</th>      <th>t</th>      <th>P>|t|</th>  <th>[0.025</th>    <th>0.975]</th>  \n",
       "</tr>\n",
       "<tr>\n",
       "  <th>const</th>        <td>   21.8672</td> <td>   11.427</td> <td>    1.914</td> <td> 0.056</td> <td>   -0.556</td> <td>   44.290</td>\n",
       "</tr>\n",
       "<tr>\n",
       "  <th>diagonal</th>     <td>   -0.1120</td> <td>    0.050</td> <td>   -2.248</td> <td> 0.025</td> <td>   -0.210</td> <td>   -0.014</td>\n",
       "</tr>\n",
       "<tr>\n",
       "  <th>height_left</th>  <td>    0.1915</td> <td>    0.055</td> <td>    3.512</td> <td> 0.000</td> <td>    0.085</td> <td>    0.299</td>\n",
       "</tr>\n",
       "<tr>\n",
       "  <th>height_right</th> <td>    0.2605</td> <td>    0.051</td> <td>    5.069</td> <td> 0.000</td> <td>    0.160</td> <td>    0.361</td>\n",
       "</tr>\n",
       "<tr>\n",
       "  <th>margin_up</th>    <td>    0.2661</td> <td>    0.076</td> <td>    3.487</td> <td> 0.001</td> <td>    0.116</td> <td>    0.416</td>\n",
       "</tr>\n",
       "<tr>\n",
       "  <th>length</th>       <td>   -0.4079</td> <td>    0.022</td> <td>  -18.783</td> <td> 0.000</td> <td>   -0.451</td> <td>   -0.365</td>\n",
       "</tr>\n",
       "</table>\n",
       "<table class=\"simpletable\">\n",
       "<tr>\n",
       "  <th>Omnibus:</th>       <td>43.514</td> <th>  Durbin-Watson:     </th> <td>   2.007</td>\n",
       "</tr>\n",
       "<tr>\n",
       "  <th>Prob(Omnibus):</th> <td> 0.000</td> <th>  Jarque-Bera (JB):  </th> <td>  54.022</td>\n",
       "</tr>\n",
       "<tr>\n",
       "  <th>Skew:</th>          <td> 0.437</td> <th>  Prob(JB):          </th> <td>1.86e-12</td>\n",
       "</tr>\n",
       "<tr>\n",
       "  <th>Kurtosis:</th>      <td> 3.709</td> <th>  Cond. No.          </th> <td>1.93e+05</td>\n",
       "</tr>\n",
       "</table><br/><br/>Notes:<br/>[1] Standard Errors assume that the covariance matrix of the errors is correctly specified.<br/>[2] The condition number is large, 1.93e+05. This might indicate that there are<br/>strong multicollinearity or other numerical problems."
      ],
      "text/plain": [
       "<class 'statsmodels.iolib.summary.Summary'>\n",
       "\"\"\"\n",
       "                            OLS Regression Results                            \n",
       "==============================================================================\n",
       "Dep. Variable:             margin_low   R-squared:                       0.480\n",
       "Model:                            OLS   Adj. R-squared:                  0.477\n",
       "Method:                 Least Squares   F-statistic:                     187.9\n",
       "Date:                Fri, 19 Aug 2022   Prob (F-statistic):          8.84e-142\n",
       "Time:                        18:02:05   Log-Likelihood:                -696.35\n",
       "No. Observations:                1024   AIC:                             1405.\n",
       "Df Residuals:                    1018   BIC:                             1434.\n",
       "Df Model:                           5                                         \n",
       "Covariance Type:            nonrobust                                         \n",
       "================================================================================\n",
       "                   coef    std err          t      P>|t|      [0.025      0.975]\n",
       "--------------------------------------------------------------------------------\n",
       "const           21.8672     11.427      1.914      0.056      -0.556      44.290\n",
       "diagonal        -0.1120      0.050     -2.248      0.025      -0.210      -0.014\n",
       "height_left      0.1915      0.055      3.512      0.000       0.085       0.299\n",
       "height_right     0.2605      0.051      5.069      0.000       0.160       0.361\n",
       "margin_up        0.2661      0.076      3.487      0.001       0.116       0.416\n",
       "length          -0.4079      0.022    -18.783      0.000      -0.451      -0.365\n",
       "==============================================================================\n",
       "Omnibus:                       43.514   Durbin-Watson:                   2.007\n",
       "Prob(Omnibus):                  0.000   Jarque-Bera (JB):               54.022\n",
       "Skew:                           0.437   Prob(JB):                     1.86e-12\n",
       "Kurtosis:                       3.709   Cond. No.                     1.93e+05\n",
       "==============================================================================\n",
       "\n",
       "Notes:\n",
       "[1] Standard Errors assume that the covariance matrix of the errors is correctly specified.\n",
       "[2] The condition number is large, 1.93e+05. This might indicate that there are\n",
       "strong multicollinearity or other numerical problems.\n",
       "\"\"\""
      ]
     },
     "execution_count": 11,
     "metadata": {},
     "output_type": "execute_result"
    }
   ],
   "source": [
    "# Mise en place de la regression linéaire multiple\n",
    "x = df[[\"diagonal\", \"height_left\", \"height_right\", \"margin_up\", \"length\"]]\n",
    "x = sm.add_constant(x)\n",
    "y = df[[\"margin_low\"]]\n",
    "xtrain, xtest, ytrain, ytest = train_test_split(x, y, test_size=0.3, random_state=2)\n",
    "reg = sm.OLS(ytrain, xtrain).fit()\n",
    "reg.summary()"
   ]
  },
  {
   "cell_type": "code",
   "execution_count": 11,
   "id": "a2e2c38c-4059-4df8-99d7-70db817eb587",
   "metadata": {},
   "outputs": [
    {
     "data": {
      "text/plain": [
       "margin_low    0.479\n",
       "dtype: float64"
      ]
     },
     "execution_count": 11,
     "metadata": {},
     "output_type": "execute_result"
    }
   ],
   "source": [
    "def score(x,y,reg):\n",
    "    n = len(y)\n",
    "    p = x.shape[1]-1\n",
    "    y_moy = y.mean()\n",
    "    y_pred = reg.predict(x)\n",
    "    SCT = sum([(y.iloc[i]-y_moy)**2 for i in range(len(y))])\n",
    "    SCE = sum([(y_pred.iloc[i]-y_moy)**2 for i in range(len(y))])\n",
    "    R = SCE/SCT\n",
    "    R_adj = 1 - (n/(n-p))*(1-R)\n",
    "    return round(R_adj,3)\n",
    "score(xtest,ytest,reg)"
   ]
  },
  {
   "cell_type": "markdown",
   "id": "01097df9-3815-44dd-8e94-161922caad9b",
   "metadata": {},
   "source": [
    "##### <font color=\"green\"> le R adjusted est proche entre le training model et le testing model </font>"
   ]
  },
  {
   "cell_type": "markdown",
   "id": "25f32cb9-1517-47b6-856c-d0e6b1f05413",
   "metadata": {},
   "source": [
    "##### <font color=\"black\"> Analyse des observations influentes </font>"
   ]
  },
  {
   "cell_type": "code",
   "execution_count": 12,
   "id": "34f66ea8-8cc4-40a3-8119-d03f938c224f",
   "metadata": {},
   "outputs": [],
   "source": [
    "alpha = 0.05\n",
    "n = xtrain.shape[0]\n",
    "p = 6"
   ]
  },
  {
   "cell_type": "code",
   "execution_count": 13,
   "id": "2b960860-2416-4c7b-96de-b129df56ed62",
   "metadata": {},
   "outputs": [],
   "source": [
    "analyses = pd.DataFrame({'obs':np.arange(1, n+1)})\n",
    "analyses['levier'] = reg.get_influence().hat_matrix_diag\n",
    "seuil_levier = 2*p/n"
   ]
  },
  {
   "cell_type": "code",
   "execution_count": 14,
   "id": "85f8f823-44a2-41c6-b9dc-ad850b6a5d43",
   "metadata": {},
   "outputs": [
    {
     "data": {
      "image/png": "[encoded data removed]",
      "text/plain": [
       "<Figure size 864x432 with 1 Axes>"
      ]
     },
     "metadata": {
      "needs_background": "light"
     },
     "output_type": "display_data"
    }
   ],
   "source": [
    "plt.figure(figsize=(12,6))\n",
    "plt.bar(analyses['obs'], analyses['levier'])\n",
    "plt.xticks(np.arange(0, 1465, step=100))\n",
    "plt.xlabel('Observation')\n",
    "plt.ylabel('Leviers')\n",
    "plt.plot([0, 1465], [seuil_levier, seuil_levier], color='r')\n",
    "plt.show()"
   ]
  },
  {
   "cell_type": "markdown",
   "id": "38d71e42-001d-41f3-b5bc-ea4212c3cbd7",
   "metadata": {},
   "source": [
    "##### <font color=\"black\"> Analyse de la colinéarité </font>"
   ]
  },
  {
   "cell_type": "code",
   "execution_count": 15,
   "id": "4e719f54-d274-4f01-b2e1-153b9dc97ca5",
   "metadata": {},
   "outputs": [
    {
     "data": {
      "text/plain": [
       "[1.015001614807184,\n",
       " 1.1572661742237846,\n",
       " 1.2511462550869474,\n",
       " 1.3730447374716808,\n",
       " 1.5877214940817959]"
      ]
     },
     "execution_count": 15,
     "metadata": {},
     "output_type": "execute_result"
    }
   ],
   "source": [
    "variables = reg.model.exog\n",
    "[variance_inflation_factor(variables, i) for i in np.arange(1,variables.shape[1])]"
   ]
  },
  {
   "cell_type": "markdown",
   "id": "630f7d02-7c7a-4bd1-baf1-ca5976f7830b",
   "metadata": {},
   "source": [
    "##### <font color=\"green\"> Toutes les valeurs sont inférieures à 10, pas de problème de colinéarité  </font>"
   ]
  },
  {
   "cell_type": "markdown",
   "id": "a5f4f727-c70e-47e6-8a0a-20c04bf56651",
   "metadata": {},
   "source": [
    "##### <font color=\"black\"> Analyse de la normalité des résidus </font>"
   ]
  },
  {
   "cell_type": "code",
   "execution_count": 16,
   "id": "77d9cb9c-ed06-4e6f-90a0-bcc446702bf5",
   "metadata": {},
   "outputs": [
    {
     "data": {
      "text/plain": [
       "4.489398184348515e-34"
      ]
     },
     "execution_count": 16,
     "metadata": {},
     "output_type": "execute_result"
    }
   ],
   "source": [
    "a,b = kstest(reg.resid, 'norm')\n",
    "b"
   ]
  },
  {
   "cell_type": "code",
   "execution_count": 17,
   "id": "736cb4e8-4771-435a-8a03-e571bab8fd83",
   "metadata": {},
   "outputs": [
    {
     "data": {
      "text/plain": [
       "<AxesSubplot:ylabel='Count'>"
      ]
     },
     "execution_count": 17,
     "metadata": {},
     "output_type": "execute_result"
    },
    {
     "data": {
      "image/png": "[encoded data removed]",
      "text/plain": [
       "<Figure size 432x288 with 1 Axes>"
      ]
     },
     "metadata": {
      "needs_background": "light"
     },
     "output_type": "display_data"
    }
   ],
   "source": [
    "sns.histplot(x=reg.resid)"
   ]
  },
  {
   "cell_type": "markdown",
   "id": "2df0029e-0d76-4e5e-bd4f-824464003b53",
   "metadata": {},
   "source": [
    "##### <font color=\"green\"> L'hypothèse de normalité est remise en cause par le test de Kolmogorov\n",
    "Néanmoins, l'observation des résidus, le fait qu'ils ne soient pas très différents d'une distribution symétrique, et le fait que l'échantillon soit de taille suffisante (supérieure à 30) permettent de dire que les résultats obtenus par le modèle linéaire gaussien ne sont pas absurdes, même si le résidu n'est pas considéré comme étant gaussien. </font>"
   ]
  },
  {
   "cell_type": "markdown",
   "id": "71ff33da-559a-46da-8563-676777dc2bd6",
   "metadata": {},
   "source": [
    "##### <font color=\"green\"> On impute les valeurs manquantes à l'aide de notre regression  </font>"
   ]
  },
  {
   "cell_type": "code",
   "execution_count": 18,
   "id": "162b9c89-9940-4415-bd00-df90a084a7bd",
   "metadata": {},
   "outputs": [],
   "source": [
    "# Imputation des valeurs manquantes\n",
    "df_na = billets[pd.isna(billets.margin_low)]\n",
    "const = np.ones(len(df_na))\n",
    "df_na.insert(loc=0, value=const, column=\"const\")\n",
    "x = df_na[[\"const\",\"diagonal\", \"height_left\", \"height_right\", \"margin_up\", \"length\"]]\n",
    "y = reg.predict(x)\n",
    "#billets.margin_low[pd.isna(billets.margin_low)]=y\n",
    "billets.loc[pd.isna(billets.margin_low), \"margin_low\"]=y"
   ]
  },
  {
   "cell_type": "code",
   "execution_count": 19,
   "id": "4beff041-e4bc-4e87-81db-f3c48bfbd2f3",
   "metadata": {},
   "outputs": [
    {
     "data": {
      "text/plain": [
       "<AxesSubplot:>"
      ]
     },
     "execution_count": 19,
     "metadata": {},
     "output_type": "execute_result"
    },
    {
     "data": {
      "image/png": "[encoded data removed]",
      "text/plain": [
       "<Figure size 432x288 with 2 Axes>"
      ]
     },
     "metadata": {
      "needs_background": "light"
     },
     "output_type": "display_data"
    }
   ],
   "source": [
    "# Analyse des corrélations après imputation\n",
    "billets_num = billets[[\"diagonal\", \"height_left\", \"height_right\", \"margin_up\", \"margin_low\", \"length\"]]\n",
    "tc=df_num.corr()\n",
    "sns.heatmap(tc,annot=True,cmap=\"coolwarm\")"
   ]
  },
  {
   "cell_type": "markdown",
   "id": "9a1debff-8e2a-49fa-876a-b84bdfb2c9b9",
   "metadata": {},
   "source": [
    "##### <font color=\"green\"> Les corrélations sont les mêmes avant et après imputation  </font>"
   ]
  },
  {
   "cell_type": "markdown",
   "id": "14c86fe8-592f-4130-8b60-d9e6aabd00ae",
   "metadata": {},
   "source": [
    "# <font color=\"blue\"> Régression logistique </font>"
   ]
  },
  {
   "cell_type": "markdown",
   "id": "93aad94c-2e58-4448-b6b2-086f1d244ff2",
   "metadata": {},
   "source": [
    "##### <font color=\"black\"> On observe les tendances de chaque variable entre vrais et faux billets  </font>"
   ]
  },
  {
   "cell_type": "code",
   "execution_count": 20,
   "id": "097844e5-42c2-49d4-b880-c6ecd50113ba",
   "metadata": {},
   "outputs": [
    {
     "data": {
      "image/png": "[encoded data removed]",
      "text/plain": [
       "<Figure size 1008x720 with 6 Axes>"
      ]
     },
     "metadata": {
      "needs_background": "light"
     },
     "output_type": "display_data"
    }
   ],
   "source": [
    "# Barplot\n",
    "num_col = [\"diagonal\", \"height_left\", \"height_right\", \"margin_up\", \"margin_low\", \"length\"]\n",
    "fig, ax = plt.subplots(nrows=2, ncols=3, figsize=(14,10))\n",
    "for col, i, j in zip(num_col, [0,0,0,1,1,1], [0,1,2,0,1,2]):\n",
    "    g = sns.barplot(ax=ax[i,j], data=billets, y=col, x=\"is_genuine\", estimator=np.mean, ci=\"sd\", palette=\"Pastel1\") \n",
    "    g.set(xlabel='', ylabel='')\n",
    "    g.set_title(col, c=\"blue\")"
   ]
  },
  {
   "cell_type": "markdown",
   "id": "0ec19d82-69b5-47ee-9f5a-4cf9855c86bf",
   "metadata": {},
   "source": [
    "##### <font color=\"green\"> Les vrais et faux billets semblent différer sur les variables margin_up et margin_low  </font>"
   ]
  },
  {
   "cell_type": "markdown",
   "id": "a3023ccc-cc29-4378-929b-0dc4d34d5ad9",
   "metadata": {},
   "source": [
    "##### <font color=\"black\"> Mise en place de la régression logistique à l'aide de statmodels  </font>"
   ]
  },
  {
   "cell_type": "code",
   "execution_count": 21,
   "id": "e446da06-0214-4dd8-b9eb-3ff9cd696fc1",
   "metadata": {},
   "outputs": [
    {
     "name": "stdout",
     "output_type": "stream",
     "text": [
      "Optimization terminated successfully.\n",
      "         Current function value: 0.020610\n",
      "         Iterations 14\n"
     ]
    }
   ],
   "source": [
    "x = df[[\"diagonal\", \"height_left\", \"height_right\", \"margin_up\", \"margin_low\",\"length\"]]\n",
    "y = df[[\"is_genuine\"]]\n",
    "xtrain, xtest, ytrain, ytest = train_test_split(x, y, test_size=0.3, random_state=11)\n",
    "xtrain1 = sm.add_constant(xtrain)\n",
    "log_reg = sm.Logit(ytrain, xtrain1).fit() "
   ]
  },
  {
   "cell_type": "code",
   "execution_count": 22,
   "id": "6ed365de-3a97-4fce-8068-26cee62edb8f",
   "metadata": {},
   "outputs": [
    {
     "data": {
      "text/html": [
       "<table class=\"simpletable\">\n",
       "<caption>Logit Regression Results</caption>\n",
       "<tr>\n",
       "  <th>Dep. Variable:</th>      <td>is_genuine</td>    <th>  No. Observations:  </th>   <td>  1024</td>  \n",
       "</tr>\n",
       "<tr>\n",
       "  <th>Model:</th>                 <td>Logit</td>      <th>  Df Residuals:      </th>   <td>  1017</td>  \n",
       "</tr>\n",
       "<tr>\n",
       "  <th>Method:</th>                 <td>MLE</td>       <th>  Df Model:          </th>   <td>     6</td>  \n",
       "</tr>\n",
       "<tr>\n",
       "  <th>Date:</th>            <td>Wed, 17 Aug 2022</td> <th>  Pseudo R-squ.:     </th>   <td>0.9679</td>  \n",
       "</tr>\n",
       "<tr>\n",
       "  <th>Time:</th>                <td>13:51:19</td>     <th>  Log-Likelihood:    </th>  <td> -21.104</td> \n",
       "</tr>\n",
       "<tr>\n",
       "  <th>converged:</th>             <td>True</td>       <th>  LL-Null:           </th>  <td> -657.63</td> \n",
       "</tr>\n",
       "<tr>\n",
       "  <th>Covariance Type:</th>     <td>nonrobust</td>    <th>  LLR p-value:       </th> <td>7.359e-272</td>\n",
       "</tr>\n",
       "</table>\n",
       "<table class=\"simpletable\">\n",
       "<tr>\n",
       "        <td></td>          <th>coef</th>     <th>std err</th>      <th>z</th>      <th>P>|z|</th>  <th>[0.025</th>    <th>0.975]</th>  \n",
       "</tr>\n",
       "<tr>\n",
       "  <th>const</th>        <td>  -74.0994</td> <td>  335.967</td> <td>   -0.221</td> <td> 0.825</td> <td> -732.582</td> <td>  584.384</td>\n",
       "</tr>\n",
       "<tr>\n",
       "  <th>diagonal</th>     <td>   -0.1196</td> <td>    1.455</td> <td>   -0.082</td> <td> 0.934</td> <td>   -2.972</td> <td>    2.733</td>\n",
       "</tr>\n",
       "<tr>\n",
       "  <th>height_left</th>  <td>   -1.3246</td> <td>    1.656</td> <td>   -0.800</td> <td> 0.424</td> <td>   -4.570</td> <td>    1.920</td>\n",
       "</tr>\n",
       "<tr>\n",
       "  <th>height_right</th> <td>   -3.7466</td> <td>    1.562</td> <td>   -2.398</td> <td> 0.016</td> <td>   -6.809</td> <td>   -0.685</td>\n",
       "</tr>\n",
       "<tr>\n",
       "  <th>margin_up</th>    <td>  -10.3612</td> <td>    2.890</td> <td>   -3.585</td> <td> 0.000</td> <td>  -16.026</td> <td>   -4.696</td>\n",
       "</tr>\n",
       "<tr>\n",
       "  <th>margin_low</th>   <td>   -7.3473</td> <td>    1.637</td> <td>   -4.490</td> <td> 0.000</td> <td>  -10.555</td> <td>   -4.140</td>\n",
       "</tr>\n",
       "<tr>\n",
       "  <th>length</th>       <td>    6.1216</td> <td>    1.178</td> <td>    5.196</td> <td> 0.000</td> <td>    3.812</td> <td>    8.431</td>\n",
       "</tr>\n",
       "</table><br/><br/>Possibly complete quasi-separation: A fraction 0.62 of observations can be<br/>perfectly predicted. This might indicate that there is complete<br/>quasi-separation. In this case some parameters will not be identified."
      ],
      "text/plain": [
       "<class 'statsmodels.iolib.summary.Summary'>\n",
       "\"\"\"\n",
       "                           Logit Regression Results                           \n",
       "==============================================================================\n",
       "Dep. Variable:             is_genuine   No. Observations:                 1024\n",
       "Model:                          Logit   Df Residuals:                     1017\n",
       "Method:                           MLE   Df Model:                            6\n",
       "Date:                Wed, 17 Aug 2022   Pseudo R-squ.:                  0.9679\n",
       "Time:                        13:51:19   Log-Likelihood:                -21.104\n",
       "converged:                       True   LL-Null:                       -657.63\n",
       "Covariance Type:            nonrobust   LLR p-value:                7.359e-272\n",
       "================================================================================\n",
       "                   coef    std err          z      P>|z|      [0.025      0.975]\n",
       "--------------------------------------------------------------------------------\n",
       "const          -74.0994    335.967     -0.221      0.825    -732.582     584.384\n",
       "diagonal        -0.1196      1.455     -0.082      0.934      -2.972       2.733\n",
       "height_left     -1.3246      1.656     -0.800      0.424      -4.570       1.920\n",
       "height_right    -3.7466      1.562     -2.398      0.016      -6.809      -0.685\n",
       "margin_up      -10.3612      2.890     -3.585      0.000     -16.026      -4.696\n",
       "margin_low      -7.3473      1.637     -4.490      0.000     -10.555      -4.140\n",
       "length           6.1216      1.178      5.196      0.000       3.812       8.431\n",
       "================================================================================\n",
       "\n",
       "Possibly complete quasi-separation: A fraction 0.62 of observations can be\n",
       "perfectly predicted. This might indicate that there is complete\n",
       "quasi-separation. In this case some parameters will not be identified.\n",
       "\"\"\""
      ]
     },
     "execution_count": 22,
     "metadata": {},
     "output_type": "execute_result"
    }
   ],
   "source": [
    "log_reg.summary()"
   ]
  },
  {
   "cell_type": "code",
   "execution_count": 23,
   "id": "5a89e4f9-8a1d-48aa-af6f-1b43353ca61d",
   "metadata": {},
   "outputs": [
    {
     "data": {
      "text/plain": [
       "0.9840546697038725"
      ]
     },
     "execution_count": 23,
     "metadata": {},
     "output_type": "execute_result"
    }
   ],
   "source": [
    "xtest0 = sm.add_constant(xtest)\n",
    "ypred = log_reg.predict(xtest0)\n",
    "prediction = list(map(round, ypred))\n",
    "accuracy_score(ytest, prediction)"
   ]
  },
  {
   "cell_type": "markdown",
   "id": "035bf930-db34-445b-a23d-649615cc8fe1",
   "metadata": {},
   "source": [
    "##### <font color=\"green\"> On commence par enlever la variable la moins significative : diagonal </font>"
   ]
  },
  {
   "cell_type": "code",
   "execution_count": 24,
   "id": "e09f0cff-aedd-44d5-9178-bb326be6ca0e",
   "metadata": {},
   "outputs": [
    {
     "name": "stdout",
     "output_type": "stream",
     "text": [
      "Optimization terminated successfully.\n",
      "         Current function value: 0.020613\n",
      "         Iterations 13\n"
     ]
    },
    {
     "data": {
      "text/html": [
       "<table class=\"simpletable\">\n",
       "<caption>Logit Regression Results</caption>\n",
       "<tr>\n",
       "  <th>Dep. Variable:</th>      <td>is_genuine</td>    <th>  No. Observations:  </th>   <td>  1024</td>  \n",
       "</tr>\n",
       "<tr>\n",
       "  <th>Model:</th>                 <td>Logit</td>      <th>  Df Residuals:      </th>   <td>  1018</td>  \n",
       "</tr>\n",
       "<tr>\n",
       "  <th>Method:</th>                 <td>MLE</td>       <th>  Df Model:          </th>   <td>     5</td>  \n",
       "</tr>\n",
       "<tr>\n",
       "  <th>Date:</th>            <td>Wed, 17 Aug 2022</td> <th>  Pseudo R-squ.:     </th>   <td>0.9679</td>  \n",
       "</tr>\n",
       "<tr>\n",
       "  <th>Time:</th>                <td>13:51:19</td>     <th>  Log-Likelihood:    </th>  <td> -21.108</td> \n",
       "</tr>\n",
       "<tr>\n",
       "  <th>converged:</th>             <td>True</td>       <th>  LL-Null:           </th>  <td> -657.63</td> \n",
       "</tr>\n",
       "<tr>\n",
       "  <th>Covariance Type:</th>     <td>nonrobust</td>    <th>  LLR p-value:       </th> <td>4.400e-273</td>\n",
       "</tr>\n",
       "</table>\n",
       "<table class=\"simpletable\">\n",
       "<tr>\n",
       "        <td></td>          <th>coef</th>     <th>std err</th>      <th>z</th>      <th>P>|z|</th>  <th>[0.025</th>    <th>0.975]</th>  \n",
       "</tr>\n",
       "<tr>\n",
       "  <th>const</th>        <td>  -95.9404</td> <td>  206.004</td> <td>   -0.466</td> <td> 0.641</td> <td> -499.701</td> <td>  307.820</td>\n",
       "</tr>\n",
       "<tr>\n",
       "  <th>height_left</th>  <td>   -1.3022</td> <td>    1.634</td> <td>   -0.797</td> <td> 0.425</td> <td>   -4.504</td> <td>    1.900</td>\n",
       "</tr>\n",
       "<tr>\n",
       "  <th>height_right</th> <td>   -3.7465</td> <td>    1.568</td> <td>   -2.390</td> <td> 0.017</td> <td>   -6.819</td> <td>   -0.674</td>\n",
       "</tr>\n",
       "<tr>\n",
       "  <th>margin_up</th>    <td>  -10.3308</td> <td>    2.860</td> <td>   -3.613</td> <td> 0.000</td> <td>  -15.936</td> <td>   -4.726</td>\n",
       "</tr>\n",
       "<tr>\n",
       "  <th>margin_low</th>   <td>   -7.3118</td> <td>    1.571</td> <td>   -4.655</td> <td> 0.000</td> <td>  -10.391</td> <td>   -4.233</td>\n",
       "</tr>\n",
       "<tr>\n",
       "  <th>length</th>       <td>    6.1098</td> <td>    1.166</td> <td>    5.240</td> <td> 0.000</td> <td>    3.825</td> <td>    8.395</td>\n",
       "</tr>\n",
       "</table><br/><br/>Possibly complete quasi-separation: A fraction 0.61 of observations can be<br/>perfectly predicted. This might indicate that there is complete<br/>quasi-separation. In this case some parameters will not be identified."
      ],
      "text/plain": [
       "<class 'statsmodels.iolib.summary.Summary'>\n",
       "\"\"\"\n",
       "                           Logit Regression Results                           \n",
       "==============================================================================\n",
       "Dep. Variable:             is_genuine   No. Observations:                 1024\n",
       "Model:                          Logit   Df Residuals:                     1018\n",
       "Method:                           MLE   Df Model:                            5\n",
       "Date:                Wed, 17 Aug 2022   Pseudo R-squ.:                  0.9679\n",
       "Time:                        13:51:19   Log-Likelihood:                -21.108\n",
       "converged:                       True   LL-Null:                       -657.63\n",
       "Covariance Type:            nonrobust   LLR p-value:                4.400e-273\n",
       "================================================================================\n",
       "                   coef    std err          z      P>|z|      [0.025      0.975]\n",
       "--------------------------------------------------------------------------------\n",
       "const          -95.9404    206.004     -0.466      0.641    -499.701     307.820\n",
       "height_left     -1.3022      1.634     -0.797      0.425      -4.504       1.900\n",
       "height_right    -3.7465      1.568     -2.390      0.017      -6.819      -0.674\n",
       "margin_up      -10.3308      2.860     -3.613      0.000     -15.936      -4.726\n",
       "margin_low      -7.3118      1.571     -4.655      0.000     -10.391      -4.233\n",
       "length           6.1098      1.166      5.240      0.000       3.825       8.395\n",
       "================================================================================\n",
       "\n",
       "Possibly complete quasi-separation: A fraction 0.61 of observations can be\n",
       "perfectly predicted. This might indicate that there is complete\n",
       "quasi-separation. In this case some parameters will not be identified.\n",
       "\"\"\""
      ]
     },
     "execution_count": 24,
     "metadata": {},
     "output_type": "execute_result"
    }
   ],
   "source": [
    "xtrain2 = xtrain1.drop(columns=\"diagonal\")\n",
    "log_reg = sm.Logit(ytrain, xtrain2).fit() \n",
    "log_reg.summary()"
   ]
  },
  {
   "cell_type": "code",
   "execution_count": 25,
   "id": "def83507-fd59-4b14-ac0d-6d65affb9261",
   "metadata": {},
   "outputs": [
    {
     "data": {
      "text/plain": [
       "0.9840546697038725"
      ]
     },
     "execution_count": 25,
     "metadata": {},
     "output_type": "execute_result"
    }
   ],
   "source": [
    "xtest1 = xtest0.drop(columns=[\"diagonal\"])\n",
    "ypred = log_reg.predict(xtest1)\n",
    "prediction = list(map(round, ypred))\n",
    "accuracy_score(ytest, prediction)"
   ]
  },
  {
   "cell_type": "markdown",
   "id": "5c493620-d498-4491-a6aa-bd6c5de018f1",
   "metadata": {},
   "source": [
    "##### <font color=\"green\"> La variable la moins significative est cette fois : height_left </font>"
   ]
  },
  {
   "cell_type": "code",
   "execution_count": 26,
   "id": "a6265172-ae7f-4893-88bd-57bdeb8a5a49",
   "metadata": {},
   "outputs": [
    {
     "name": "stdout",
     "output_type": "stream",
     "text": [
      "Optimization terminated successfully.\n",
      "         Current function value: 0.020926\n",
      "         Iterations 13\n"
     ]
    },
    {
     "data": {
      "text/html": [
       "<table class=\"simpletable\">\n",
       "<caption>Logit Regression Results</caption>\n",
       "<tr>\n",
       "  <th>Dep. Variable:</th>      <td>is_genuine</td>    <th>  No. Observations:  </th>   <td>  1024</td>  \n",
       "</tr>\n",
       "<tr>\n",
       "  <th>Model:</th>                 <td>Logit</td>      <th>  Df Residuals:      </th>   <td>  1019</td>  \n",
       "</tr>\n",
       "<tr>\n",
       "  <th>Method:</th>                 <td>MLE</td>       <th>  Df Model:          </th>   <td>     4</td>  \n",
       "</tr>\n",
       "<tr>\n",
       "  <th>Date:</th>            <td>Wed, 17 Aug 2022</td> <th>  Pseudo R-squ.:     </th>   <td>0.9674</td>  \n",
       "</tr>\n",
       "<tr>\n",
       "  <th>Time:</th>                <td>13:51:19</td>     <th>  Log-Likelihood:    </th>  <td> -21.428</td> \n",
       "</tr>\n",
       "<tr>\n",
       "  <th>converged:</th>             <td>True</td>       <th>  LL-Null:           </th>  <td> -657.63</td> \n",
       "</tr>\n",
       "<tr>\n",
       "  <th>Covariance Type:</th>     <td>nonrobust</td>    <th>  LLR p-value:       </th> <td>3.189e-274</td>\n",
       "</tr>\n",
       "</table>\n",
       "<table class=\"simpletable\">\n",
       "<tr>\n",
       "        <td></td>          <th>coef</th>     <th>std err</th>      <th>z</th>      <th>P>|z|</th>  <th>[0.025</th>    <th>0.975]</th>  \n",
       "</tr>\n",
       "<tr>\n",
       "  <th>const</th>        <td> -183.6474</td> <td>  179.134</td> <td>   -1.025</td> <td> 0.305</td> <td> -534.744</td> <td>  167.449</td>\n",
       "</tr>\n",
       "<tr>\n",
       "  <th>height_right</th> <td>   -4.2984</td> <td>    1.522</td> <td>   -2.824</td> <td> 0.005</td> <td>   -7.282</td> <td>   -1.315</td>\n",
       "</tr>\n",
       "<tr>\n",
       "  <th>margin_up</th>    <td>  -10.1849</td> <td>    2.825</td> <td>   -3.606</td> <td> 0.000</td> <td>  -15.721</td> <td>   -4.649</td>\n",
       "</tr>\n",
       "<tr>\n",
       "  <th>margin_low</th>   <td>   -7.6050</td> <td>    1.565</td> <td>   -4.861</td> <td> 0.000</td> <td>  -10.672</td> <td>   -4.538</td>\n",
       "</tr>\n",
       "<tr>\n",
       "  <th>length</th>       <td>    6.2026</td> <td>    1.173</td> <td>    5.288</td> <td> 0.000</td> <td>    3.904</td> <td>    8.502</td>\n",
       "</tr>\n",
       "</table><br/><br/>Possibly complete quasi-separation: A fraction 0.62 of observations can be<br/>perfectly predicted. This might indicate that there is complete<br/>quasi-separation. In this case some parameters will not be identified."
      ],
      "text/plain": [
       "<class 'statsmodels.iolib.summary.Summary'>\n",
       "\"\"\"\n",
       "                           Logit Regression Results                           \n",
       "==============================================================================\n",
       "Dep. Variable:             is_genuine   No. Observations:                 1024\n",
       "Model:                          Logit   Df Residuals:                     1019\n",
       "Method:                           MLE   Df Model:                            4\n",
       "Date:                Wed, 17 Aug 2022   Pseudo R-squ.:                  0.9674\n",
       "Time:                        13:51:19   Log-Likelihood:                -21.428\n",
       "converged:                       True   LL-Null:                       -657.63\n",
       "Covariance Type:            nonrobust   LLR p-value:                3.189e-274\n",
       "================================================================================\n",
       "                   coef    std err          z      P>|z|      [0.025      0.975]\n",
       "--------------------------------------------------------------------------------\n",
       "const         -183.6474    179.134     -1.025      0.305    -534.744     167.449\n",
       "height_right    -4.2984      1.522     -2.824      0.005      -7.282      -1.315\n",
       "margin_up      -10.1849      2.825     -3.606      0.000     -15.721      -4.649\n",
       "margin_low      -7.6050      1.565     -4.861      0.000     -10.672      -4.538\n",
       "length           6.2026      1.173      5.288      0.000       3.904       8.502\n",
       "================================================================================\n",
       "\n",
       "Possibly complete quasi-separation: A fraction 0.62 of observations can be\n",
       "perfectly predicted. This might indicate that there is complete\n",
       "quasi-separation. In this case some parameters will not be identified.\n",
       "\"\"\""
      ]
     },
     "execution_count": 26,
     "metadata": {},
     "output_type": "execute_result"
    }
   ],
   "source": [
    "xtrain3 = xtrain2.drop(columns=\"height_left\")\n",
    "log_reg = sm.Logit(ytrain, xtrain3).fit() \n",
    "log_reg.summary()"
   ]
  },
  {
   "cell_type": "markdown",
   "id": "4e128800-56aa-42e7-85c9-f836287893f5",
   "metadata": {},
   "source": [
    "##### <font color=\"green\"> Cette fois toutes les variables sont significatives </font>"
   ]
  },
  {
   "cell_type": "markdown",
   "id": "3a43ccc7-3a90-4a67-8eb8-e6a4c1a7b74b",
   "metadata": {},
   "source": [
    "##### <font color=\"black\"> On prédit les valeurs sur l'echantillon de test </font>"
   ]
  },
  {
   "cell_type": "code",
   "execution_count": 27,
   "id": "36071897-e811-4c8b-b3df-74c2ce3a90e6",
   "metadata": {},
   "outputs": [],
   "source": [
    "xtest2 = xtest1.drop(columns=[\"height_left\"])\n",
    "ypred = log_reg.predict(xtest2)\n",
    "prediction = list(map(round, ypred))"
   ]
  },
  {
   "cell_type": "code",
   "execution_count": 28,
   "id": "167e54ee-1179-4f0b-8329-ae94e4b2ec26",
   "metadata": {},
   "outputs": [
    {
     "data": {
      "text/plain": [
       "0.9840546697038725"
      ]
     },
     "execution_count": 28,
     "metadata": {},
     "output_type": "execute_result"
    }
   ],
   "source": [
    "precision = accuracy_score(ytest, prediction)\n",
    "precision"
   ]
  },
  {
   "cell_type": "code",
   "execution_count": 29,
   "id": "ca054e18-75c8-4126-ab12-2ed5e9c5e895",
   "metadata": {},
   "outputs": [
    {
     "data": {
      "image/png": "[encoded data removed]",
      "text/plain": [
       "<Figure size 504x504 with 2 Axes>"
      ]
     },
     "metadata": {
      "needs_background": "light"
     },
     "output_type": "display_data"
    }
   ],
   "source": [
    "cm = confusion_matrix(ytest, prediction) \n",
    "plt.figure(figsize=(7,7))\n",
    "sns.heatmap(cm, annot=True, fmt=\".0f\", linewidths=.5, square = True, cmap = 'Blues_r');\n",
    "plt.ylabel('Actual label');\n",
    "plt.xlabel('Predicted label');\n",
    "all_sample_title = 'Accuracy Score: '+ str(round(precision,3))\n",
    "plt.title(all_sample_title, size = 10);"
   ]
  },
  {
   "cell_type": "code",
   "execution_count": 30,
   "id": "7ccb9fd7-a1b5-4458-a870-8c69e2bd9e28",
   "metadata": {},
   "outputs": [
    {
     "name": "stdout",
     "output_type": "stream",
     "text": [
      "Précision du modèle : 98.0%  Sensibilité du modèle : 99.0%  Spécificité du modèle : 97.0%\n"
     ]
    }
   ],
   "source": [
    "sensibilite = cm[1,1]/(cm[1,1]+cm[1,0])\n",
    "specificite = cm[0,0]/(cm[0,0]+cm[0,1])\n",
    "print(\"Précision du modèle : \"+str(round(precision,2)*100)+\"% \",\"Sensibilité du modèle : \"+str(round(sensibilite,2)*100)+\"% \",\"Spécificité du modèle : \"+str(round(specificite,2)*100)+\"%\")"
   ]
  },
  {
   "cell_type": "markdown",
   "id": "b12b5b31-f511-4e7d-b66f-abb7c796e054",
   "metadata": {},
   "source": [
    "##### <font color=\"green\"> Conclusion : modèle très précis </font>"
   ]
  },
  {
   "cell_type": "markdown",
   "id": "953ee436-39f4-4493-a34e-fa968be80bba",
   "metadata": {},
   "source": [
    "##### <font color=\"black\"> Mise en place de la régression logistique à l'aide de scikit-learn  </font>"
   ]
  },
  {
   "cell_type": "markdown",
   "id": "d4891fd1-8e46-4176-b1f0-e2894f3cac80",
   "metadata": {},
   "source": [
    "##### <font color=\"black\"> Sans pénalisation  </font>"
   ]
  },
  {
   "cell_type": "code",
   "execution_count": 31,
   "id": "5f0a2f68-5d89-4a63-9a79-d440caf0b854",
   "metadata": {},
   "outputs": [
    {
     "data": {
      "text/plain": [
       "0.9840546697038725"
      ]
     },
     "execution_count": 31,
     "metadata": {},
     "output_type": "execute_result"
    }
   ],
   "source": [
    "log_reg2 = LogisticRegression(penalty='none')\n",
    "log_reg2 = log_reg2.fit(xtrain, ytrain.is_genuine)\n",
    "log_reg2.score(xtest, ytest)"
   ]
  },
  {
   "cell_type": "markdown",
   "id": "3fda5811-f926-40cb-8572-a89ce4a4fe15",
   "metadata": {},
   "source": [
    "##### <font color=\"black\"> Avec pénalisation de type L2  </font>"
   ]
  },
  {
   "cell_type": "code",
   "execution_count": 32,
   "id": "97e9e7cd-a2f8-46cd-8841-3cfb61c9cd22",
   "metadata": {},
   "outputs": [
    {
     "data": {
      "text/plain": [
       "0.9863325740318907"
      ]
     },
     "execution_count": 32,
     "metadata": {},
     "output_type": "execute_result"
    }
   ],
   "source": [
    "log_reg3 = LogisticRegression(penalty='l2')\n",
    "log_reg3 = log_reg3.fit(xtrain, ytrain.is_genuine)\n",
    "log_reg3.score(xtest, ytest)"
   ]
  },
  {
   "cell_type": "markdown",
   "id": "ae12b04b-9114-4575-8f89-6cb311a4976f",
   "metadata": {},
   "source": [
    "##### <font color=\"black\"> Avec pénalisation de type L1  </font>"
   ]
  },
  {
   "cell_type": "code",
   "execution_count": 33,
   "id": "b2ebb1ed-bcfe-40f3-8793-bdaa0ba6ed87",
   "metadata": {},
   "outputs": [
    {
     "name": "stderr",
     "output_type": "stream",
     "text": [
      "/opt/anaconda3/lib/python3.8/site-packages/sklearn/svm/_base.py:1206: ConvergenceWarning: Liblinear failed to converge, increase the number of iterations.\n",
      "  warnings.warn(\n"
     ]
    },
    {
     "data": {
      "text/plain": [
       "0.9817767653758542"
      ]
     },
     "execution_count": 33,
     "metadata": {},
     "output_type": "execute_result"
    }
   ],
   "source": [
    "log_reg4 = LogisticRegression(penalty='l1', solver='liblinear')\n",
    "log_reg4 = log_reg4.fit(xtrain, ytrain.is_genuine)\n",
    "log_reg4.score(xtest, ytest)"
   ]
  },
  {
   "cell_type": "markdown",
   "id": "f60b0bb5-b557-412c-b8c9-adfd814009c7",
   "metadata": {},
   "source": [
    "##### <font color=\"black\"> Avec méthode de cross-validation  </font>"
   ]
  },
  {
   "cell_type": "code",
   "execution_count": 34,
   "id": "48c563af-58b8-4154-9fa6-d5fabaf9a1ae",
   "metadata": {},
   "outputs": [
    {
     "name": "stderr",
     "output_type": "stream",
     "text": [
      "/opt/anaconda3/lib/python3.8/site-packages/sklearn/linear_model/_logistic.py:814: ConvergenceWarning: lbfgs failed to converge (status=1):\n",
      "STOP: TOTAL NO. of ITERATIONS REACHED LIMIT.\n",
      "\n",
      "Increase the number of iterations (max_iter) or scale the data as shown in:\n",
      "    https://scikit-learn.org/stable/modules/preprocessing.html\n",
      "Please also refer to the documentation for alternative solver options:\n",
      "    https://scikit-learn.org/stable/modules/linear_model.html#logistic-regression\n",
      "  n_iter_i = _check_optimize_result(\n",
      "/opt/anaconda3/lib/python3.8/site-packages/sklearn/linear_model/_logistic.py:814: ConvergenceWarning: lbfgs failed to converge (status=1):\n",
      "STOP: TOTAL NO. of ITERATIONS REACHED LIMIT.\n",
      "\n",
      "Increase the number of iterations (max_iter) or scale the data as shown in:\n",
      "    https://scikit-learn.org/stable/modules/preprocessing.html\n",
      "Please also refer to the documentation for alternative solver options:\n",
      "    https://scikit-learn.org/stable/modules/linear_model.html#logistic-regression\n",
      "  n_iter_i = _check_optimize_result(\n",
      "/opt/anaconda3/lib/python3.8/site-packages/sklearn/linear_model/_logistic.py:814: ConvergenceWarning: lbfgs failed to converge (status=1):\n",
      "STOP: TOTAL NO. of ITERATIONS REACHED LIMIT.\n",
      "\n",
      "Increase the number of iterations (max_iter) or scale the data as shown in:\n",
      "    https://scikit-learn.org/stable/modules/preprocessing.html\n",
      "Please also refer to the documentation for alternative solver options:\n",
      "    https://scikit-learn.org/stable/modules/linear_model.html#logistic-regression\n",
      "  n_iter_i = _check_optimize_result(\n",
      "/opt/anaconda3/lib/python3.8/site-packages/sklearn/linear_model/_logistic.py:814: ConvergenceWarning: lbfgs failed to converge (status=1):\n",
      "STOP: TOTAL NO. of ITERATIONS REACHED LIMIT.\n",
      "\n",
      "Increase the number of iterations (max_iter) or scale the data as shown in:\n",
      "    https://scikit-learn.org/stable/modules/preprocessing.html\n",
      "Please also refer to the documentation for alternative solver options:\n",
      "    https://scikit-learn.org/stable/modules/linear_model.html#logistic-regression\n",
      "  n_iter_i = _check_optimize_result(\n",
      "/opt/anaconda3/lib/python3.8/site-packages/sklearn/linear_model/_logistic.py:814: ConvergenceWarning: lbfgs failed to converge (status=1):\n",
      "STOP: TOTAL NO. of ITERATIONS REACHED LIMIT.\n",
      "\n",
      "Increase the number of iterations (max_iter) or scale the data as shown in:\n",
      "    https://scikit-learn.org/stable/modules/preprocessing.html\n",
      "Please also refer to the documentation for alternative solver options:\n",
      "    https://scikit-learn.org/stable/modules/linear_model.html#logistic-regression\n",
      "  n_iter_i = _check_optimize_result(\n",
      "/opt/anaconda3/lib/python3.8/site-packages/sklearn/linear_model/_logistic.py:814: ConvergenceWarning: lbfgs failed to converge (status=1):\n",
      "STOP: TOTAL NO. of ITERATIONS REACHED LIMIT.\n",
      "\n",
      "Increase the number of iterations (max_iter) or scale the data as shown in:\n",
      "    https://scikit-learn.org/stable/modules/preprocessing.html\n",
      "Please also refer to the documentation for alternative solver options:\n",
      "    https://scikit-learn.org/stable/modules/linear_model.html#logistic-regression\n",
      "  n_iter_i = _check_optimize_result(\n"
     ]
    },
    {
     "data": {
      "text/plain": [
       "0.9863325740318907"
      ]
     },
     "execution_count": 34,
     "metadata": {},
     "output_type": "execute_result"
    }
   ],
   "source": [
    "parameters = {'C':[.01, .1, 1, 10]}\n",
    "logit = GridSearchCV(LogisticRegression(penalty=\"l2\", solver=\"lbfgs\"),\n",
    "parameters,cv=5)\n",
    "logitOpt=logit.fit(xtrain, ytrain.is_genuine)\n",
    "\n",
    "log_reg5 = LogisticRegression(penalty='l2', C=logitOpt.best_params_[\"C\"])\n",
    "log_reg5 = log_reg5.fit(xtrain, ytrain.is_genuine)\n",
    "log_reg5.score(xtest, ytest)"
   ]
  },
  {
   "cell_type": "markdown",
   "id": "f9af0843-933f-4973-a6d9-40f7903eeb30",
   "metadata": {},
   "source": [
    "##### <font color=\"green\"> La régression est plus précise avec pénalisation du modèle de type L2 </font>"
   ]
  },
  {
   "cell_type": "code",
   "execution_count": 35,
   "id": "87817f16-3aca-4209-9d03-1927b15b2d6a",
   "metadata": {},
   "outputs": [],
   "source": [
    "precision = log_reg3.score(xtest, ytest)\n",
    "prediction = log_reg3.predict(xtest)\n",
    "cm = confusion_matrix(ytest, prediction) "
   ]
  },
  {
   "cell_type": "code",
   "execution_count": 36,
   "id": "fbd82f4b-ff7d-4ca0-a0ce-4c49f4fde895",
   "metadata": {},
   "outputs": [
    {
     "data": {
      "text/plain": [
       "Text(0.5, 1.0, 'Accuracy Score: 0.986')"
      ]
     },
     "execution_count": 36,
     "metadata": {},
     "output_type": "execute_result"
    },
    {
     "data": {
      "image/png": "[encoded data removed]",
      "text/plain": [
       "<Figure size 504x504 with 2 Axes>"
      ]
     },
     "metadata": {
      "needs_background": "light"
     },
     "output_type": "display_data"
    }
   ],
   "source": [
    "plt.figure(figsize=(7,7))\n",
    "sns.heatmap(cm, annot=True, fmt=\".0f\", linewidths=.5, square = True, cmap = 'Blues_r');\n",
    "plt.ylabel('Actual label');\n",
    "plt.xlabel('Predicted label');\n",
    "all_sample_title = 'Accuracy Score: '+ str(round(precision,3))\n",
    "plt.title(all_sample_title, size = 10)"
   ]
  },
  {
   "cell_type": "code",
   "execution_count": 37,
   "id": "b8b06eac-24b2-421d-8581-a650bfdbb6de",
   "metadata": {},
   "outputs": [
    {
     "name": "stdout",
     "output_type": "stream",
     "text": [
      "Précision du modèle : 98.6%Sensibilité du modèle : 99.3% Spécificité du modèle : 97.2%\n"
     ]
    }
   ],
   "source": [
    "sensibilite = cm[1,1]/(cm[1,1]+cm[1,0])\n",
    "specificite = cm[0,0]/(cm[0,0]+cm[0,1])\n",
    "print(\"Précision du modèle : \"+str(round(precision,3)*100)+\"%\"\"Sensibilité du modèle : \"+str(round(sensibilite,3)*100)+\"%\",\"Spécificité du modèle : \"+str(round(specificite,3)*100)+\"%\")"
   ]
  },
  {
   "cell_type": "markdown",
   "id": "b7c719c8-671c-44e7-8ef2-237e59d28c6f",
   "metadata": {},
   "source": [
    "##### <font color=\"green\"> Conclusion : on retient le modele de sickit learn avec pénalisation de type L2 </font>"
   ]
  },
  {
   "cell_type": "markdown",
   "id": "da7a3bbe-de96-4e95-8829-2e345a196576",
   "metadata": {},
   "source": [
    "##### <font color=\"black\"> On va maintenant regarder en détail les erreurs </font>"
   ]
  },
  {
   "cell_type": "code",
   "execution_count": 38,
   "id": "ca4529b7-57d2-46c7-a3ab-0ee298290929",
   "metadata": {},
   "outputs": [],
   "source": [
    "df_verif = xtest.merge(ytest,left_index=True, right_index=True)\n",
    "df_verif.insert(loc=7, column=\"predict\", value=prediction)"
   ]
  },
  {
   "cell_type": "code",
   "execution_count": 39,
   "id": "3545777b-7963-4a5e-816e-402ffc863f25",
   "metadata": {},
   "outputs": [],
   "source": [
    "def classification(tab):\n",
    "    if tab.is_genuine == True and tab.predict == True:\n",
    "        return \"VP\"\n",
    "    elif tab.is_genuine == False and tab.predict == False:\n",
    "        return \"VN\"\n",
    "    elif tab.is_genuine == True and tab.predict == False:\n",
    "        return \"FN\"\n",
    "    elif tab.is_genuine == False and tab.predict == True:\n",
    "        return \"FP\"\n",
    "\n",
    "classement = df_verif.apply(classification, axis=1)\n",
    "df_verif.insert(loc=8, column=\"classement\", value=classement)"
   ]
  },
  {
   "cell_type": "code",
   "execution_count": 40,
   "id": "c8a6bf69-c8b8-4f73-bf55-2f1197b9e3b2",
   "metadata": {},
   "outputs": [
    {
     "data": {
      "text/html": [
       "<div>\n",
       "<style scoped>\n",
       "    .dataframe tbody tr th:only-of-type {\n",
       "        vertical-align: middle;\n",
       "    }\n",
       "\n",
       "    .dataframe tbody tr th {\n",
       "        vertical-align: top;\n",
       "    }\n",
       "\n",
       "    .dataframe thead th {\n",
       "        text-align: right;\n",
       "    }\n",
       "</style>\n",
       "<table border=\"1\" class=\"dataframe\">\n",
       "  <thead>\n",
       "    <tr style=\"text-align: right;\">\n",
       "      <th></th>\n",
       "      <th>diagonal</th>\n",
       "      <th>height_left</th>\n",
       "      <th>height_right</th>\n",
       "      <th>length</th>\n",
       "      <th>margin_low</th>\n",
       "      <th>margin_up</th>\n",
       "    </tr>\n",
       "    <tr>\n",
       "      <th>classement</th>\n",
       "      <th></th>\n",
       "      <th></th>\n",
       "      <th></th>\n",
       "      <th></th>\n",
       "      <th></th>\n",
       "      <th></th>\n",
       "    </tr>\n",
       "  </thead>\n",
       "  <tbody>\n",
       "    <tr>\n",
       "      <th>FN</th>\n",
       "      <td>172.060000</td>\n",
       "      <td>104.390000</td>\n",
       "      <td>104.140000</td>\n",
       "      <td>112.600000</td>\n",
       "      <td>4.650000</td>\n",
       "      <td>3.115000</td>\n",
       "    </tr>\n",
       "    <tr>\n",
       "      <th>FP</th>\n",
       "      <td>172.067500</td>\n",
       "      <td>104.017500</td>\n",
       "      <td>103.967500</td>\n",
       "      <td>112.740000</td>\n",
       "      <td>4.172500</td>\n",
       "      <td>3.302500</td>\n",
       "    </tr>\n",
       "    <tr>\n",
       "      <th>VN</th>\n",
       "      <td>171.871522</td>\n",
       "      <td>104.177464</td>\n",
       "      <td>104.159275</td>\n",
       "      <td>111.591232</td>\n",
       "      <td>5.261232</td>\n",
       "      <td>3.358116</td>\n",
       "    </tr>\n",
       "    <tr>\n",
       "      <th>VP</th>\n",
       "      <td>171.976441</td>\n",
       "      <td>103.937966</td>\n",
       "      <td>103.835593</td>\n",
       "      <td>113.195153</td>\n",
       "      <td>4.120305</td>\n",
       "      <td>3.057966</td>\n",
       "    </tr>\n",
       "  </tbody>\n",
       "</table>\n",
       "</div>"
      ],
      "text/plain": [
       "              diagonal  height_left  height_right      length  margin_low  \\\n",
       "classement                                                                  \n",
       "FN          172.060000   104.390000    104.140000  112.600000    4.650000   \n",
       "FP          172.067500   104.017500    103.967500  112.740000    4.172500   \n",
       "VN          171.871522   104.177464    104.159275  111.591232    5.261232   \n",
       "VP          171.976441   103.937966    103.835593  113.195153    4.120305   \n",
       "\n",
       "            margin_up  \n",
       "classement             \n",
       "FN           3.115000  \n",
       "FP           3.302500  \n",
       "VN           3.358116  \n",
       "VP           3.057966  "
      ]
     },
     "execution_count": 40,
     "metadata": {},
     "output_type": "execute_result"
    }
   ],
   "source": [
    "piv = df_verif.pivot_table(index=\"classement\", values=[\"diagonal\", \"height_left\", \"height_right\", \"margin_up\", \"margin_low\", \"length\"], aggfunc=np.mean)\n",
    "piv"
   ]
  },
  {
   "cell_type": "code",
   "execution_count": 41,
   "id": "f3471f1d-7f0c-400b-adc1-5fc567bf7692",
   "metadata": {},
   "outputs": [
    {
     "data": {
      "image/png": "[encoded data removed]",
      "text/plain": [
       "<Figure size 1008x720 with 6 Axes>"
      ]
     },
     "metadata": {
      "needs_background": "light"
     },
     "output_type": "display_data"
    }
   ],
   "source": [
    "# Barplot\n",
    "num_col = [\"diagonal\", \"height_left\", \"height_right\", \"margin_up\", \"margin_low\", \"length\"]\n",
    "fig, ax = plt.subplots(nrows=2, ncols=3, figsize=(14,10))\n",
    "for col, i, j in zip(num_col, [0,0,0,1,1,1], [0,1,2,0,1,2]):\n",
    "    g = sns.barplot(ax=ax[i,j], data=df_verif, y=col, x=classement,ci=None, estimator=np.mean, palette=\"Pastel1\") \n",
    "    g.set(xlabel='', ylabel='')\n",
    "    g.set_title(col, c=\"blue\")\n",
    "    \n",
    "    labels = [round(piv[col].loc[\"VP\"],2), round(piv[col].loc[\"VN\"],2), round(piv[col].loc[\"FP\"],2), round(piv[col].loc[\"FN\"],2)]\n",
    "    rects = g.patches\n",
    "    for rect, label in zip(rects, labels):\n",
    "        height = rect.get_height()\n",
    "        g.text(\n",
    "            rect.get_x() + rect.get_width() / 2, height + 0.05, label, ha=\"center\", va=\"bottom\"\n",
    "        )"
   ]
  },
  {
   "cell_type": "markdown",
   "id": "74b36d11-0b34-4668-a95d-1d5e1681a0cd",
   "metadata": {},
   "source": [
    "# <font color=\"blue\"> K-Means </font>"
   ]
  },
  {
   "cell_type": "code",
   "execution_count": 42,
   "id": "d7800903-0c76-4e94-af63-77fbbe60cf3f",
   "metadata": {},
   "outputs": [],
   "source": [
    "# Centrage et réduction des variables\n",
    "std_scale = preprocessing.StandardScaler().fit(xtrain)\n",
    "xtrain_scaled = std_scale.transform(xtrain)\n",
    "std_scale = preprocessing.StandardScaler().fit(xtest)\n",
    "xtest_scaled = std_scale.transform(xtest)\n",
    "\n",
    "# Mise en place du KMEANS\n",
    "km = KMeans(n_clusters= 2)\n",
    "km.fit(xtrain_scaled)\n",
    "clusters_kmeans = km.labels_\n",
    "centroids_after_kmeans = km.cluster_centers_"
   ]
  },
  {
   "cell_type": "code",
   "execution_count": 43,
   "id": "dfc3e550-932d-4ed4-85eb-3a178fbbe957",
   "metadata": {},
   "outputs": [
    {
     "data": {
      "text/plain": [
       "Text(0.5, 1.0, 'The Elbow Method using Inertia')"
      ]
     },
     "execution_count": 43,
     "metadata": {},
     "output_type": "execute_result"
    },
    {
     "data": {
      "image/png": "[encoded data removed]",
      "text/plain": [
       "<Figure size 432x288 with 1 Axes>"
      ]
     },
     "metadata": {
      "needs_background": "light"
     },
     "output_type": "display_data"
    }
   ],
   "source": [
    "# Diagramme d'inertie\n",
    "inertias = [] \n",
    "mapping = {} \n",
    "K = range(1,12) \n",
    "  \n",
    "for k in K: \n",
    "    kmeanModel = KMeans(n_clusters=k).fit(xtrain_scaled)   \n",
    "    kmeanModel.fit(xtrain_scaled) \n",
    "    \n",
    "    inertias.append(kmeanModel.inertia_) \n",
    "  \n",
    "    mapping[k] = kmeanModel.inertia_ \n",
    "    \n",
    "plt.plot(K, inertias, 'bx-') \n",
    "plt.xlabel('Values of K') \n",
    "plt.ylabel('Inertia') \n",
    "plt.title('The Elbow Method using Inertia') "
   ]
  },
  {
   "cell_type": "code",
   "execution_count": 44,
   "id": "815e14c7-53a0-41b2-8b90-f426fbf2ba00",
   "metadata": {},
   "outputs": [
    {
     "data": {
      "text/plain": [
       "0.9749430523917996"
      ]
     },
     "execution_count": 44,
     "metadata": {},
     "output_type": "execute_result"
    }
   ],
   "source": [
    "# Prédictions\n",
    "prediction = km.predict(xtest_scaled)\n",
    "prediction_inv = []\n",
    "for elt in prediction :\n",
    "    if elt ==1 :\n",
    "        pred = 0\n",
    "    else :\n",
    "        pred = 1\n",
    "    prediction_inv.append(pred)\n",
    "prediction_inv = np.array(prediction_inv)\n",
    "precision1 = accuracy_score(ytest, prediction_inv)\n",
    "precision2 = accuracy_score(ytest, prediction)\n",
    "if precision1 > precision2 :\n",
    "    precision = precision1\n",
    "    prediction = prediction_inv\n",
    "else :\n",
    "    precision = precision2  \n",
    "\n",
    "precision"
   ]
  },
  {
   "cell_type": "code",
   "execution_count": 45,
   "id": "bc476c2b-c9be-4d82-83a2-b9ca9a299ef0",
   "metadata": {},
   "outputs": [
    {
     "data": {
      "text/plain": [
       "Text(0.5, 1.0, 'Accuracy Score: 0.975')"
      ]
     },
     "execution_count": 45,
     "metadata": {},
     "output_type": "execute_result"
    },
    {
     "data": {
      "image/png": "[encoded data removed]",
      "text/plain": [
       "<Figure size 504x504 with 2 Axes>"
      ]
     },
     "metadata": {
      "needs_background": "light"
     },
     "output_type": "display_data"
    }
   ],
   "source": [
    "cm = confusion_matrix(ytest, prediction) \n",
    "plt.figure(figsize=(7,7))\n",
    "sns.heatmap(cm, annot=True, fmt=\".0f\", linewidths=.5, square = True, cmap = 'Blues_r');\n",
    "plt.ylabel('Actual label');\n",
    "plt.xlabel('Predicted label');\n",
    "all_sample_title = 'Accuracy Score: '+ str(round(precision,3))\n",
    "plt.title(all_sample_title, size = 10)"
   ]
  },
  {
   "cell_type": "markdown",
   "id": "99c8045d-f5f7-4e4e-b7c6-6d20a285fd23",
   "metadata": {},
   "source": [
    "##### <font color=\"green\"> Conclusion : KMeans est légèrement moins précis que la régression logistique </font>"
   ]
  },
  {
   "cell_type": "markdown",
   "id": "0a3fd0ae-3ce5-4744-bda1-efbcc8f91b30",
   "metadata": {},
   "source": [
    "# <font color=\"blue\"> SGD </font>"
   ]
  },
  {
   "cell_type": "code",
   "execution_count": 46,
   "id": "bb88093c-2014-4a27-b66b-151e88c04ad4",
   "metadata": {},
   "outputs": [],
   "source": [
    "# Mise en place du SGD\n",
    "sgd = SGDClassifier(loss=\"log\",penalty=\"none\",learning_rate=\"constant\",eta0=0.1,max_iter=100,tol=None)"
   ]
  },
  {
   "cell_type": "code",
   "execution_count": 47,
   "id": "0fe17eeb-5462-44f3-9ee6-94e4835a3524",
   "metadata": {},
   "outputs": [
    {
     "data": {
      "text/plain": [
       "SGDClassifier(eta0=0.1, learning_rate='constant', loss='log', max_iter=100,\n",
       "              penalty='none', tol=None)"
      ]
     },
     "execution_count": 47,
     "metadata": {},
     "output_type": "execute_result"
    }
   ],
   "source": [
    "# Application du SGD à nos données\n",
    "sgd.fit(xtrain, ytrain.is_genuine)"
   ]
  },
  {
   "cell_type": "code",
   "execution_count": 48,
   "id": "f344dff9-8dd0-4d5b-8116-b9ed73c32f80",
   "metadata": {},
   "outputs": [
    {
     "data": {
      "text/plain": [
       "100"
      ]
     },
     "execution_count": 48,
     "metadata": {},
     "output_type": "execute_result"
    }
   ],
   "source": [
    "# Nombre d'itérations réalisées\n",
    "sgd.n_iter_"
   ]
  },
  {
   "cell_type": "code",
   "execution_count": 49,
   "id": "463a7b9d-4b7c-4004-8ee6-61a089506324",
   "metadata": {},
   "outputs": [],
   "source": [
    "# Prédictions des données de test\n",
    "prediction = sgd.predict(xtest)"
   ]
  },
  {
   "cell_type": "code",
   "execution_count": 50,
   "id": "67127c34-1937-41e1-9794-aa347049f6f9",
   "metadata": {},
   "outputs": [
    {
     "data": {
      "text/plain": [
       "0.9840546697038725"
      ]
     },
     "execution_count": 50,
     "metadata": {},
     "output_type": "execute_result"
    }
   ],
   "source": [
    "# Précision du modèle\n",
    "precision = accuracy_score(ytest, prediction)\n",
    "precision"
   ]
  },
  {
   "cell_type": "code",
   "execution_count": 51,
   "id": "314b319e-e317-4ceb-b671-4afced6ef512",
   "metadata": {},
   "outputs": [],
   "source": [
    "# Matrice de confusion\n",
    "cm = confusion_matrix(ytest, prediction) "
   ]
  },
  {
   "cell_type": "code",
   "execution_count": 52,
   "id": "76edd94b-cf51-49ff-909d-264f1af26175",
   "metadata": {},
   "outputs": [
    {
     "data": {
      "text/plain": [
       "Text(0.5, 1.0, 'Accuracy Score: 0.984')"
      ]
     },
     "execution_count": 52,
     "metadata": {},
     "output_type": "execute_result"
    },
    {
     "data": {
      "image/png": "[encoded data removed]",
      "text/plain": [
       "<Figure size 504x504 with 2 Axes>"
      ]
     },
     "metadata": {
      "needs_background": "light"
     },
     "output_type": "display_data"
    }
   ],
   "source": [
    "plt.figure(figsize=(7,7))\n",
    "sns.heatmap(cm, annot=True, fmt=\".0f\", linewidths=.5, square = True, cmap = 'Blues_r');\n",
    "plt.ylabel('Actual label');\n",
    "plt.xlabel('Predicted label');\n",
    "all_sample_title = 'Accuracy Score: '+ str(round(precision,3))\n",
    "plt.title(all_sample_title, size = 10)"
   ]
  },
  {
   "cell_type": "markdown",
   "id": "9e20321d-dc48-4bc8-bbe7-81b7863616e0",
   "metadata": {},
   "source": [
    "# <font color=\"black\"> Test sur autres données </font>"
   ]
  },
  {
   "cell_type": "markdown",
   "id": "94d5c370-4de0-462c-bed7-2a87f88fb0dc",
   "metadata": {},
   "source": [
    "## Format \"billets\""
   ]
  },
  {
   "cell_type": "code",
   "execution_count": 53,
   "id": "7c7a2925-6c94-4c39-ac27-76db0e48ba08",
   "metadata": {},
   "outputs": [
    {
     "data": {
      "text/html": [
       "<div>\n",
       "<style scoped>\n",
       "    .dataframe tbody tr th:only-of-type {\n",
       "        vertical-align: middle;\n",
       "    }\n",
       "\n",
       "    .dataframe tbody tr th {\n",
       "        vertical-align: top;\n",
       "    }\n",
       "\n",
       "    .dataframe thead th {\n",
       "        text-align: right;\n",
       "    }\n",
       "</style>\n",
       "<table border=\"1\" class=\"dataframe\">\n",
       "  <thead>\n",
       "    <tr style=\"text-align: right;\">\n",
       "      <th></th>\n",
       "      <th>is_genuine</th>\n",
       "      <th>diagonal</th>\n",
       "      <th>height_left</th>\n",
       "      <th>height_right</th>\n",
       "      <th>margin_low</th>\n",
       "      <th>margin_up</th>\n",
       "      <th>length</th>\n",
       "    </tr>\n",
       "  </thead>\n",
       "  <tbody>\n",
       "    <tr>\n",
       "      <th>0</th>\n",
       "      <td>True</td>\n",
       "      <td>171.81</td>\n",
       "      <td>104.86</td>\n",
       "      <td>104.95</td>\n",
       "      <td>4.52</td>\n",
       "      <td>2.89</td>\n",
       "      <td>112.83</td>\n",
       "    </tr>\n",
       "    <tr>\n",
       "      <th>1</th>\n",
       "      <td>True</td>\n",
       "      <td>171.46</td>\n",
       "      <td>103.36</td>\n",
       "      <td>103.66</td>\n",
       "      <td>3.77</td>\n",
       "      <td>2.99</td>\n",
       "      <td>113.09</td>\n",
       "    </tr>\n",
       "    <tr>\n",
       "      <th>2</th>\n",
       "      <td>True</td>\n",
       "      <td>172.69</td>\n",
       "      <td>104.48</td>\n",
       "      <td>103.50</td>\n",
       "      <td>4.40</td>\n",
       "      <td>2.94</td>\n",
       "      <td>113.16</td>\n",
       "    </tr>\n",
       "    <tr>\n",
       "      <th>3</th>\n",
       "      <td>True</td>\n",
       "      <td>171.36</td>\n",
       "      <td>103.91</td>\n",
       "      <td>103.94</td>\n",
       "      <td>3.62</td>\n",
       "      <td>3.01</td>\n",
       "      <td>113.51</td>\n",
       "    </tr>\n",
       "    <tr>\n",
       "      <th>4</th>\n",
       "      <td>True</td>\n",
       "      <td>171.73</td>\n",
       "      <td>104.28</td>\n",
       "      <td>103.46</td>\n",
       "      <td>4.04</td>\n",
       "      <td>3.48</td>\n",
       "      <td>112.54</td>\n",
       "    </tr>\n",
       "  </tbody>\n",
       "</table>\n",
       "</div>"
      ],
      "text/plain": [
       "   is_genuine  diagonal  height_left  height_right  margin_low  margin_up  \\\n",
       "0        True    171.81       104.86        104.95        4.52       2.89   \n",
       "1        True    171.46       103.36        103.66        3.77       2.99   \n",
       "2        True    172.69       104.48        103.50        4.40       2.94   \n",
       "3        True    171.36       103.91        103.94        3.62       3.01   \n",
       "4        True    171.73       104.28        103.46        4.04       3.48   \n",
       "\n",
       "   length  \n",
       "0  112.83  \n",
       "1  113.09  \n",
       "2  113.16  \n",
       "3  113.51  \n",
       "4  112.54  "
      ]
     },
     "execution_count": 53,
     "metadata": {},
     "output_type": "execute_result"
    }
   ],
   "source": [
    "data = pd.read_csv(\"Data/billets.csv\", sep=\";\")\n",
    "data = data.dropna()\n",
    "data.head()"
   ]
  },
  {
   "cell_type": "code",
   "execution_count": 54,
   "id": "eb10e3dd-e94b-4bd2-bf1c-26722cbfa637",
   "metadata": {},
   "outputs": [],
   "source": [
    "def model_pred(data, reg=log_reg3): # log_reg3 = regression logistique avec penalisation L2\n",
    "    x = data[[\"diagonal\", \"height_left\", \"height_right\", \"margin_up\", \"margin_low\",\"length\"]]\n",
    "    y = data[[\"is_genuine\"]]\n",
    "    precision = reg.score(x, y)\n",
    "    prediction = reg.predict(x)\n",
    "    cm = confusion_matrix(y, prediction) \n",
    "    plt.figure(figsize=(7,7))\n",
    "    sns.heatmap(cm, annot=True, fmt=\".0f\", linewidths=.5, square = True, cmap = 'Blues_r');\n",
    "    plt.ylabel('Actual label');\n",
    "    plt.xlabel('Predicted label');\n",
    "    all_sample_title = 'Accuracy Score: '+ str(round(precision,3))\n",
    "    plt.title(all_sample_title, size = 10)\n",
    "    return precision\n",
    "    "
   ]
  },
  {
   "cell_type": "code",
   "execution_count": 55,
   "id": "a0698865-d1d8-4589-b252-d04b4b4df8dc",
   "metadata": {},
   "outputs": [
    {
     "data": {
      "text/plain": [
       "0.9904306220095693"
      ]
     },
     "execution_count": 55,
     "metadata": {},
     "output_type": "execute_result"
    },
    {
     "data": {
      "image/png": "[encoded data removed]",
      "text/plain": [
       "<Figure size 504x504 with 2 Axes>"
      ]
     },
     "metadata": {
      "needs_background": "light"
     },
     "output_type": "display_data"
    }
   ],
   "source": [
    "model_pred(data)"
   ]
  },
  {
   "cell_type": "markdown",
   "id": "3f6304e3-2dcd-4c83-b342-894ec82b14c6",
   "metadata": {},
   "source": [
    "## Format \"billets_production\" (soutenance)"
   ]
  },
  {
   "cell_type": "code",
   "execution_count": 59,
   "id": "308d70ec-c9c0-4ceb-91da-f044e3dc8ad2",
   "metadata": {},
   "outputs": [
    {
     "data": {
      "text/html": [
       "<div>\n",
       "<style scoped>\n",
       "    .dataframe tbody tr th:only-of-type {\n",
       "        vertical-align: middle;\n",
       "    }\n",
       "\n",
       "    .dataframe tbody tr th {\n",
       "        vertical-align: top;\n",
       "    }\n",
       "\n",
       "    .dataframe thead th {\n",
       "        text-align: right;\n",
       "    }\n",
       "</style>\n",
       "<table border=\"1\" class=\"dataframe\">\n",
       "  <thead>\n",
       "    <tr style=\"text-align: right;\">\n",
       "      <th></th>\n",
       "      <th>diagonal</th>\n",
       "      <th>height_left</th>\n",
       "      <th>height_right</th>\n",
       "      <th>margin_low</th>\n",
       "      <th>margin_up</th>\n",
       "      <th>length</th>\n",
       "      <th>id</th>\n",
       "    </tr>\n",
       "  </thead>\n",
       "  <tbody>\n",
       "    <tr>\n",
       "      <th>0</th>\n",
       "      <td>172.09</td>\n",
       "      <td>103.95</td>\n",
       "      <td>103.73</td>\n",
       "      <td>4.39</td>\n",
       "      <td>3.09</td>\n",
       "      <td>113.19</td>\n",
       "      <td>B_1</td>\n",
       "    </tr>\n",
       "    <tr>\n",
       "      <th>1</th>\n",
       "      <td>171.52</td>\n",
       "      <td>104.17</td>\n",
       "      <td>104.03</td>\n",
       "      <td>5.27</td>\n",
       "      <td>3.16</td>\n",
       "      <td>111.82</td>\n",
       "      <td>B_2</td>\n",
       "    </tr>\n",
       "    <tr>\n",
       "      <th>2</th>\n",
       "      <td>171.78</td>\n",
       "      <td>103.80</td>\n",
       "      <td>103.75</td>\n",
       "      <td>3.81</td>\n",
       "      <td>3.24</td>\n",
       "      <td>113.39</td>\n",
       "      <td>B_3</td>\n",
       "    </tr>\n",
       "    <tr>\n",
       "      <th>3</th>\n",
       "      <td>172.02</td>\n",
       "      <td>104.08</td>\n",
       "      <td>103.99</td>\n",
       "      <td>5.57</td>\n",
       "      <td>3.30</td>\n",
       "      <td>111.10</td>\n",
       "      <td>B_4</td>\n",
       "    </tr>\n",
       "    <tr>\n",
       "      <th>4</th>\n",
       "      <td>171.79</td>\n",
       "      <td>104.34</td>\n",
       "      <td>104.37</td>\n",
       "      <td>5.00</td>\n",
       "      <td>3.07</td>\n",
       "      <td>111.87</td>\n",
       "      <td>B_5</td>\n",
       "    </tr>\n",
       "  </tbody>\n",
       "</table>\n",
       "</div>"
      ],
      "text/plain": [
       "   diagonal  height_left  height_right  margin_low  margin_up  length   id\n",
       "0    172.09       103.95        103.73        4.39       3.09  113.19  B_1\n",
       "1    171.52       104.17        104.03        5.27       3.16  111.82  B_2\n",
       "2    171.78       103.80        103.75        3.81       3.24  113.39  B_3\n",
       "3    172.02       104.08        103.99        5.57       3.30  111.10  B_4\n",
       "4    171.79       104.34        104.37        5.00       3.07  111.87  B_5"
      ]
     },
     "execution_count": 59,
     "metadata": {},
     "output_type": "execute_result"
    }
   ],
   "source": [
    "data = pd.read_csv(\"Data/billets_test_ML_P10.csv\", sep=\",\")\n",
    "data.head()"
   ]
  },
  {
   "cell_type": "code",
   "execution_count": 60,
   "id": "df7de885-c9cf-4d60-a1b8-9c2fef4c73cd",
   "metadata": {},
   "outputs": [],
   "source": [
    "def model_pred2(data, reg=log_reg3): # log_reg3 = regression logistique avec penalisation L2\n",
    "    x = data[[\"diagonal\", \"height_left\", \"height_right\", \"margin_up\", \"margin_low\",\"length\"]]\n",
    "    prediction = reg.predict(x)\n",
    "    data.insert(loc=7, column=\"prediction\", value=prediction)\n",
    "    return data\n",
    "   "
   ]
  },
  {
   "cell_type": "code",
   "execution_count": 61,
   "id": "4b2d2a1e-cc7f-4a90-9991-0b0b6bf5c0a9",
   "metadata": {},
   "outputs": [
    {
     "data": {
      "text/html": [
       "<div>\n",
       "<style scoped>\n",
       "    .dataframe tbody tr th:only-of-type {\n",
       "        vertical-align: middle;\n",
       "    }\n",
       "\n",
       "    .dataframe tbody tr th {\n",
       "        vertical-align: top;\n",
       "    }\n",
       "\n",
       "    .dataframe thead th {\n",
       "        text-align: right;\n",
       "    }\n",
       "</style>\n",
       "<table border=\"1\" class=\"dataframe\">\n",
       "  <thead>\n",
       "    <tr style=\"text-align: right;\">\n",
       "      <th></th>\n",
       "      <th>diagonal</th>\n",
       "      <th>height_left</th>\n",
       "      <th>height_right</th>\n",
       "      <th>margin_low</th>\n",
       "      <th>margin_up</th>\n",
       "      <th>length</th>\n",
       "      <th>id</th>\n",
       "      <th>prediction</th>\n",
       "    </tr>\n",
       "  </thead>\n",
       "  <tbody>\n",
       "    <tr>\n",
       "      <th>0</th>\n",
       "      <td>172.09</td>\n",
       "      <td>103.95</td>\n",
       "      <td>103.73</td>\n",
       "      <td>4.39</td>\n",
       "      <td>3.09</td>\n",
       "      <td>113.19</td>\n",
       "      <td>B_1</td>\n",
       "      <td>True</td>\n",
       "    </tr>\n",
       "    <tr>\n",
       "      <th>1</th>\n",
       "      <td>171.52</td>\n",
       "      <td>104.17</td>\n",
       "      <td>104.03</td>\n",
       "      <td>5.27</td>\n",
       "      <td>3.16</td>\n",
       "      <td>111.82</td>\n",
       "      <td>B_2</td>\n",
       "      <td>False</td>\n",
       "    </tr>\n",
       "    <tr>\n",
       "      <th>2</th>\n",
       "      <td>171.78</td>\n",
       "      <td>103.80</td>\n",
       "      <td>103.75</td>\n",
       "      <td>3.81</td>\n",
       "      <td>3.24</td>\n",
       "      <td>113.39</td>\n",
       "      <td>B_3</td>\n",
       "      <td>True</td>\n",
       "    </tr>\n",
       "    <tr>\n",
       "      <th>3</th>\n",
       "      <td>172.02</td>\n",
       "      <td>104.08</td>\n",
       "      <td>103.99</td>\n",
       "      <td>5.57</td>\n",
       "      <td>3.30</td>\n",
       "      <td>111.10</td>\n",
       "      <td>B_4</td>\n",
       "      <td>False</td>\n",
       "    </tr>\n",
       "    <tr>\n",
       "      <th>4</th>\n",
       "      <td>171.79</td>\n",
       "      <td>104.34</td>\n",
       "      <td>104.37</td>\n",
       "      <td>5.00</td>\n",
       "      <td>3.07</td>\n",
       "      <td>111.87</td>\n",
       "      <td>B_5</td>\n",
       "      <td>False</td>\n",
       "    </tr>\n",
       "  </tbody>\n",
       "</table>\n",
       "</div>"
      ],
      "text/plain": [
       "   diagonal  height_left  height_right  margin_low  margin_up  length   id  \\\n",
       "0    172.09       103.95        103.73        4.39       3.09  113.19  B_1   \n",
       "1    171.52       104.17        104.03        5.27       3.16  111.82  B_2   \n",
       "2    171.78       103.80        103.75        3.81       3.24  113.39  B_3   \n",
       "3    172.02       104.08        103.99        5.57       3.30  111.10  B_4   \n",
       "4    171.79       104.34        104.37        5.00       3.07  111.87  B_5   \n",
       "\n",
       "   prediction  \n",
       "0        True  \n",
       "1       False  \n",
       "2        True  \n",
       "3       False  \n",
       "4       False  "
      ]
     },
     "execution_count": 61,
     "metadata": {},
     "output_type": "execute_result"
    }
   ],
   "source": [
    "model_pred2(data)"
   ]
  },
  {
   "cell_type": "code",
   "execution_count": null,
   "id": "152dd497-b07a-4409-aec5-b077039b81c7",
   "metadata": {},
   "outputs": [],
   "source": []
  }
 ],
 "metadata": {
  "kernelspec": {
   "display_name": "Python 3 (ipykernel)",
   "language": "python",
   "name": "python3"
  },
  "language_info": {
   "codemirror_mode": {
    "name": "ipython",
    "version": 3
   },
   "file_extension": ".py",
   "mimetype": "text/x-python",
   "name": "python",
   "nbconvert_exporter": "python",
   "pygments_lexer": "ipython3",
   "version": "3.8.8"
  }
 },
 "nbformat": 4,
 "nbformat_minor": 5
}
