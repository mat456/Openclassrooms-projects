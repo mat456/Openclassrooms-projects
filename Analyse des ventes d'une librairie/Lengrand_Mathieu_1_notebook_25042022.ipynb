{
 "cells": [
  {
   "cell_type": "markdown",
   "id": "eac6d492-67ab-40fb-ac78-190e280fe2bf",
   "metadata": {},
   "source": [
    "# <font color=\"blue\">Imports</font>"
   ]
  },
  {
   "cell_type": "code",
   "execution_count": 1,
   "id": "459fd0af-8e00-4169-80fe-5ed57131a6a7",
   "metadata": {},
   "outputs": [],
   "source": [
    "# Import des libraires\n",
    "import pandas as pd\n",
    "pd.options.mode.chained_assignment = None\n",
    "import numpy as np\n",
    "import matplotlib.pyplot as plt\n",
    "import seaborn as sns\n",
    "import datetime\n",
    "import scipy as st\n",
    "from sklearn.linear_model import LinearRegression  \n",
    "import statsmodels.api as sm"
   ]
  },
  {
   "cell_type": "code",
   "execution_count": 2,
   "id": "f36a7b3a-c76f-42cb-a474-2c6c210b9871",
   "metadata": {},
   "outputs": [],
   "source": [
    "# Import des fichiers\n",
    "customers = pd.read_csv(\"Lapage/customers.csv\",sep = \",\") # customers\n",
    "products = pd.read_csv(\"Lapage/products.csv\", sep = \",\") # products\n",
    "transactions = pd.read_csv(\"Lapage/transactions.csv\", sep = \",\") # transactions"
   ]
  },
  {
   "cell_type": "markdown",
   "id": "2f5bfa64-e651-48a9-9f14-6f68f01965b3",
   "metadata": {},
   "source": [
    "# <font color=\"blue\"> Analyse exploratoire </font>"
   ]
  },
  {
   "cell_type": "markdown",
   "id": "7fc5af5a-4f22-4b75-b82f-258935361027",
   "metadata": {},
   "source": [
    "## Customers"
   ]
  },
  {
   "cell_type": "code",
   "execution_count": 3,
   "id": "67d27b26-a202-4cc6-8e89-e2e114e76805",
   "metadata": {},
   "outputs": [
    {
     "data": {
      "text/html": [
       "<div>\n",
       "<style scoped>\n",
       "    .dataframe tbody tr th:only-of-type {\n",
       "        vertical-align: middle;\n",
       "    }\n",
       "\n",
       "    .dataframe tbody tr th {\n",
       "        vertical-align: top;\n",
       "    }\n",
       "\n",
       "    .dataframe thead th {\n",
       "        text-align: right;\n",
       "    }\n",
       "</style>\n",
       "<table border=\"1\" class=\"dataframe\">\n",
       "  <thead>\n",
       "    <tr style=\"text-align: right;\">\n",
       "      <th></th>\n",
       "      <th>client_id</th>\n",
       "      <th>sex</th>\n",
       "      <th>birth</th>\n",
       "    </tr>\n",
       "  </thead>\n",
       "  <tbody>\n",
       "    <tr>\n",
       "      <th>0</th>\n",
       "      <td>c_4410</td>\n",
       "      <td>f</td>\n",
       "      <td>1967</td>\n",
       "    </tr>\n",
       "    <tr>\n",
       "      <th>1</th>\n",
       "      <td>c_7839</td>\n",
       "      <td>f</td>\n",
       "      <td>1975</td>\n",
       "    </tr>\n",
       "    <tr>\n",
       "      <th>2</th>\n",
       "      <td>c_1699</td>\n",
       "      <td>f</td>\n",
       "      <td>1984</td>\n",
       "    </tr>\n",
       "    <tr>\n",
       "      <th>3</th>\n",
       "      <td>c_5961</td>\n",
       "      <td>f</td>\n",
       "      <td>1962</td>\n",
       "    </tr>\n",
       "    <tr>\n",
       "      <th>4</th>\n",
       "      <td>c_5320</td>\n",
       "      <td>m</td>\n",
       "      <td>1943</td>\n",
       "    </tr>\n",
       "  </tbody>\n",
       "</table>\n",
       "</div>"
      ],
      "text/plain": [
       "  client_id sex  birth\n",
       "0    c_4410   f   1967\n",
       "1    c_7839   f   1975\n",
       "2    c_1699   f   1984\n",
       "3    c_5961   f   1962\n",
       "4    c_5320   m   1943"
      ]
     },
     "execution_count": 3,
     "metadata": {},
     "output_type": "execute_result"
    }
   ],
   "source": [
    "customers.head()"
   ]
  },
  {
   "cell_type": "code",
   "execution_count": 4,
   "id": "3486d8a3-c86f-429c-a649-c781e1cf20ca",
   "metadata": {},
   "outputs": [],
   "source": [
    "# Ajout de l'âge\n",
    "age = customers[\"birth\"].apply(lambda x : 2022 - x)\n",
    "customers.insert(loc=3, value = age, column = \"age\")"
   ]
  },
  {
   "cell_type": "code",
   "execution_count": 5,
   "id": "65d6492c-bdc2-4aa1-a7b9-2029c0144f4e",
   "metadata": {},
   "outputs": [],
   "source": [
    "def desc(df) : \n",
    "    desc = df.describe(include = \"all\").transpose()\n",
    "    types = df.dtypes\n",
    "    types.name = \"type\"\n",
    "    return desc.join(types)[[\"count\", \"unique\", \"mean\", \"type\"]]"
   ]
  },
  {
   "cell_type": "code",
   "execution_count": 6,
   "id": "f4c013f4-5c83-4555-bbb9-f82c992bba32",
   "metadata": {},
   "outputs": [
    {
     "data": {
      "text/html": [
       "<div>\n",
       "<style scoped>\n",
       "    .dataframe tbody tr th:only-of-type {\n",
       "        vertical-align: middle;\n",
       "    }\n",
       "\n",
       "    .dataframe tbody tr th {\n",
       "        vertical-align: top;\n",
       "    }\n",
       "\n",
       "    .dataframe thead th {\n",
       "        text-align: right;\n",
       "    }\n",
       "</style>\n",
       "<table border=\"1\" class=\"dataframe\">\n",
       "  <thead>\n",
       "    <tr style=\"text-align: right;\">\n",
       "      <th></th>\n",
       "      <th>count</th>\n",
       "      <th>unique</th>\n",
       "      <th>mean</th>\n",
       "      <th>type</th>\n",
       "    </tr>\n",
       "  </thead>\n",
       "  <tbody>\n",
       "    <tr>\n",
       "      <th>client_id</th>\n",
       "      <td>8623</td>\n",
       "      <td>8623</td>\n",
       "      <td>NaN</td>\n",
       "      <td>object</td>\n",
       "    </tr>\n",
       "    <tr>\n",
       "      <th>sex</th>\n",
       "      <td>8623</td>\n",
       "      <td>2</td>\n",
       "      <td>NaN</td>\n",
       "      <td>object</td>\n",
       "    </tr>\n",
       "    <tr>\n",
       "      <th>birth</th>\n",
       "      <td>8623.0</td>\n",
       "      <td>NaN</td>\n",
       "      <td>1978.280877</td>\n",
       "      <td>int64</td>\n",
       "    </tr>\n",
       "    <tr>\n",
       "      <th>age</th>\n",
       "      <td>8623.0</td>\n",
       "      <td>NaN</td>\n",
       "      <td>43.719123</td>\n",
       "      <td>int64</td>\n",
       "    </tr>\n",
       "  </tbody>\n",
       "</table>\n",
       "</div>"
      ],
      "text/plain": [
       "            count unique         mean    type\n",
       "client_id    8623   8623          NaN  object\n",
       "sex          8623      2          NaN  object\n",
       "birth      8623.0    NaN  1978.280877   int64\n",
       "age        8623.0    NaN    43.719123   int64"
      ]
     },
     "execution_count": 6,
     "metadata": {},
     "output_type": "execute_result"
    }
   ],
   "source": [
    "desc(customers) # pas d'anomalies constatées à ce stade"
   ]
  },
  {
   "cell_type": "markdown",
   "id": "01492975-b8b0-4bf4-b446-9ddfdf0ad4fb",
   "metadata": {},
   "source": [
    "## Products"
   ]
  },
  {
   "cell_type": "code",
   "execution_count": 7,
   "id": "f05de605-72bf-45dc-8523-fb27eaac6db7",
   "metadata": {},
   "outputs": [
    {
     "data": {
      "text/html": [
       "<div>\n",
       "<style scoped>\n",
       "    .dataframe tbody tr th:only-of-type {\n",
       "        vertical-align: middle;\n",
       "    }\n",
       "\n",
       "    .dataframe tbody tr th {\n",
       "        vertical-align: top;\n",
       "    }\n",
       "\n",
       "    .dataframe thead th {\n",
       "        text-align: right;\n",
       "    }\n",
       "</style>\n",
       "<table border=\"1\" class=\"dataframe\">\n",
       "  <thead>\n",
       "    <tr style=\"text-align: right;\">\n",
       "      <th></th>\n",
       "      <th>id_prod</th>\n",
       "      <th>price</th>\n",
       "      <th>categ</th>\n",
       "    </tr>\n",
       "  </thead>\n",
       "  <tbody>\n",
       "    <tr>\n",
       "      <th>0</th>\n",
       "      <td>0_1421</td>\n",
       "      <td>19.99</td>\n",
       "      <td>0</td>\n",
       "    </tr>\n",
       "    <tr>\n",
       "      <th>1</th>\n",
       "      <td>0_1368</td>\n",
       "      <td>5.13</td>\n",
       "      <td>0</td>\n",
       "    </tr>\n",
       "    <tr>\n",
       "      <th>2</th>\n",
       "      <td>0_731</td>\n",
       "      <td>17.99</td>\n",
       "      <td>0</td>\n",
       "    </tr>\n",
       "    <tr>\n",
       "      <th>3</th>\n",
       "      <td>1_587</td>\n",
       "      <td>4.99</td>\n",
       "      <td>1</td>\n",
       "    </tr>\n",
       "    <tr>\n",
       "      <th>4</th>\n",
       "      <td>0_1507</td>\n",
       "      <td>3.99</td>\n",
       "      <td>0</td>\n",
       "    </tr>\n",
       "  </tbody>\n",
       "</table>\n",
       "</div>"
      ],
      "text/plain": [
       "  id_prod  price  categ\n",
       "0  0_1421  19.99      0\n",
       "1  0_1368   5.13      0\n",
       "2   0_731  17.99      0\n",
       "3   1_587   4.99      1\n",
       "4  0_1507   3.99      0"
      ]
     },
     "execution_count": 7,
     "metadata": {},
     "output_type": "execute_result"
    }
   ],
   "source": [
    "products.head()"
   ]
  },
  {
   "cell_type": "code",
   "execution_count": 8,
   "id": "f88841c2-0cd3-401e-8bc4-de6a1729c536",
   "metadata": {},
   "outputs": [
    {
     "data": {
      "text/html": [
       "<div>\n",
       "<style scoped>\n",
       "    .dataframe tbody tr th:only-of-type {\n",
       "        vertical-align: middle;\n",
       "    }\n",
       "\n",
       "    .dataframe tbody tr th {\n",
       "        vertical-align: top;\n",
       "    }\n",
       "\n",
       "    .dataframe thead th {\n",
       "        text-align: right;\n",
       "    }\n",
       "</style>\n",
       "<table border=\"1\" class=\"dataframe\">\n",
       "  <thead>\n",
       "    <tr style=\"text-align: right;\">\n",
       "      <th></th>\n",
       "      <th>count</th>\n",
       "      <th>unique</th>\n",
       "      <th>mean</th>\n",
       "      <th>type</th>\n",
       "    </tr>\n",
       "  </thead>\n",
       "  <tbody>\n",
       "    <tr>\n",
       "      <th>id_prod</th>\n",
       "      <td>3287</td>\n",
       "      <td>3287</td>\n",
       "      <td>NaN</td>\n",
       "      <td>object</td>\n",
       "    </tr>\n",
       "    <tr>\n",
       "      <th>price</th>\n",
       "      <td>3287.0</td>\n",
       "      <td>NaN</td>\n",
       "      <td>21.856641</td>\n",
       "      <td>float64</td>\n",
       "    </tr>\n",
       "    <tr>\n",
       "      <th>categ</th>\n",
       "      <td>3287.0</td>\n",
       "      <td>NaN</td>\n",
       "      <td>0.370246</td>\n",
       "      <td>int64</td>\n",
       "    </tr>\n",
       "  </tbody>\n",
       "</table>\n",
       "</div>"
      ],
      "text/plain": [
       "          count unique       mean     type\n",
       "id_prod    3287   3287        NaN   object\n",
       "price    3287.0    NaN  21.856641  float64\n",
       "categ    3287.0    NaN   0.370246    int64"
      ]
     },
     "execution_count": 8,
     "metadata": {},
     "output_type": "execute_result"
    }
   ],
   "source": [
    "desc(products) # pas d'anomalies constatées à ce stade"
   ]
  },
  {
   "cell_type": "code",
   "execution_count": 9,
   "id": "11f92351-a32f-4ed9-b0da-577165f5e277",
   "metadata": {},
   "outputs": [
    {
     "data": {
      "text/plain": [
       "array([0, 1, 2])"
      ]
     },
     "execution_count": 9,
     "metadata": {},
     "output_type": "execute_result"
    }
   ],
   "source": [
    "products.categ.unique()"
   ]
  },
  {
   "cell_type": "code",
   "execution_count": 10,
   "id": "c6bbeb8c-e908-4011-8641-a8e6835d971b",
   "metadata": {},
   "outputs": [
    {
     "data": {
      "text/plain": [
       "<AxesSubplot:xlabel='price'>"
      ]
     },
     "execution_count": 10,
     "metadata": {},
     "output_type": "execute_result"
    },
    {
     "data": {
      "image/png": "[encoded data removed]",
      "text/plain": [
       "<Figure size 864x432 with 1 Axes>"
      ]
     },
     "metadata": {
      "needs_background": "light"
     },
     "output_type": "display_data"
    }
   ],
   "source": [
    "# Distribution des prix\n",
    "fig, ax = plt.subplots(figsize=(12,6))\n",
    "sns.boxplot(x = products.price, color = \"green\")"
   ]
  },
  {
   "cell_type": "code",
   "execution_count": 11,
   "id": "e530bf94-a7ee-48ee-aac6-95b0c0b9ee26",
   "metadata": {},
   "outputs": [],
   "source": [
    "Q1, Q3 = np.percentile(products.price,(25,75))\n",
    "IQ = st.stats.iqr(products.price)\n",
    "upper_bound = Q3 + 1.5 * IQ"
   ]
  },
  {
   "cell_type": "code",
   "execution_count": 12,
   "id": "86cd2838-77a7-4e36-a376-4e8b71b71f14",
   "metadata": {},
   "outputs": [
    {
     "data": {
      "text/plain": [
       "<AxesSubplot:ylabel='price'>"
      ]
     },
     "execution_count": 12,
     "metadata": {},
     "output_type": "execute_result"
    },
    {
     "data": {
      "image/png": "[encoded data removed]",
      "text/plain": [
       "<Figure size 432x288 with 1 Axes>"
      ]
     },
     "metadata": {
      "needs_background": "light"
     },
     "output_type": "display_data"
    }
   ],
   "source": [
    "filtre = products.price > upper_bound\n",
    "outliers = products[filtre]\n",
    "outliers.sort_values(\"price\",inplace = True,ascending = False)\n",
    "outliers = outliers.reset_index()\n",
    "sns.scatterplot(data = outliers , y = outliers.price, x = outliers.index)"
   ]
  },
  {
   "cell_type": "code",
   "execution_count": 13,
   "id": "6955066a-cad1-447f-9702-c29353365294",
   "metadata": {},
   "outputs": [],
   "source": [
    "# Placer les produits \"suspects\" dans une liste\n",
    "produits_a_check = outliers[outliers.price > 200]"
   ]
  },
  {
   "cell_type": "markdown",
   "id": "d5758c99-ee3f-44eb-a08a-805d97b144e0",
   "metadata": {},
   "source": [
    "## Transactions"
   ]
  },
  {
   "cell_type": "code",
   "execution_count": 14,
   "id": "f32d224c-c96d-45cc-b622-153e64214eab",
   "metadata": {},
   "outputs": [
    {
     "data": {
      "text/html": [
       "<div>\n",
       "<style scoped>\n",
       "    .dataframe tbody tr th:only-of-type {\n",
       "        vertical-align: middle;\n",
       "    }\n",
       "\n",
       "    .dataframe tbody tr th {\n",
       "        vertical-align: top;\n",
       "    }\n",
       "\n",
       "    .dataframe thead th {\n",
       "        text-align: right;\n",
       "    }\n",
       "</style>\n",
       "<table border=\"1\" class=\"dataframe\">\n",
       "  <thead>\n",
       "    <tr style=\"text-align: right;\">\n",
       "      <th></th>\n",
       "      <th>id_prod</th>\n",
       "      <th>date</th>\n",
       "      <th>session_id</th>\n",
       "      <th>client_id</th>\n",
       "    </tr>\n",
       "  </thead>\n",
       "  <tbody>\n",
       "    <tr>\n",
       "      <th>0</th>\n",
       "      <td>0_1518</td>\n",
       "      <td>2022-05-20 13:21:29.043970</td>\n",
       "      <td>s_211425</td>\n",
       "      <td>c_103</td>\n",
       "    </tr>\n",
       "    <tr>\n",
       "      <th>1</th>\n",
       "      <td>1_251</td>\n",
       "      <td>2022-02-02 07:55:19.149409</td>\n",
       "      <td>s_158752</td>\n",
       "      <td>c_8534</td>\n",
       "    </tr>\n",
       "    <tr>\n",
       "      <th>2</th>\n",
       "      <td>0_1277</td>\n",
       "      <td>2022-06-18 15:44:33.155329</td>\n",
       "      <td>s_225667</td>\n",
       "      <td>c_6714</td>\n",
       "    </tr>\n",
       "    <tr>\n",
       "      <th>3</th>\n",
       "      <td>2_209</td>\n",
       "      <td>2021-06-24 04:19:29.835891</td>\n",
       "      <td>s_52962</td>\n",
       "      <td>c_6941</td>\n",
       "    </tr>\n",
       "    <tr>\n",
       "      <th>4</th>\n",
       "      <td>0_1509</td>\n",
       "      <td>2023-01-11 08:22:08.194479</td>\n",
       "      <td>s_325227</td>\n",
       "      <td>c_4232</td>\n",
       "    </tr>\n",
       "  </tbody>\n",
       "</table>\n",
       "</div>"
      ],
      "text/plain": [
       "  id_prod                        date session_id client_id\n",
       "0  0_1518  2022-05-20 13:21:29.043970   s_211425     c_103\n",
       "1   1_251  2022-02-02 07:55:19.149409   s_158752    c_8534\n",
       "2  0_1277  2022-06-18 15:44:33.155329   s_225667    c_6714\n",
       "3   2_209  2021-06-24 04:19:29.835891    s_52962    c_6941\n",
       "4  0_1509  2023-01-11 08:22:08.194479   s_325227    c_4232"
      ]
     },
     "execution_count": 14,
     "metadata": {},
     "output_type": "execute_result"
    }
   ],
   "source": [
    "transactions.head()"
   ]
  },
  {
   "cell_type": "code",
   "execution_count": 15,
   "id": "29f536b8-b432-4f46-93f8-f1e822619e49",
   "metadata": {},
   "outputs": [
    {
     "data": {
      "text/html": [
       "<div>\n",
       "<style scoped>\n",
       "    .dataframe tbody tr th:only-of-type {\n",
       "        vertical-align: middle;\n",
       "    }\n",
       "\n",
       "    .dataframe tbody tr th {\n",
       "        vertical-align: top;\n",
       "    }\n",
       "\n",
       "    .dataframe thead th {\n",
       "        text-align: right;\n",
       "    }\n",
       "</style>\n",
       "<table border=\"1\" class=\"dataframe\">\n",
       "  <thead>\n",
       "    <tr style=\"text-align: right;\">\n",
       "      <th></th>\n",
       "      <th>id_prod</th>\n",
       "      <th>date</th>\n",
       "      <th>session_id</th>\n",
       "      <th>client_id</th>\n",
       "    </tr>\n",
       "  </thead>\n",
       "  <tbody>\n",
       "    <tr>\n",
       "      <th>count</th>\n",
       "      <td>679532</td>\n",
       "      <td>679532</td>\n",
       "      <td>679532</td>\n",
       "      <td>679532</td>\n",
       "    </tr>\n",
       "    <tr>\n",
       "      <th>unique</th>\n",
       "      <td>3267</td>\n",
       "      <td>679371</td>\n",
       "      <td>342316</td>\n",
       "      <td>8602</td>\n",
       "    </tr>\n",
       "    <tr>\n",
       "      <th>top</th>\n",
       "      <td>1_369</td>\n",
       "      <td>test_2021-03-01 02:30:02.237413</td>\n",
       "      <td>s_0</td>\n",
       "      <td>c_1609</td>\n",
       "    </tr>\n",
       "    <tr>\n",
       "      <th>freq</th>\n",
       "      <td>2252</td>\n",
       "      <td>13</td>\n",
       "      <td>200</td>\n",
       "      <td>25488</td>\n",
       "    </tr>\n",
       "  </tbody>\n",
       "</table>\n",
       "</div>"
      ],
      "text/plain": [
       "       id_prod                             date session_id client_id\n",
       "count   679532                           679532     679532    679532\n",
       "unique    3267                           679371     342316      8602\n",
       "top      1_369  test_2021-03-01 02:30:02.237413        s_0    c_1609\n",
       "freq      2252                               13        200     25488"
      ]
     },
     "execution_count": 15,
     "metadata": {},
     "output_type": "execute_result"
    }
   ],
   "source": [
    "transactions.describe(include = \"all\")  # Investiguer session_id"
   ]
  },
  {
   "cell_type": "code",
   "execution_count": 16,
   "id": "042336e8-6c24-40b0-a045-0756d155de55",
   "metadata": {},
   "outputs": [
    {
     "data": {
      "text/plain": [
       "id_prod       object\n",
       "date          object\n",
       "session_id    object\n",
       "client_id     object\n",
       "dtype: object"
      ]
     },
     "execution_count": 16,
     "metadata": {},
     "output_type": "execute_result"
    }
   ],
   "source": [
    "transactions.dtypes"
   ]
  },
  {
   "cell_type": "code",
   "execution_count": 17,
   "id": "9ecf5a82-ebf5-4bd1-a26b-bf04b7798abd",
   "metadata": {},
   "outputs": [],
   "source": [
    "# Liste des doublons de session_id\n",
    "from iteration_utilities import duplicates\n",
    "def listDups(listNums):\n",
    "      return list(duplicates(listNums))\n",
    "\n",
    "liste_doublons = listDups(transactions.session_id)"
   ]
  },
  {
   "cell_type": "code",
   "execution_count": 18,
   "id": "5ac52edc-946b-4535-a26d-047fcb1b5c6a",
   "metadata": {},
   "outputs": [
    {
     "data": {
      "text/html": [
       "<div>\n",
       "<style scoped>\n",
       "    .dataframe tbody tr th:only-of-type {\n",
       "        vertical-align: middle;\n",
       "    }\n",
       "\n",
       "    .dataframe tbody tr th {\n",
       "        vertical-align: top;\n",
       "    }\n",
       "\n",
       "    .dataframe thead th {\n",
       "        text-align: right;\n",
       "    }\n",
       "</style>\n",
       "<table border=\"1\" class=\"dataframe\">\n",
       "  <thead>\n",
       "    <tr style=\"text-align: right;\">\n",
       "      <th></th>\n",
       "      <th>id_prod</th>\n",
       "      <th>date</th>\n",
       "      <th>session_id</th>\n",
       "      <th>client_id</th>\n",
       "    </tr>\n",
       "  </thead>\n",
       "  <tbody>\n",
       "    <tr>\n",
       "      <th>334</th>\n",
       "      <td>0_1048</td>\n",
       "      <td>2022-09-22 22:48:39.419593</td>\n",
       "      <td>s_272055</td>\n",
       "      <td>c_5636</td>\n",
       "    </tr>\n",
       "    <tr>\n",
       "      <th>832</th>\n",
       "      <td>0_30</td>\n",
       "      <td>2022-09-22 22:49:05.168711</td>\n",
       "      <td>s_272055</td>\n",
       "      <td>c_5636</td>\n",
       "    </tr>\n",
       "    <tr>\n",
       "      <th>1611</th>\n",
       "      <td>0_865</td>\n",
       "      <td>2022-10-30 09:42:18.398394</td>\n",
       "      <td>s_290123</td>\n",
       "      <td>c_7716</td>\n",
       "    </tr>\n",
       "    <tr>\n",
       "      <th>3223</th>\n",
       "      <td>0_2216</td>\n",
       "      <td>2022-10-30 09:45:29.336713</td>\n",
       "      <td>s_290123</td>\n",
       "      <td>c_7716</td>\n",
       "    </tr>\n",
       "    <tr>\n",
       "      <th>49946</th>\n",
       "      <td>1_336</td>\n",
       "      <td>2022-09-22 23:02:33.108379</td>\n",
       "      <td>s_272055</td>\n",
       "      <td>c_5636</td>\n",
       "    </tr>\n",
       "    <tr>\n",
       "      <th>435564</th>\n",
       "      <td>0_1409</td>\n",
       "      <td>2022-09-22 22:08:58.176161</td>\n",
       "      <td>s_272055</td>\n",
       "      <td>c_5636</td>\n",
       "    </tr>\n",
       "    <tr>\n",
       "      <th>467029</th>\n",
       "      <td>0_1521</td>\n",
       "      <td>2022-10-30 09:55:11.009904</td>\n",
       "      <td>s_290123</td>\n",
       "      <td>c_7716</td>\n",
       "    </tr>\n",
       "  </tbody>\n",
       "</table>\n",
       "</div>"
      ],
      "text/plain": [
       "       id_prod                        date session_id client_id\n",
       "334     0_1048  2022-09-22 22:48:39.419593   s_272055    c_5636\n",
       "832       0_30  2022-09-22 22:49:05.168711   s_272055    c_5636\n",
       "1611     0_865  2022-10-30 09:42:18.398394   s_290123    c_7716\n",
       "3223    0_2216  2022-10-30 09:45:29.336713   s_290123    c_7716\n",
       "49946    1_336  2022-09-22 23:02:33.108379   s_272055    c_5636\n",
       "435564  0_1409  2022-09-22 22:08:58.176161   s_272055    c_5636\n",
       "467029  0_1521  2022-10-30 09:55:11.009904   s_290123    c_7716"
      ]
     },
     "execution_count": 18,
     "metadata": {},
     "output_type": "execute_result"
    }
   ],
   "source": [
    "# Analyse d'un session_id en doublons\n",
    "transactions[transactions.session_id.isin([\"s_272055\",\"s_290123\"])]\n",
    "# plusieurs achats effectué par un meme client durant une session de connexion au site auront la même session_id"
   ]
  },
  {
   "cell_type": "markdown",
   "id": "b36cf5e8-d3ef-491e-830e-e156a9394217",
   "metadata": {},
   "source": [
    "# <font color=\"blue\"> Fusion des données </font>"
   ]
  },
  {
   "cell_type": "code",
   "execution_count": 19,
   "id": "21852af6-ddcd-41df-948c-d63fc580d564",
   "metadata": {},
   "outputs": [],
   "source": [
    "#Fusion de customers avec transactions\n",
    "customers_transactions = pd.merge(customers, transactions, how = \"outer\", indicator = True)"
   ]
  },
  {
   "cell_type": "code",
   "execution_count": 20,
   "id": "22479d55-e9c8-4c09-a1b2-fe06d45a7d0a",
   "metadata": {},
   "outputs": [
    {
     "data": {
      "text/html": [
       "<div>\n",
       "<style scoped>\n",
       "    .dataframe tbody tr th:only-of-type {\n",
       "        vertical-align: middle;\n",
       "    }\n",
       "\n",
       "    .dataframe tbody tr th {\n",
       "        vertical-align: top;\n",
       "    }\n",
       "\n",
       "    .dataframe thead th {\n",
       "        text-align: right;\n",
       "    }\n",
       "</style>\n",
       "<table border=\"1\" class=\"dataframe\">\n",
       "  <thead>\n",
       "    <tr style=\"text-align: right;\">\n",
       "      <th></th>\n",
       "      <th>client_id</th>\n",
       "    </tr>\n",
       "    <tr>\n",
       "      <th>_merge</th>\n",
       "      <th></th>\n",
       "    </tr>\n",
       "  </thead>\n",
       "  <tbody>\n",
       "    <tr>\n",
       "      <th>left_only</th>\n",
       "      <td>21</td>\n",
       "    </tr>\n",
       "    <tr>\n",
       "      <th>right_only</th>\n",
       "      <td>0</td>\n",
       "    </tr>\n",
       "    <tr>\n",
       "      <th>both</th>\n",
       "      <td>679532</td>\n",
       "    </tr>\n",
       "  </tbody>\n",
       "</table>\n",
       "</div>"
      ],
      "text/plain": [
       "            client_id\n",
       "_merge               \n",
       "left_only          21\n",
       "right_only          0\n",
       "both           679532"
      ]
     },
     "execution_count": 20,
     "metadata": {},
     "output_type": "execute_result"
    }
   ],
   "source": [
    "customers_transactions.pivot_table(index=\"_merge\", values = \"client_id\", aggfunc = \"count\")\n",
    "# pas de \"right_only\" : pour chaque transaction on a l'info client"
   ]
  },
  {
   "cell_type": "code",
   "execution_count": 21,
   "id": "894d5a3b-b440-4b4d-9395-40973df01a3b",
   "metadata": {},
   "outputs": [],
   "source": [
    "#on supprimme les \"left_only\" : clients sans transactions\n",
    "customers_transactions = customers_transactions[customers_transactions._merge != \"left_only\"]\n",
    "del customers_transactions[\"_merge\"]\n",
    "\n",
    "#Fusion de customers_transactions avec products\n",
    "df = pd.merge(customers_transactions, products, how = \"outer\", indicator = True)"
   ]
  },
  {
   "cell_type": "code",
   "execution_count": 22,
   "id": "cb108010-21d5-4ce1-a5bb-3528abed8e8a",
   "metadata": {},
   "outputs": [
    {
     "data": {
      "text/html": [
       "<div>\n",
       "<style scoped>\n",
       "    .dataframe tbody tr th:only-of-type {\n",
       "        vertical-align: middle;\n",
       "    }\n",
       "\n",
       "    .dataframe tbody tr th {\n",
       "        vertical-align: top;\n",
       "    }\n",
       "\n",
       "    .dataframe thead th {\n",
       "        text-align: right;\n",
       "    }\n",
       "</style>\n",
       "<table border=\"1\" class=\"dataframe\">\n",
       "  <thead>\n",
       "    <tr style=\"text-align: right;\">\n",
       "      <th></th>\n",
       "      <th>id_prod</th>\n",
       "    </tr>\n",
       "    <tr>\n",
       "      <th>_merge</th>\n",
       "      <th></th>\n",
       "    </tr>\n",
       "  </thead>\n",
       "  <tbody>\n",
       "    <tr>\n",
       "      <th>left_only</th>\n",
       "      <td>221</td>\n",
       "    </tr>\n",
       "    <tr>\n",
       "      <th>right_only</th>\n",
       "      <td>21</td>\n",
       "    </tr>\n",
       "    <tr>\n",
       "      <th>both</th>\n",
       "      <td>679311</td>\n",
       "    </tr>\n",
       "  </tbody>\n",
       "</table>\n",
       "</div>"
      ],
      "text/plain": [
       "            id_prod\n",
       "_merge             \n",
       "left_only       221\n",
       "right_only       21\n",
       "both         679311"
      ]
     },
     "execution_count": 22,
     "metadata": {},
     "output_type": "execute_result"
    }
   ],
   "source": [
    "df.pivot_table(index=\"_merge\", values = \"id_prod\", aggfunc = \"count\")\n",
    "# 221 \"left_only\" : 221 transactions n'ont pas d'info produit"
   ]
  },
  {
   "cell_type": "code",
   "execution_count": 23,
   "id": "7afa7de7-778d-40f1-a6c1-5c9d4556b737",
   "metadata": {},
   "outputs": [
    {
     "data": {
      "text/html": [
       "<div>\n",
       "<style scoped>\n",
       "    .dataframe tbody tr th:only-of-type {\n",
       "        vertical-align: middle;\n",
       "    }\n",
       "\n",
       "    .dataframe tbody tr th {\n",
       "        vertical-align: top;\n",
       "    }\n",
       "\n",
       "    .dataframe thead th {\n",
       "        text-align: right;\n",
       "    }\n",
       "</style>\n",
       "<table border=\"1\" class=\"dataframe\">\n",
       "  <thead>\n",
       "    <tr style=\"text-align: right;\">\n",
       "      <th></th>\n",
       "      <th>client_id</th>\n",
       "      <th>sex</th>\n",
       "      <th>birth</th>\n",
       "      <th>age</th>\n",
       "      <th>id_prod</th>\n",
       "      <th>date</th>\n",
       "      <th>session_id</th>\n",
       "      <th>price</th>\n",
       "      <th>categ</th>\n",
       "      <th>_merge</th>\n",
       "    </tr>\n",
       "  </thead>\n",
       "  <tbody>\n",
       "    <tr>\n",
       "      <th>542051</th>\n",
       "      <td>c_4505</td>\n",
       "      <td>m</td>\n",
       "      <td>1976.0</td>\n",
       "      <td>46.0</td>\n",
       "      <td>0_2245</td>\n",
       "      <td>2022-01-09 09:23:31.000720</td>\n",
       "      <td>s_147220</td>\n",
       "      <td>NaN</td>\n",
       "      <td>NaN</td>\n",
       "      <td>left_only</td>\n",
       "    </tr>\n",
       "    <tr>\n",
       "      <th>542052</th>\n",
       "      <td>c_4505</td>\n",
       "      <td>m</td>\n",
       "      <td>1976.0</td>\n",
       "      <td>46.0</td>\n",
       "      <td>0_2245</td>\n",
       "      <td>2022-11-09 09:23:31.000720</td>\n",
       "      <td>s_295013</td>\n",
       "      <td>NaN</td>\n",
       "      <td>NaN</td>\n",
       "      <td>left_only</td>\n",
       "    </tr>\n",
       "    <tr>\n",
       "      <th>542053</th>\n",
       "      <td>c_3468</td>\n",
       "      <td>f</td>\n",
       "      <td>1981.0</td>\n",
       "      <td>41.0</td>\n",
       "      <td>0_2245</td>\n",
       "      <td>2021-09-11 10:52:05.205583</td>\n",
       "      <td>s_88251</td>\n",
       "      <td>NaN</td>\n",
       "      <td>NaN</td>\n",
       "      <td>left_only</td>\n",
       "    </tr>\n",
       "    <tr>\n",
       "      <th>542054</th>\n",
       "      <td>c_3468</td>\n",
       "      <td>f</td>\n",
       "      <td>1981.0</td>\n",
       "      <td>41.0</td>\n",
       "      <td>0_2245</td>\n",
       "      <td>2022-05-11 10:52:05.205583</td>\n",
       "      <td>s_206902</td>\n",
       "      <td>NaN</td>\n",
       "      <td>NaN</td>\n",
       "      <td>left_only</td>\n",
       "    </tr>\n",
       "    <tr>\n",
       "      <th>542055</th>\n",
       "      <td>c_1403</td>\n",
       "      <td>f</td>\n",
       "      <td>1978.0</td>\n",
       "      <td>44.0</td>\n",
       "      <td>0_2245</td>\n",
       "      <td>2022-09-15 14:26:50.187952</td>\n",
       "      <td>s_268455</td>\n",
       "      <td>NaN</td>\n",
       "      <td>NaN</td>\n",
       "      <td>left_only</td>\n",
       "    </tr>\n",
       "  </tbody>\n",
       "</table>\n",
       "</div>"
      ],
      "text/plain": [
       "       client_id sex   birth   age id_prod                        date  \\\n",
       "542051    c_4505   m  1976.0  46.0  0_2245  2022-01-09 09:23:31.000720   \n",
       "542052    c_4505   m  1976.0  46.0  0_2245  2022-11-09 09:23:31.000720   \n",
       "542053    c_3468   f  1981.0  41.0  0_2245  2021-09-11 10:52:05.205583   \n",
       "542054    c_3468   f  1981.0  41.0  0_2245  2022-05-11 10:52:05.205583   \n",
       "542055    c_1403   f  1978.0  44.0  0_2245  2022-09-15 14:26:50.187952   \n",
       "\n",
       "       session_id  price  categ     _merge  \n",
       "542051   s_147220    NaN    NaN  left_only  \n",
       "542052   s_295013    NaN    NaN  left_only  \n",
       "542053    s_88251    NaN    NaN  left_only  \n",
       "542054   s_206902    NaN    NaN  left_only  \n",
       "542055   s_268455    NaN    NaN  left_only  "
      ]
     },
     "execution_count": 23,
     "metadata": {},
     "output_type": "execute_result"
    }
   ],
   "source": [
    "# on isole les transactions sans info produits\n",
    "df_missing_prod = df[df._merge == \"left_only\"]\n",
    "df_missing_prod.head(5)"
   ]
  },
  {
   "cell_type": "code",
   "execution_count": 24,
   "id": "48baff73-56a5-45ba-9e50-cc9f97f546fc",
   "metadata": {},
   "outputs": [],
   "source": [
    "df = df[df._merge == \"both\"]\n",
    "del df[\"_merge\"]"
   ]
  },
  {
   "cell_type": "markdown",
   "id": "7ab64ff0-72c4-4471-9a78-813f0b66ee15",
   "metadata": {},
   "source": [
    "## <em> Imputation des prix pour les transactions sans info produits </em>"
   ]
  },
  {
   "cell_type": "code",
   "execution_count": 25,
   "id": "9d997706-8c9b-44f2-be89-0c90fbafc54b",
   "metadata": {},
   "outputs": [
    {
     "data": {
      "text/plain": [
       "<AxesSubplot:xlabel='sex', ylabel='Proportion'>"
      ]
     },
     "execution_count": 25,
     "metadata": {},
     "output_type": "execute_result"
    },
    {
     "data": {
      "image/png": "[encoded data removed]",
      "text/plain": [
       "<Figure size 864x360 with 2 Axes>"
      ]
     },
     "metadata": {
      "needs_background": "light"
     },
     "output_type": "display_data"
    }
   ],
   "source": [
    "fig, ax = plt.subplots(nrows = 1, ncols =2, figsize=(12,5))\n",
    "sns.histplot(ax = ax[0],x = df_missing_prod.age, color = \"darkblue\")\n",
    "sns.histplot(ax = ax[1],x = df_missing_prod.sex, stat = \"proportion\", color = \"lightblue\")"
   ]
  },
  {
   "cell_type": "code",
   "execution_count": 26,
   "id": "1c9d5fa8-22b9-4695-8689-71f19551e6bf",
   "metadata": {},
   "outputs": [],
   "source": [
    "# découpage de l'age en tranche\n",
    "def t_age(age):\n",
    "    if age < 30 :\n",
    "        return \"inf 30\"\n",
    "    elif (age > 30 and age <= 40) :\n",
    "        return \"30-40\"\n",
    "    elif (age > 40 and age <= 50) :\n",
    "        return \"40-50\"\n",
    "    elif (age > 50 and age <= 60) :\n",
    "        return \"50-60\"\n",
    "    else :\n",
    "        return \"sup 60\"\n",
    "    \n",
    "tranche_age = df[\"age\"].apply(t_age)\n",
    "df_calc = df[[\"age\",\"sex\",\"price\",\"categ\"]]\n",
    "df_calc.insert(loc = 1, value = tranche_age, column = \"tranche_age\")"
   ]
  },
  {
   "cell_type": "code",
   "execution_count": 27,
   "id": "e65a5a42-1427-4660-a1a3-f7bd34f2bb6e",
   "metadata": {},
   "outputs": [
    {
     "data": {
      "text/html": [
       "<div>\n",
       "<style scoped>\n",
       "    .dataframe tbody tr th:only-of-type {\n",
       "        vertical-align: middle;\n",
       "    }\n",
       "\n",
       "    .dataframe tbody tr th {\n",
       "        vertical-align: top;\n",
       "    }\n",
       "\n",
       "    .dataframe thead th {\n",
       "        text-align: right;\n",
       "    }\n",
       "</style>\n",
       "<table border=\"1\" class=\"dataframe\">\n",
       "  <thead>\n",
       "    <tr style=\"text-align: right;\">\n",
       "      <th></th>\n",
       "      <th>tranche_age</th>\n",
       "      <th>sex</th>\n",
       "      <th>price</th>\n",
       "    </tr>\n",
       "  </thead>\n",
       "  <tbody>\n",
       "    <tr>\n",
       "      <th>0</th>\n",
       "      <td>30-40</td>\n",
       "      <td>f</td>\n",
       "      <td>13.259466</td>\n",
       "    </tr>\n",
       "    <tr>\n",
       "      <th>1</th>\n",
       "      <td>30-40</td>\n",
       "      <td>m</td>\n",
       "      <td>13.247619</td>\n",
       "    </tr>\n",
       "    <tr>\n",
       "      <th>2</th>\n",
       "      <td>40-50</td>\n",
       "      <td>f</td>\n",
       "      <td>13.238070</td>\n",
       "    </tr>\n",
       "    <tr>\n",
       "      <th>3</th>\n",
       "      <td>40-50</td>\n",
       "      <td>m</td>\n",
       "      <td>13.127110</td>\n",
       "    </tr>\n",
       "    <tr>\n",
       "      <th>4</th>\n",
       "      <td>50-60</td>\n",
       "      <td>f</td>\n",
       "      <td>16.753914</td>\n",
       "    </tr>\n",
       "    <tr>\n",
       "      <th>5</th>\n",
       "      <td>50-60</td>\n",
       "      <td>m</td>\n",
       "      <td>16.796138</td>\n",
       "    </tr>\n",
       "    <tr>\n",
       "      <th>6</th>\n",
       "      <td>inf 30</td>\n",
       "      <td>f</td>\n",
       "      <td>40.154894</td>\n",
       "    </tr>\n",
       "    <tr>\n",
       "      <th>7</th>\n",
       "      <td>inf 30</td>\n",
       "      <td>m</td>\n",
       "      <td>42.304842</td>\n",
       "    </tr>\n",
       "    <tr>\n",
       "      <th>8</th>\n",
       "      <td>sup 60</td>\n",
       "      <td>f</td>\n",
       "      <td>18.308050</td>\n",
       "    </tr>\n",
       "    <tr>\n",
       "      <th>9</th>\n",
       "      <td>sup 60</td>\n",
       "      <td>m</td>\n",
       "      <td>18.148948</td>\n",
       "    </tr>\n",
       "  </tbody>\n",
       "</table>\n",
       "</div>"
      ],
      "text/plain": [
       "  tranche_age sex      price\n",
       "0       30-40   f  13.259466\n",
       "1       30-40   m  13.247619\n",
       "2       40-50   f  13.238070\n",
       "3       40-50   m  13.127110\n",
       "4       50-60   f  16.753914\n",
       "5       50-60   m  16.796138\n",
       "6      inf 30   f  40.154894\n",
       "7      inf 30   m  42.304842\n",
       "8      sup 60   f  18.308050\n",
       "9      sup 60   m  18.148948"
      ]
     },
     "execution_count": 27,
     "metadata": {},
     "output_type": "execute_result"
    }
   ],
   "source": [
    "# calcul du prix moyen par tranche d'âge et par sexe\n",
    "df_calc = df_calc.pivot_table(index = [\"tranche_age\", \"sex\"], values = \"price\", aggfunc = np.mean)\n",
    "df_calc = df_calc.reset_index()\n",
    "df_calc"
   ]
  },
  {
   "cell_type": "code",
   "execution_count": 28,
   "id": "3e143e6e-d372-41db-8bbe-34b2f65cf17d",
   "metadata": {},
   "outputs": [
    {
     "data": {
      "text/html": [
       "<div>\n",
       "<style scoped>\n",
       "    .dataframe tbody tr th:only-of-type {\n",
       "        vertical-align: middle;\n",
       "    }\n",
       "\n",
       "    .dataframe tbody tr th {\n",
       "        vertical-align: top;\n",
       "    }\n",
       "\n",
       "    .dataframe thead th {\n",
       "        text-align: right;\n",
       "    }\n",
       "</style>\n",
       "<table border=\"1\" class=\"dataframe\">\n",
       "  <thead>\n",
       "    <tr style=\"text-align: right;\">\n",
       "      <th></th>\n",
       "      <th>price</th>\n",
       "    </tr>\n",
       "    <tr>\n",
       "      <th>categ</th>\n",
       "      <th></th>\n",
       "    </tr>\n",
       "  </thead>\n",
       "  <tbody>\n",
       "    <tr>\n",
       "      <th>0.0</th>\n",
       "      <td>10.632588</td>\n",
       "    </tr>\n",
       "    <tr>\n",
       "      <th>1.0</th>\n",
       "      <td>20.485730</td>\n",
       "    </tr>\n",
       "    <tr>\n",
       "      <th>2.0</th>\n",
       "      <td>76.207412</td>\n",
       "    </tr>\n",
       "  </tbody>\n",
       "</table>\n",
       "</div>"
      ],
      "text/plain": [
       "           price\n",
       "categ           \n",
       "0.0    10.632588\n",
       "1.0    20.485730\n",
       "2.0    76.207412"
      ]
     },
     "execution_count": 28,
     "metadata": {},
     "output_type": "execute_result"
    }
   ],
   "source": [
    "# Affichage des prix moyen par catégorie\n",
    "df.pivot_table(index=\"categ\", values = \"price\", aggfunc = np.mean)"
   ]
  },
  {
   "cell_type": "code",
   "execution_count": 29,
   "id": "c66c1113-03a6-4241-a037-2e9e0b1414ea",
   "metadata": {},
   "outputs": [
    {
     "data": {
      "text/html": [
       "<div>\n",
       "<style scoped>\n",
       "    .dataframe tbody tr th:only-of-type {\n",
       "        vertical-align: middle;\n",
       "    }\n",
       "\n",
       "    .dataframe tbody tr th {\n",
       "        vertical-align: top;\n",
       "    }\n",
       "\n",
       "    .dataframe thead th {\n",
       "        text-align: right;\n",
       "    }\n",
       "</style>\n",
       "<table border=\"1\" class=\"dataframe\">\n",
       "  <thead>\n",
       "    <tr style=\"text-align: right;\">\n",
       "      <th></th>\n",
       "      <th>tranche_age</th>\n",
       "      <th>sex</th>\n",
       "      <th>price</th>\n",
       "      <th>categ</th>\n",
       "    </tr>\n",
       "  </thead>\n",
       "  <tbody>\n",
       "    <tr>\n",
       "      <th>0</th>\n",
       "      <td>30-40</td>\n",
       "      <td>f</td>\n",
       "      <td>13.259466</td>\n",
       "      <td>0.0</td>\n",
       "    </tr>\n",
       "    <tr>\n",
       "      <th>1</th>\n",
       "      <td>30-40</td>\n",
       "      <td>m</td>\n",
       "      <td>13.247619</td>\n",
       "      <td>0.0</td>\n",
       "    </tr>\n",
       "    <tr>\n",
       "      <th>2</th>\n",
       "      <td>40-50</td>\n",
       "      <td>f</td>\n",
       "      <td>13.238070</td>\n",
       "      <td>0.0</td>\n",
       "    </tr>\n",
       "    <tr>\n",
       "      <th>3</th>\n",
       "      <td>40-50</td>\n",
       "      <td>m</td>\n",
       "      <td>13.127110</td>\n",
       "      <td>0.0</td>\n",
       "    </tr>\n",
       "    <tr>\n",
       "      <th>4</th>\n",
       "      <td>50-60</td>\n",
       "      <td>f</td>\n",
       "      <td>16.753914</td>\n",
       "      <td>1.0</td>\n",
       "    </tr>\n",
       "    <tr>\n",
       "      <th>5</th>\n",
       "      <td>50-60</td>\n",
       "      <td>m</td>\n",
       "      <td>16.796138</td>\n",
       "      <td>1.0</td>\n",
       "    </tr>\n",
       "    <tr>\n",
       "      <th>6</th>\n",
       "      <td>inf 30</td>\n",
       "      <td>f</td>\n",
       "      <td>40.154894</td>\n",
       "      <td>2.0</td>\n",
       "    </tr>\n",
       "    <tr>\n",
       "      <th>7</th>\n",
       "      <td>inf 30</td>\n",
       "      <td>m</td>\n",
       "      <td>42.304842</td>\n",
       "      <td>2.0</td>\n",
       "    </tr>\n",
       "    <tr>\n",
       "      <th>8</th>\n",
       "      <td>sup 60</td>\n",
       "      <td>f</td>\n",
       "      <td>18.308050</td>\n",
       "      <td>1.0</td>\n",
       "    </tr>\n",
       "    <tr>\n",
       "      <th>9</th>\n",
       "      <td>sup 60</td>\n",
       "      <td>m</td>\n",
       "      <td>18.148948</td>\n",
       "      <td>1.0</td>\n",
       "    </tr>\n",
       "  </tbody>\n",
       "</table>\n",
       "</div>"
      ],
      "text/plain": [
       "  tranche_age sex      price  categ\n",
       "0       30-40   f  13.259466    0.0\n",
       "1       30-40   m  13.247619    0.0\n",
       "2       40-50   f  13.238070    0.0\n",
       "3       40-50   m  13.127110    0.0\n",
       "4       50-60   f  16.753914    1.0\n",
       "5       50-60   m  16.796138    1.0\n",
       "6      inf 30   f  40.154894    2.0\n",
       "7      inf 30   m  42.304842    2.0\n",
       "8      sup 60   f  18.308050    1.0\n",
       "9      sup 60   m  18.148948    1.0"
      ]
     },
     "execution_count": 29,
     "metadata": {},
     "output_type": "execute_result"
    }
   ],
   "source": [
    "# Affectation d'une catégorie selon le prix\n",
    "def categ(price) :\n",
    "    if price < 15 :\n",
    "        return 0.0\n",
    "    elif price >= 15 and price < 30 :\n",
    "        return 1.0\n",
    "    else :\n",
    "        return 2.0\n",
    "    \n",
    "df_calc[\"categ\"] = df_calc[\"price\"].apply(categ)\n",
    "df_calc"
   ]
  },
  {
   "cell_type": "code",
   "execution_count": 30,
   "id": "7693aecb-cfaa-4149-98dc-d4ba242419a4",
   "metadata": {},
   "outputs": [
    {
     "data": {
      "text/html": [
       "<div>\n",
       "<style scoped>\n",
       "    .dataframe tbody tr th:only-of-type {\n",
       "        vertical-align: middle;\n",
       "    }\n",
       "\n",
       "    .dataframe tbody tr th {\n",
       "        vertical-align: top;\n",
       "    }\n",
       "\n",
       "    .dataframe thead th {\n",
       "        text-align: right;\n",
       "    }\n",
       "</style>\n",
       "<table border=\"1\" class=\"dataframe\">\n",
       "  <thead>\n",
       "    <tr style=\"text-align: right;\">\n",
       "      <th></th>\n",
       "      <th>client_id</th>\n",
       "      <th>sex</th>\n",
       "      <th>birth</th>\n",
       "      <th>age</th>\n",
       "      <th>tranche_age</th>\n",
       "      <th>id_prod</th>\n",
       "      <th>date</th>\n",
       "      <th>session_id</th>\n",
       "      <th>price</th>\n",
       "      <th>categ</th>\n",
       "    </tr>\n",
       "  </thead>\n",
       "  <tbody>\n",
       "    <tr>\n",
       "      <th>0</th>\n",
       "      <td>c_4505</td>\n",
       "      <td>m</td>\n",
       "      <td>1976.0</td>\n",
       "      <td>46.0</td>\n",
       "      <td>40-50</td>\n",
       "      <td>0_2245</td>\n",
       "      <td>2022-01-09 09:23:31.000720</td>\n",
       "      <td>s_147220</td>\n",
       "      <td>13.12711</td>\n",
       "      <td>0.0</td>\n",
       "    </tr>\n",
       "    <tr>\n",
       "      <th>1</th>\n",
       "      <td>c_4505</td>\n",
       "      <td>m</td>\n",
       "      <td>1976.0</td>\n",
       "      <td>46.0</td>\n",
       "      <td>40-50</td>\n",
       "      <td>0_2245</td>\n",
       "      <td>2022-11-09 09:23:31.000720</td>\n",
       "      <td>s_295013</td>\n",
       "      <td>13.12711</td>\n",
       "      <td>0.0</td>\n",
       "    </tr>\n",
       "    <tr>\n",
       "      <th>2</th>\n",
       "      <td>c_3468</td>\n",
       "      <td>f</td>\n",
       "      <td>1981.0</td>\n",
       "      <td>41.0</td>\n",
       "      <td>40-50</td>\n",
       "      <td>0_2245</td>\n",
       "      <td>2021-09-11 10:52:05.205583</td>\n",
       "      <td>s_88251</td>\n",
       "      <td>13.23807</td>\n",
       "      <td>0.0</td>\n",
       "    </tr>\n",
       "    <tr>\n",
       "      <th>3</th>\n",
       "      <td>c_3468</td>\n",
       "      <td>f</td>\n",
       "      <td>1981.0</td>\n",
       "      <td>41.0</td>\n",
       "      <td>40-50</td>\n",
       "      <td>0_2245</td>\n",
       "      <td>2022-05-11 10:52:05.205583</td>\n",
       "      <td>s_206902</td>\n",
       "      <td>13.23807</td>\n",
       "      <td>0.0</td>\n",
       "    </tr>\n",
       "    <tr>\n",
       "      <th>4</th>\n",
       "      <td>c_1403</td>\n",
       "      <td>f</td>\n",
       "      <td>1978.0</td>\n",
       "      <td>44.0</td>\n",
       "      <td>40-50</td>\n",
       "      <td>0_2245</td>\n",
       "      <td>2022-09-15 14:26:50.187952</td>\n",
       "      <td>s_268455</td>\n",
       "      <td>13.23807</td>\n",
       "      <td>0.0</td>\n",
       "    </tr>\n",
       "    <tr>\n",
       "      <th>...</th>\n",
       "      <td>...</td>\n",
       "      <td>...</td>\n",
       "      <td>...</td>\n",
       "      <td>...</td>\n",
       "      <td>...</td>\n",
       "      <td>...</td>\n",
       "      <td>...</td>\n",
       "      <td>...</td>\n",
       "      <td>...</td>\n",
       "      <td>...</td>\n",
       "    </tr>\n",
       "    <tr>\n",
       "      <th>216</th>\n",
       "      <td>c_4283</td>\n",
       "      <td>f</td>\n",
       "      <td>1976.0</td>\n",
       "      <td>46.0</td>\n",
       "      <td>40-50</td>\n",
       "      <td>0_2245</td>\n",
       "      <td>2022-08-01 02:46:38.931757</td>\n",
       "      <td>s_246657</td>\n",
       "      <td>13.23807</td>\n",
       "      <td>0.0</td>\n",
       "    </tr>\n",
       "    <tr>\n",
       "      <th>217</th>\n",
       "      <td>c_4283</td>\n",
       "      <td>f</td>\n",
       "      <td>1976.0</td>\n",
       "      <td>46.0</td>\n",
       "      <td>40-50</td>\n",
       "      <td>0_2245</td>\n",
       "      <td>2021-09-01 02:46:38.931757</td>\n",
       "      <td>s_83377</td>\n",
       "      <td>13.23807</td>\n",
       "      <td>0.0</td>\n",
       "    </tr>\n",
       "    <tr>\n",
       "      <th>218</th>\n",
       "      <td>c_6236</td>\n",
       "      <td>f</td>\n",
       "      <td>1976.0</td>\n",
       "      <td>46.0</td>\n",
       "      <td>40-50</td>\n",
       "      <td>0_2245</td>\n",
       "      <td>2022-02-25 00:08:08.736068</td>\n",
       "      <td>s_170426</td>\n",
       "      <td>13.23807</td>\n",
       "      <td>0.0</td>\n",
       "    </tr>\n",
       "    <tr>\n",
       "      <th>219</th>\n",
       "      <td>c_4453</td>\n",
       "      <td>m</td>\n",
       "      <td>1981.0</td>\n",
       "      <td>41.0</td>\n",
       "      <td>40-50</td>\n",
       "      <td>0_2245</td>\n",
       "      <td>2022-02-16 11:35:20.319501</td>\n",
       "      <td>s_166050</td>\n",
       "      <td>13.12711</td>\n",
       "      <td>0.0</td>\n",
       "    </tr>\n",
       "    <tr>\n",
       "      <th>220</th>\n",
       "      <td>c_4453</td>\n",
       "      <td>m</td>\n",
       "      <td>1981.0</td>\n",
       "      <td>41.0</td>\n",
       "      <td>40-50</td>\n",
       "      <td>0_2245</td>\n",
       "      <td>2022-05-16 11:35:20.319501</td>\n",
       "      <td>s_209381</td>\n",
       "      <td>13.12711</td>\n",
       "      <td>0.0</td>\n",
       "    </tr>\n",
       "  </tbody>\n",
       "</table>\n",
       "<p>221 rows × 10 columns</p>\n",
       "</div>"
      ],
      "text/plain": [
       "    client_id sex   birth   age tranche_age id_prod  \\\n",
       "0      c_4505   m  1976.0  46.0       40-50  0_2245   \n",
       "1      c_4505   m  1976.0  46.0       40-50  0_2245   \n",
       "2      c_3468   f  1981.0  41.0       40-50  0_2245   \n",
       "3      c_3468   f  1981.0  41.0       40-50  0_2245   \n",
       "4      c_1403   f  1978.0  44.0       40-50  0_2245   \n",
       "..        ...  ..     ...   ...         ...     ...   \n",
       "216    c_4283   f  1976.0  46.0       40-50  0_2245   \n",
       "217    c_4283   f  1976.0  46.0       40-50  0_2245   \n",
       "218    c_6236   f  1976.0  46.0       40-50  0_2245   \n",
       "219    c_4453   m  1981.0  41.0       40-50  0_2245   \n",
       "220    c_4453   m  1981.0  41.0       40-50  0_2245   \n",
       "\n",
       "                           date session_id     price  categ  \n",
       "0    2022-01-09 09:23:31.000720   s_147220  13.12711    0.0  \n",
       "1    2022-11-09 09:23:31.000720   s_295013  13.12711    0.0  \n",
       "2    2021-09-11 10:52:05.205583    s_88251  13.23807    0.0  \n",
       "3    2022-05-11 10:52:05.205583   s_206902  13.23807    0.0  \n",
       "4    2022-09-15 14:26:50.187952   s_268455  13.23807    0.0  \n",
       "..                          ...        ...       ...    ...  \n",
       "216  2022-08-01 02:46:38.931757   s_246657  13.23807    0.0  \n",
       "217  2021-09-01 02:46:38.931757    s_83377  13.23807    0.0  \n",
       "218  2022-02-25 00:08:08.736068   s_170426  13.23807    0.0  \n",
       "219  2022-02-16 11:35:20.319501   s_166050  13.12711    0.0  \n",
       "220  2022-05-16 11:35:20.319501   s_209381  13.12711    0.0  \n",
       "\n",
       "[221 rows x 10 columns]"
      ]
     },
     "execution_count": 30,
     "metadata": {},
     "output_type": "execute_result"
    }
   ],
   "source": [
    "# Imputation des prix et categ aux manquants\n",
    "tranche_age = df_missing_prod[\"age\"].apply(t_age)\n",
    "df_missing_prod.insert(loc = 4, value = tranche_age, column = \"tranche_age\")\n",
    "del df_missing_prod[\"price\"]\n",
    "del df_missing_prod[\"categ\"]\n",
    "del df_missing_prod[\"_merge\"]\n",
    "df_missing_prod = pd.merge(df_missing_prod, df_calc, how = \"left\", on = [\"tranche_age\",\"sex\"])\n",
    "df_missing_prod"
   ]
  },
  {
   "cell_type": "code",
   "execution_count": 31,
   "id": "911e6a3c-2b0d-4e0b-bd20-ab5a804c2632",
   "metadata": {},
   "outputs": [],
   "source": [
    "# on remet les lignes imputées dans le dataframe\n",
    "del df_missing_prod[\"tranche_age\"]\n",
    "df = pd.concat([df, df_missing_prod])"
   ]
  },
  {
   "cell_type": "code",
   "execution_count": 32,
   "id": "0e678157-dc5f-4605-99ac-e3814931c1b5",
   "metadata": {},
   "outputs": [
    {
     "data": {
      "text/html": [
       "<div>\n",
       "<style scoped>\n",
       "    .dataframe tbody tr th:only-of-type {\n",
       "        vertical-align: middle;\n",
       "    }\n",
       "\n",
       "    .dataframe tbody tr th {\n",
       "        vertical-align: top;\n",
       "    }\n",
       "\n",
       "    .dataframe thead th {\n",
       "        text-align: right;\n",
       "    }\n",
       "</style>\n",
       "<table border=\"1\" class=\"dataframe\">\n",
       "  <thead>\n",
       "    <tr style=\"text-align: right;\">\n",
       "      <th></th>\n",
       "      <th>client_id</th>\n",
       "      <th>sex</th>\n",
       "      <th>birth</th>\n",
       "      <th>age</th>\n",
       "      <th>id_prod</th>\n",
       "      <th>date</th>\n",
       "      <th>date_mois</th>\n",
       "      <th>date_jour</th>\n",
       "      <th>session_id</th>\n",
       "      <th>price</th>\n",
       "      <th>categ</th>\n",
       "    </tr>\n",
       "  </thead>\n",
       "  <tbody>\n",
       "    <tr>\n",
       "      <th>678109</th>\n",
       "      <td>ct_0</td>\n",
       "      <td>f</td>\n",
       "      <td>2001.0</td>\n",
       "      <td>21.0</td>\n",
       "      <td>T_0</td>\n",
       "      <td>test_2021-03-01 02:30:02.237419</td>\n",
       "      <td>None</td>\n",
       "      <td>None</td>\n",
       "      <td>s_0</td>\n",
       "      <td>-1.0</td>\n",
       "      <td>0.0</td>\n",
       "    </tr>\n",
       "    <tr>\n",
       "      <th>678110</th>\n",
       "      <td>ct_0</td>\n",
       "      <td>f</td>\n",
       "      <td>2001.0</td>\n",
       "      <td>21.0</td>\n",
       "      <td>T_0</td>\n",
       "      <td>test_2021-03-01 02:30:02.237425</td>\n",
       "      <td>None</td>\n",
       "      <td>None</td>\n",
       "      <td>s_0</td>\n",
       "      <td>-1.0</td>\n",
       "      <td>0.0</td>\n",
       "    </tr>\n",
       "    <tr>\n",
       "      <th>678111</th>\n",
       "      <td>ct_0</td>\n",
       "      <td>f</td>\n",
       "      <td>2001.0</td>\n",
       "      <td>21.0</td>\n",
       "      <td>T_0</td>\n",
       "      <td>test_2021-03-01 02:30:02.237436</td>\n",
       "      <td>None</td>\n",
       "      <td>None</td>\n",
       "      <td>s_0</td>\n",
       "      <td>-1.0</td>\n",
       "      <td>0.0</td>\n",
       "    </tr>\n",
       "    <tr>\n",
       "      <th>678112</th>\n",
       "      <td>ct_0</td>\n",
       "      <td>f</td>\n",
       "      <td>2001.0</td>\n",
       "      <td>21.0</td>\n",
       "      <td>T_0</td>\n",
       "      <td>test_2021-03-01 02:30:02.237430</td>\n",
       "      <td>None</td>\n",
       "      <td>None</td>\n",
       "      <td>s_0</td>\n",
       "      <td>-1.0</td>\n",
       "      <td>0.0</td>\n",
       "    </tr>\n",
       "    <tr>\n",
       "      <th>678113</th>\n",
       "      <td>ct_0</td>\n",
       "      <td>f</td>\n",
       "      <td>2001.0</td>\n",
       "      <td>21.0</td>\n",
       "      <td>T_0</td>\n",
       "      <td>test_2021-03-01 02:30:02.237449</td>\n",
       "      <td>None</td>\n",
       "      <td>None</td>\n",
       "      <td>s_0</td>\n",
       "      <td>-1.0</td>\n",
       "      <td>0.0</td>\n",
       "    </tr>\n",
       "    <tr>\n",
       "      <th>...</th>\n",
       "      <td>...</td>\n",
       "      <td>...</td>\n",
       "      <td>...</td>\n",
       "      <td>...</td>\n",
       "      <td>...</td>\n",
       "      <td>...</td>\n",
       "      <td>...</td>\n",
       "      <td>...</td>\n",
       "      <td>...</td>\n",
       "      <td>...</td>\n",
       "      <td>...</td>\n",
       "    </tr>\n",
       "    <tr>\n",
       "      <th>678304</th>\n",
       "      <td>ct_1</td>\n",
       "      <td>m</td>\n",
       "      <td>2001.0</td>\n",
       "      <td>21.0</td>\n",
       "      <td>T_0</td>\n",
       "      <td>test_2021-03-01 02:30:02.237420</td>\n",
       "      <td>None</td>\n",
       "      <td>None</td>\n",
       "      <td>s_0</td>\n",
       "      <td>-1.0</td>\n",
       "      <td>0.0</td>\n",
       "    </tr>\n",
       "    <tr>\n",
       "      <th>678305</th>\n",
       "      <td>ct_1</td>\n",
       "      <td>m</td>\n",
       "      <td>2001.0</td>\n",
       "      <td>21.0</td>\n",
       "      <td>T_0</td>\n",
       "      <td>test_2021-03-01 02:30:02.237427</td>\n",
       "      <td>None</td>\n",
       "      <td>None</td>\n",
       "      <td>s_0</td>\n",
       "      <td>-1.0</td>\n",
       "      <td>0.0</td>\n",
       "    </tr>\n",
       "    <tr>\n",
       "      <th>678306</th>\n",
       "      <td>ct_1</td>\n",
       "      <td>m</td>\n",
       "      <td>2001.0</td>\n",
       "      <td>21.0</td>\n",
       "      <td>T_0</td>\n",
       "      <td>test_2021-03-01 02:30:02.237449</td>\n",
       "      <td>None</td>\n",
       "      <td>None</td>\n",
       "      <td>s_0</td>\n",
       "      <td>-1.0</td>\n",
       "      <td>0.0</td>\n",
       "    </tr>\n",
       "    <tr>\n",
       "      <th>678307</th>\n",
       "      <td>ct_1</td>\n",
       "      <td>m</td>\n",
       "      <td>2001.0</td>\n",
       "      <td>21.0</td>\n",
       "      <td>T_0</td>\n",
       "      <td>test_2021-03-01 02:30:02.237424</td>\n",
       "      <td>None</td>\n",
       "      <td>None</td>\n",
       "      <td>s_0</td>\n",
       "      <td>-1.0</td>\n",
       "      <td>0.0</td>\n",
       "    </tr>\n",
       "    <tr>\n",
       "      <th>678308</th>\n",
       "      <td>ct_1</td>\n",
       "      <td>m</td>\n",
       "      <td>2001.0</td>\n",
       "      <td>21.0</td>\n",
       "      <td>T_0</td>\n",
       "      <td>test_2021-03-01 02:30:02.237425</td>\n",
       "      <td>None</td>\n",
       "      <td>None</td>\n",
       "      <td>s_0</td>\n",
       "      <td>-1.0</td>\n",
       "      <td>0.0</td>\n",
       "    </tr>\n",
       "  </tbody>\n",
       "</table>\n",
       "<p>200 rows × 11 columns</p>\n",
       "</div>"
      ],
      "text/plain": [
       "       client_id sex   birth   age id_prod                             date  \\\n",
       "678109      ct_0   f  2001.0  21.0     T_0  test_2021-03-01 02:30:02.237419   \n",
       "678110      ct_0   f  2001.0  21.0     T_0  test_2021-03-01 02:30:02.237425   \n",
       "678111      ct_0   f  2001.0  21.0     T_0  test_2021-03-01 02:30:02.237436   \n",
       "678112      ct_0   f  2001.0  21.0     T_0  test_2021-03-01 02:30:02.237430   \n",
       "678113      ct_0   f  2001.0  21.0     T_0  test_2021-03-01 02:30:02.237449   \n",
       "...          ...  ..     ...   ...     ...                              ...   \n",
       "678304      ct_1   m  2001.0  21.0     T_0  test_2021-03-01 02:30:02.237420   \n",
       "678305      ct_1   m  2001.0  21.0     T_0  test_2021-03-01 02:30:02.237427   \n",
       "678306      ct_1   m  2001.0  21.0     T_0  test_2021-03-01 02:30:02.237449   \n",
       "678307      ct_1   m  2001.0  21.0     T_0  test_2021-03-01 02:30:02.237424   \n",
       "678308      ct_1   m  2001.0  21.0     T_0  test_2021-03-01 02:30:02.237425   \n",
       "\n",
       "       date_mois date_jour session_id  price  categ  \n",
       "678109      None      None        s_0   -1.0    0.0  \n",
       "678110      None      None        s_0   -1.0    0.0  \n",
       "678111      None      None        s_0   -1.0    0.0  \n",
       "678112      None      None        s_0   -1.0    0.0  \n",
       "678113      None      None        s_0   -1.0    0.0  \n",
       "...          ...       ...        ...    ...    ...  \n",
       "678304      None      None        s_0   -1.0    0.0  \n",
       "678305      None      None        s_0   -1.0    0.0  \n",
       "678306      None      None        s_0   -1.0    0.0  \n",
       "678307      None      None        s_0   -1.0    0.0  \n",
       "678308      None      None        s_0   -1.0    0.0  \n",
       "\n",
       "[200 rows x 11 columns]"
      ]
     },
     "execution_count": 32,
     "metadata": {},
     "output_type": "execute_result"
    }
   ],
   "source": [
    "# Conversion des dates au format date\n",
    "def conv_date(date, fmt):\n",
    "    try :\n",
    "        return datetime.datetime.strptime(date[:10], '%Y-%m-%d').strftime(fmt)\n",
    "    except :\n",
    "        return None\n",
    "    \n",
    "    \n",
    "date_mois = df.date.apply(conv_date, fmt = '%Y-%m')\n",
    "date_jour = df.date.apply(conv_date, fmt = '%Y-%m-%d')\n",
    "df.insert(loc = 6, value = date_mois, column = \"date_mois\")\n",
    "df.insert(loc = 7, value = date_jour, column = \"date_jour\")\n",
    "df[pd.isna(df.date_mois)]"
   ]
  },
  {
   "cell_type": "code",
   "execution_count": 33,
   "id": "5d62ac9f-7fec-4dc1-9da0-71a34091bdf7",
   "metadata": {},
   "outputs": [],
   "source": [
    "# Analyse des date en doublons\n",
    "\n",
    "liste_doublons = listDups(df.date)"
   ]
  },
  {
   "cell_type": "code",
   "execution_count": 34,
   "id": "aa737eb0-60e3-4ba7-8122-a342bb713ca8",
   "metadata": {},
   "outputs": [
    {
     "data": {
      "text/html": [
       "<div>\n",
       "<style scoped>\n",
       "    .dataframe tbody tr th:only-of-type {\n",
       "        vertical-align: middle;\n",
       "    }\n",
       "\n",
       "    .dataframe tbody tr th {\n",
       "        vertical-align: top;\n",
       "    }\n",
       "\n",
       "    .dataframe thead th {\n",
       "        text-align: right;\n",
       "    }\n",
       "</style>\n",
       "<table border=\"1\" class=\"dataframe\">\n",
       "  <thead>\n",
       "    <tr style=\"text-align: right;\">\n",
       "      <th></th>\n",
       "      <th>client_id</th>\n",
       "      <th>sex</th>\n",
       "      <th>birth</th>\n",
       "      <th>age</th>\n",
       "      <th>id_prod</th>\n",
       "      <th>date</th>\n",
       "      <th>date_mois</th>\n",
       "      <th>date_jour</th>\n",
       "      <th>session_id</th>\n",
       "      <th>price</th>\n",
       "      <th>categ</th>\n",
       "    </tr>\n",
       "  </thead>\n",
       "  <tbody>\n",
       "    <tr>\n",
       "      <th>678120</th>\n",
       "      <td>ct_0</td>\n",
       "      <td>f</td>\n",
       "      <td>2001.0</td>\n",
       "      <td>21.0</td>\n",
       "      <td>T_0</td>\n",
       "      <td>test_2021-03-01 02:30:02.237431</td>\n",
       "      <td>None</td>\n",
       "      <td>None</td>\n",
       "      <td>s_0</td>\n",
       "      <td>-1.0</td>\n",
       "      <td>0.0</td>\n",
       "    </tr>\n",
       "    <tr>\n",
       "      <th>678142</th>\n",
       "      <td>ct_0</td>\n",
       "      <td>f</td>\n",
       "      <td>2001.0</td>\n",
       "      <td>21.0</td>\n",
       "      <td>T_0</td>\n",
       "      <td>test_2021-03-01 02:30:02.237418</td>\n",
       "      <td>None</td>\n",
       "      <td>None</td>\n",
       "      <td>s_0</td>\n",
       "      <td>-1.0</td>\n",
       "      <td>0.0</td>\n",
       "    </tr>\n",
       "    <tr>\n",
       "      <th>678201</th>\n",
       "      <td>ct_0</td>\n",
       "      <td>f</td>\n",
       "      <td>2001.0</td>\n",
       "      <td>21.0</td>\n",
       "      <td>T_0</td>\n",
       "      <td>test_2021-03-01 02:30:02.237424</td>\n",
       "      <td>None</td>\n",
       "      <td>None</td>\n",
       "      <td>s_0</td>\n",
       "      <td>-1.0</td>\n",
       "      <td>0.0</td>\n",
       "    </tr>\n",
       "    <tr>\n",
       "      <th>678206</th>\n",
       "      <td>ct_0</td>\n",
       "      <td>f</td>\n",
       "      <td>2001.0</td>\n",
       "      <td>21.0</td>\n",
       "      <td>T_0</td>\n",
       "      <td>test_2021-03-01 02:30:02.237424</td>\n",
       "      <td>None</td>\n",
       "      <td>None</td>\n",
       "      <td>s_0</td>\n",
       "      <td>-1.0</td>\n",
       "      <td>0.0</td>\n",
       "    </tr>\n",
       "    <tr>\n",
       "      <th>678218</th>\n",
       "      <td>ct_1</td>\n",
       "      <td>m</td>\n",
       "      <td>2001.0</td>\n",
       "      <td>21.0</td>\n",
       "      <td>T_0</td>\n",
       "      <td>test_2021-03-01 02:30:02.237418</td>\n",
       "      <td>None</td>\n",
       "      <td>None</td>\n",
       "      <td>s_0</td>\n",
       "      <td>-1.0</td>\n",
       "      <td>0.0</td>\n",
       "    </tr>\n",
       "    <tr>\n",
       "      <th>678244</th>\n",
       "      <td>ct_1</td>\n",
       "      <td>m</td>\n",
       "      <td>2001.0</td>\n",
       "      <td>21.0</td>\n",
       "      <td>T_0</td>\n",
       "      <td>test_2021-03-01 02:30:02.237424</td>\n",
       "      <td>None</td>\n",
       "      <td>None</td>\n",
       "      <td>s_0</td>\n",
       "      <td>-1.0</td>\n",
       "      <td>0.0</td>\n",
       "    </tr>\n",
       "    <tr>\n",
       "      <th>678261</th>\n",
       "      <td>ct_1</td>\n",
       "      <td>m</td>\n",
       "      <td>2001.0</td>\n",
       "      <td>21.0</td>\n",
       "      <td>T_0</td>\n",
       "      <td>test_2021-03-01 02:30:02.237418</td>\n",
       "      <td>None</td>\n",
       "      <td>None</td>\n",
       "      <td>s_0</td>\n",
       "      <td>-1.0</td>\n",
       "      <td>0.0</td>\n",
       "    </tr>\n",
       "    <tr>\n",
       "      <th>678262</th>\n",
       "      <td>ct_1</td>\n",
       "      <td>m</td>\n",
       "      <td>2001.0</td>\n",
       "      <td>21.0</td>\n",
       "      <td>T_0</td>\n",
       "      <td>test_2021-03-01 02:30:02.237431</td>\n",
       "      <td>None</td>\n",
       "      <td>None</td>\n",
       "      <td>s_0</td>\n",
       "      <td>-1.0</td>\n",
       "      <td>0.0</td>\n",
       "    </tr>\n",
       "    <tr>\n",
       "      <th>678271</th>\n",
       "      <td>ct_1</td>\n",
       "      <td>m</td>\n",
       "      <td>2001.0</td>\n",
       "      <td>21.0</td>\n",
       "      <td>T_0</td>\n",
       "      <td>test_2021-03-01 02:30:02.237424</td>\n",
       "      <td>None</td>\n",
       "      <td>None</td>\n",
       "      <td>s_0</td>\n",
       "      <td>-1.0</td>\n",
       "      <td>0.0</td>\n",
       "    </tr>\n",
       "    <tr>\n",
       "      <th>678276</th>\n",
       "      <td>ct_1</td>\n",
       "      <td>m</td>\n",
       "      <td>2001.0</td>\n",
       "      <td>21.0</td>\n",
       "      <td>T_0</td>\n",
       "      <td>test_2021-03-01 02:30:02.237431</td>\n",
       "      <td>None</td>\n",
       "      <td>None</td>\n",
       "      <td>s_0</td>\n",
       "      <td>-1.0</td>\n",
       "      <td>0.0</td>\n",
       "    </tr>\n",
       "    <tr>\n",
       "      <th>678286</th>\n",
       "      <td>ct_1</td>\n",
       "      <td>m</td>\n",
       "      <td>2001.0</td>\n",
       "      <td>21.0</td>\n",
       "      <td>T_0</td>\n",
       "      <td>test_2021-03-01 02:30:02.237418</td>\n",
       "      <td>None</td>\n",
       "      <td>None</td>\n",
       "      <td>s_0</td>\n",
       "      <td>-1.0</td>\n",
       "      <td>0.0</td>\n",
       "    </tr>\n",
       "    <tr>\n",
       "      <th>678291</th>\n",
       "      <td>ct_1</td>\n",
       "      <td>m</td>\n",
       "      <td>2001.0</td>\n",
       "      <td>21.0</td>\n",
       "      <td>T_0</td>\n",
       "      <td>test_2021-03-01 02:30:02.237431</td>\n",
       "      <td>None</td>\n",
       "      <td>None</td>\n",
       "      <td>s_0</td>\n",
       "      <td>-1.0</td>\n",
       "      <td>0.0</td>\n",
       "    </tr>\n",
       "    <tr>\n",
       "      <th>678307</th>\n",
       "      <td>ct_1</td>\n",
       "      <td>m</td>\n",
       "      <td>2001.0</td>\n",
       "      <td>21.0</td>\n",
       "      <td>T_0</td>\n",
       "      <td>test_2021-03-01 02:30:02.237424</td>\n",
       "      <td>None</td>\n",
       "      <td>None</td>\n",
       "      <td>s_0</td>\n",
       "      <td>-1.0</td>\n",
       "      <td>0.0</td>\n",
       "    </tr>\n",
       "  </tbody>\n",
       "</table>\n",
       "</div>"
      ],
      "text/plain": [
       "       client_id sex   birth   age id_prod                             date  \\\n",
       "678120      ct_0   f  2001.0  21.0     T_0  test_2021-03-01 02:30:02.237431   \n",
       "678142      ct_0   f  2001.0  21.0     T_0  test_2021-03-01 02:30:02.237418   \n",
       "678201      ct_0   f  2001.0  21.0     T_0  test_2021-03-01 02:30:02.237424   \n",
       "678206      ct_0   f  2001.0  21.0     T_0  test_2021-03-01 02:30:02.237424   \n",
       "678218      ct_1   m  2001.0  21.0     T_0  test_2021-03-01 02:30:02.237418   \n",
       "678244      ct_1   m  2001.0  21.0     T_0  test_2021-03-01 02:30:02.237424   \n",
       "678261      ct_1   m  2001.0  21.0     T_0  test_2021-03-01 02:30:02.237418   \n",
       "678262      ct_1   m  2001.0  21.0     T_0  test_2021-03-01 02:30:02.237431   \n",
       "678271      ct_1   m  2001.0  21.0     T_0  test_2021-03-01 02:30:02.237424   \n",
       "678276      ct_1   m  2001.0  21.0     T_0  test_2021-03-01 02:30:02.237431   \n",
       "678286      ct_1   m  2001.0  21.0     T_0  test_2021-03-01 02:30:02.237418   \n",
       "678291      ct_1   m  2001.0  21.0     T_0  test_2021-03-01 02:30:02.237431   \n",
       "678307      ct_1   m  2001.0  21.0     T_0  test_2021-03-01 02:30:02.237424   \n",
       "\n",
       "       date_mois date_jour session_id  price  categ  \n",
       "678120      None      None        s_0   -1.0    0.0  \n",
       "678142      None      None        s_0   -1.0    0.0  \n",
       "678201      None      None        s_0   -1.0    0.0  \n",
       "678206      None      None        s_0   -1.0    0.0  \n",
       "678218      None      None        s_0   -1.0    0.0  \n",
       "678244      None      None        s_0   -1.0    0.0  \n",
       "678261      None      None        s_0   -1.0    0.0  \n",
       "678262      None      None        s_0   -1.0    0.0  \n",
       "678271      None      None        s_0   -1.0    0.0  \n",
       "678276      None      None        s_0   -1.0    0.0  \n",
       "678286      None      None        s_0   -1.0    0.0  \n",
       "678291      None      None        s_0   -1.0    0.0  \n",
       "678307      None      None        s_0   -1.0    0.0  "
      ]
     },
     "execution_count": 34,
     "metadata": {},
     "output_type": "execute_result"
    }
   ],
   "source": [
    "df_test = df[df.date.isin([\"test_2021-03-01 02:30:02.237431\",\"test_2021-03-01 02:30:02.237418\", \"test_2021-03-01 02:30:02.237424\"])]\n",
    "df_test\n",
    "# ces lignes semblent correspondrent a des test et doivent etre supprimées car leur prix est incohérent"
   ]
  },
  {
   "cell_type": "code",
   "execution_count": 35,
   "id": "e3671aba-d6bd-4b9a-a58c-f23e4575092e",
   "metadata": {},
   "outputs": [],
   "source": [
    "df = df[~df.date.str.contains(\"test\")]"
   ]
  },
  {
   "cell_type": "markdown",
   "id": "15dac573-8734-48b5-a10e-d320a2057197",
   "metadata": {},
   "source": [
    "# <font color=\"blue\"> Analyse du CA </font>"
   ]
  },
  {
   "cell_type": "code",
   "execution_count": 36,
   "id": "85839f13-0f1c-4582-90a8-f61106c67f45",
   "metadata": {},
   "outputs": [
    {
     "data": {
      "text/html": [
       "<div>\n",
       "<style scoped>\n",
       "    .dataframe tbody tr th:only-of-type {\n",
       "        vertical-align: middle;\n",
       "    }\n",
       "\n",
       "    .dataframe tbody tr th {\n",
       "        vertical-align: top;\n",
       "    }\n",
       "\n",
       "    .dataframe thead th {\n",
       "        text-align: right;\n",
       "    }\n",
       "</style>\n",
       "<table border=\"1\" class=\"dataframe\">\n",
       "  <thead>\n",
       "    <tr style=\"text-align: right;\">\n",
       "      <th></th>\n",
       "      <th>client_id</th>\n",
       "      <th>sex</th>\n",
       "      <th>birth</th>\n",
       "      <th>age</th>\n",
       "      <th>id_prod</th>\n",
       "      <th>date</th>\n",
       "      <th>date_mois</th>\n",
       "      <th>date_jour</th>\n",
       "      <th>session_id</th>\n",
       "      <th>price</th>\n",
       "      <th>categ</th>\n",
       "    </tr>\n",
       "  </thead>\n",
       "  <tbody>\n",
       "    <tr>\n",
       "      <th>0</th>\n",
       "      <td>c_4410</td>\n",
       "      <td>f</td>\n",
       "      <td>1967.0</td>\n",
       "      <td>55.0</td>\n",
       "      <td>0_1316</td>\n",
       "      <td>2021-12-29 09:11:18.860592</td>\n",
       "      <td>2021-12</td>\n",
       "      <td>2021-12-29</td>\n",
       "      <td>s_141762</td>\n",
       "      <td>7.2</td>\n",
       "      <td>0.0</td>\n",
       "    </tr>\n",
       "    <tr>\n",
       "      <th>1</th>\n",
       "      <td>c_4410</td>\n",
       "      <td>f</td>\n",
       "      <td>1967.0</td>\n",
       "      <td>55.0</td>\n",
       "      <td>0_1316</td>\n",
       "      <td>2022-03-29 09:11:18.860592</td>\n",
       "      <td>2022-03</td>\n",
       "      <td>2022-03-29</td>\n",
       "      <td>s_186233</td>\n",
       "      <td>7.2</td>\n",
       "      <td>0.0</td>\n",
       "    </tr>\n",
       "    <tr>\n",
       "      <th>2</th>\n",
       "      <td>c_4410</td>\n",
       "      <td>f</td>\n",
       "      <td>1967.0</td>\n",
       "      <td>55.0</td>\n",
       "      <td>0_1316</td>\n",
       "      <td>2022-05-29 09:11:18.860592</td>\n",
       "      <td>2022-05</td>\n",
       "      <td>2022-05-29</td>\n",
       "      <td>s_215758</td>\n",
       "      <td>7.2</td>\n",
       "      <td>0.0</td>\n",
       "    </tr>\n",
       "    <tr>\n",
       "      <th>3</th>\n",
       "      <td>c_3654</td>\n",
       "      <td>f</td>\n",
       "      <td>1978.0</td>\n",
       "      <td>44.0</td>\n",
       "      <td>0_1316</td>\n",
       "      <td>2021-11-26 03:51:34.068872</td>\n",
       "      <td>2021-11</td>\n",
       "      <td>2021-11-26</td>\n",
       "      <td>s_125143</td>\n",
       "      <td>7.2</td>\n",
       "      <td>0.0</td>\n",
       "    </tr>\n",
       "    <tr>\n",
       "      <th>4</th>\n",
       "      <td>c_3654</td>\n",
       "      <td>f</td>\n",
       "      <td>1978.0</td>\n",
       "      <td>44.0</td>\n",
       "      <td>0_1316</td>\n",
       "      <td>2022-08-26 03:51:34.068872</td>\n",
       "      <td>2022-08</td>\n",
       "      <td>2022-08-26</td>\n",
       "      <td>s_258546</td>\n",
       "      <td>7.2</td>\n",
       "      <td>0.0</td>\n",
       "    </tr>\n",
       "    <tr>\n",
       "      <th>5</th>\n",
       "      <td>c_3991</td>\n",
       "      <td>f</td>\n",
       "      <td>1982.0</td>\n",
       "      <td>40.0</td>\n",
       "      <td>0_1316</td>\n",
       "      <td>2022-11-06 18:36:59.453434</td>\n",
       "      <td>2022-11</td>\n",
       "      <td>2022-11-06</td>\n",
       "      <td>s_293652</td>\n",
       "      <td>7.2</td>\n",
       "      <td>0.0</td>\n",
       "    </tr>\n",
       "    <tr>\n",
       "      <th>6</th>\n",
       "      <td>c_3991</td>\n",
       "      <td>f</td>\n",
       "      <td>1982.0</td>\n",
       "      <td>40.0</td>\n",
       "      <td>0_1316</td>\n",
       "      <td>2021-04-06 18:36:59.453434</td>\n",
       "      <td>2021-04</td>\n",
       "      <td>2021-04-06</td>\n",
       "      <td>s_16917</td>\n",
       "      <td>7.2</td>\n",
       "      <td>0.0</td>\n",
       "    </tr>\n",
       "    <tr>\n",
       "      <th>7</th>\n",
       "      <td>c_3991</td>\n",
       "      <td>f</td>\n",
       "      <td>1982.0</td>\n",
       "      <td>40.0</td>\n",
       "      <td>0_1316</td>\n",
       "      <td>2022-03-06 18:36:59.453434</td>\n",
       "      <td>2022-03</td>\n",
       "      <td>2022-03-06</td>\n",
       "      <td>s_175292</td>\n",
       "      <td>7.2</td>\n",
       "      <td>0.0</td>\n",
       "    </tr>\n",
       "    <tr>\n",
       "      <th>8</th>\n",
       "      <td>c_6071</td>\n",
       "      <td>f</td>\n",
       "      <td>1981.0</td>\n",
       "      <td>41.0</td>\n",
       "      <td>0_1316</td>\n",
       "      <td>2021-11-12 04:27:07.661417</td>\n",
       "      <td>2021-11</td>\n",
       "      <td>2021-11-12</td>\n",
       "      <td>s_118349</td>\n",
       "      <td>7.2</td>\n",
       "      <td>0.0</td>\n",
       "    </tr>\n",
       "    <tr>\n",
       "      <th>9</th>\n",
       "      <td>c_4430</td>\n",
       "      <td>m</td>\n",
       "      <td>1986.0</td>\n",
       "      <td>36.0</td>\n",
       "      <td>0_1316</td>\n",
       "      <td>2021-05-03 16:41:38.212848</td>\n",
       "      <td>2021-05</td>\n",
       "      <td>2021-05-03</td>\n",
       "      <td>s_29404</td>\n",
       "      <td>7.2</td>\n",
       "      <td>0.0</td>\n",
       "    </tr>\n",
       "  </tbody>\n",
       "</table>\n",
       "</div>"
      ],
      "text/plain": [
       "  client_id sex   birth   age id_prod                        date date_mois  \\\n",
       "0    c_4410   f  1967.0  55.0  0_1316  2021-12-29 09:11:18.860592   2021-12   \n",
       "1    c_4410   f  1967.0  55.0  0_1316  2022-03-29 09:11:18.860592   2022-03   \n",
       "2    c_4410   f  1967.0  55.0  0_1316  2022-05-29 09:11:18.860592   2022-05   \n",
       "3    c_3654   f  1978.0  44.0  0_1316  2021-11-26 03:51:34.068872   2021-11   \n",
       "4    c_3654   f  1978.0  44.0  0_1316  2022-08-26 03:51:34.068872   2022-08   \n",
       "5    c_3991   f  1982.0  40.0  0_1316  2022-11-06 18:36:59.453434   2022-11   \n",
       "6    c_3991   f  1982.0  40.0  0_1316  2021-04-06 18:36:59.453434   2021-04   \n",
       "7    c_3991   f  1982.0  40.0  0_1316  2022-03-06 18:36:59.453434   2022-03   \n",
       "8    c_6071   f  1981.0  41.0  0_1316  2021-11-12 04:27:07.661417   2021-11   \n",
       "9    c_4430   m  1986.0  36.0  0_1316  2021-05-03 16:41:38.212848   2021-05   \n",
       "\n",
       "    date_jour session_id  price  categ  \n",
       "0  2021-12-29   s_141762    7.2    0.0  \n",
       "1  2022-03-29   s_186233    7.2    0.0  \n",
       "2  2022-05-29   s_215758    7.2    0.0  \n",
       "3  2021-11-26   s_125143    7.2    0.0  \n",
       "4  2022-08-26   s_258546    7.2    0.0  \n",
       "5  2022-11-06   s_293652    7.2    0.0  \n",
       "6  2021-04-06    s_16917    7.2    0.0  \n",
       "7  2022-03-06   s_175292    7.2    0.0  \n",
       "8  2021-11-12   s_118349    7.2    0.0  \n",
       "9  2021-05-03    s_29404    7.2    0.0  "
      ]
     },
     "execution_count": 36,
     "metadata": {},
     "output_type": "execute_result"
    }
   ],
   "source": [
    "df.head(10)"
   ]
  },
  {
   "cell_type": "code",
   "execution_count": 37,
   "id": "f6792b06-edcd-4086-8ffe-36d2036d2ee3",
   "metadata": {},
   "outputs": [],
   "source": [
    "# calcul du CA par mois\n",
    "CA_time = df.pivot_table(index=[\"date_mois\"], values = \"price\", aggfunc = np.sum)\n",
    "CA_time.columns = [\"CA\"]"
   ]
  },
  {
   "cell_type": "code",
   "execution_count": 38,
   "id": "b772deba-67ad-40b5-8975-6e8b6cd554b9",
   "metadata": {},
   "outputs": [
    {
     "data": {
      "text/html": [
       "<div>\n",
       "<style scoped>\n",
       "    .dataframe tbody tr th:only-of-type {\n",
       "        vertical-align: middle;\n",
       "    }\n",
       "\n",
       "    .dataframe tbody tr th {\n",
       "        vertical-align: top;\n",
       "    }\n",
       "\n",
       "    .dataframe thead th {\n",
       "        text-align: right;\n",
       "    }\n",
       "</style>\n",
       "<table border=\"1\" class=\"dataframe\">\n",
       "  <thead>\n",
       "    <tr style=\"text-align: right;\">\n",
       "      <th></th>\n",
       "      <th>Indicateur</th>\n",
       "    </tr>\n",
       "  </thead>\n",
       "  <tbody>\n",
       "    <tr>\n",
       "      <th>Moyenne</th>\n",
       "      <td>494040.42</td>\n",
       "    </tr>\n",
       "    <tr>\n",
       "      <th>Mediane</th>\n",
       "      <td>501702.73</td>\n",
       "    </tr>\n",
       "    <tr>\n",
       "      <th>Ecart-type</th>\n",
       "      <td>40344.39</td>\n",
       "    </tr>\n",
       "    <tr>\n",
       "      <th>Coefficient variation</th>\n",
       "      <td>0.08</td>\n",
       "    </tr>\n",
       "    <tr>\n",
       "      <th>IQ</th>\n",
       "      <td>31927.31</td>\n",
       "    </tr>\n",
       "  </tbody>\n",
       "</table>\n",
       "</div>"
      ],
      "text/plain": [
       "                       Indicateur\n",
       "Moyenne                 494040.42\n",
       "Mediane                 501702.73\n",
       "Ecart-type               40344.39\n",
       "Coefficient variation        0.08\n",
       "IQ                       31927.31"
      ]
     },
     "execution_count": 38,
     "metadata": {},
     "output_type": "execute_result"
    }
   ],
   "source": [
    "# Indicateurs autour du CA\n",
    "def indic(table,var):\n",
    "    moyenne = round(table[var].mean(),2)\n",
    "    medianne = round(np.percentile(table[var],50),2)\n",
    "    ecart_type = round(table[var].std(ddof=0),2)\n",
    "    coef_var = round(ecart_type / moyenne,2)\n",
    "    Q1, Q3 = np.percentile(table[var],(25,75))\n",
    "    IQ = round(Q3 - Q1,2)\n",
    "    return pd.DataFrame(data = [moyenne, medianne, ecart_type, coef_var, IQ], index = [\"Moyenne\", \"Mediane\", \"Ecart-type\",\"Coefficient variation\", \"IQ\"], columns = [\"Indicateur\"])\n",
    "\n",
    "indic(CA_time, \"CA\")"
   ]
  },
  {
   "cell_type": "code",
   "execution_count": 39,
   "id": "cbb338e7-278f-4847-81dc-e4c779517a45",
   "metadata": {},
   "outputs": [
    {
     "data": {
      "text/plain": [
       "Text(0.5, 1.0, 'Distribution du CA mensuel')"
      ]
     },
     "execution_count": 39,
     "metadata": {},
     "output_type": "execute_result"
    },
    {
     "data": {
      "image/png": "[encoded data removed]",
      "text/plain": [
       "<Figure size 432x288 with 1 Axes>"
      ]
     },
     "metadata": {
      "needs_background": "light"
     },
     "output_type": "display_data"
    }
   ],
   "source": [
    "# Distribution du CA\n",
    "g = sns.histplot(x = CA_time.CA)\n",
    "g.set_title(\"Distribution du CA mensuel\")"
   ]
  },
  {
   "cell_type": "code",
   "execution_count": 40,
   "id": "4a70e929-b3fc-4e79-863b-575601532f9b",
   "metadata": {},
   "outputs": [
    {
     "data": {
      "text/html": [
       "<div>\n",
       "<style scoped>\n",
       "    .dataframe tbody tr th:only-of-type {\n",
       "        vertical-align: middle;\n",
       "    }\n",
       "\n",
       "    .dataframe tbody tr th {\n",
       "        vertical-align: top;\n",
       "    }\n",
       "\n",
       "    .dataframe thead th {\n",
       "        text-align: right;\n",
       "    }\n",
       "</style>\n",
       "<table border=\"1\" class=\"dataframe\">\n",
       "  <thead>\n",
       "    <tr style=\"text-align: right;\">\n",
       "      <th>date_mois</th>\n",
       "      <th>2021-03</th>\n",
       "      <th>2021-04</th>\n",
       "      <th>2021-05</th>\n",
       "      <th>2021-06</th>\n",
       "      <th>2021-07</th>\n",
       "      <th>2021-08</th>\n",
       "      <th>2021-09</th>\n",
       "      <th>2021-10</th>\n",
       "      <th>2021-11</th>\n",
       "      <th>2021-12</th>\n",
       "      <th>...</th>\n",
       "      <th>2022-06</th>\n",
       "      <th>2022-07</th>\n",
       "      <th>2022-08</th>\n",
       "      <th>2022-09</th>\n",
       "      <th>2022-10</th>\n",
       "      <th>2022-11</th>\n",
       "      <th>2022-12</th>\n",
       "      <th>2023-01</th>\n",
       "      <th>2023-02</th>\n",
       "      <th>All</th>\n",
       "    </tr>\n",
       "    <tr>\n",
       "      <th>categ</th>\n",
       "      <th></th>\n",
       "      <th></th>\n",
       "      <th></th>\n",
       "      <th></th>\n",
       "      <th></th>\n",
       "      <th></th>\n",
       "      <th></th>\n",
       "      <th></th>\n",
       "      <th></th>\n",
       "      <th></th>\n",
       "      <th></th>\n",
       "      <th></th>\n",
       "      <th></th>\n",
       "      <th></th>\n",
       "      <th></th>\n",
       "      <th></th>\n",
       "      <th></th>\n",
       "      <th></th>\n",
       "      <th></th>\n",
       "      <th></th>\n",
       "      <th></th>\n",
       "    </tr>\n",
       "  </thead>\n",
       "  <tbody>\n",
       "    <tr>\n",
       "      <th>0.0</th>\n",
       "      <td>18138</td>\n",
       "      <td>19351</td>\n",
       "      <td>18507</td>\n",
       "      <td>15903</td>\n",
       "      <td>13581</td>\n",
       "      <td>15736</td>\n",
       "      <td>23153</td>\n",
       "      <td>18767</td>\n",
       "      <td>14607</td>\n",
       "      <td>19307</td>\n",
       "      <td>...</td>\n",
       "      <td>17277</td>\n",
       "      <td>17511</td>\n",
       "      <td>16655</td>\n",
       "      <td>17233</td>\n",
       "      <td>17672</td>\n",
       "      <td>17318</td>\n",
       "      <td>16940</td>\n",
       "      <td>17075</td>\n",
       "      <td>15262</td>\n",
       "      <td>415638</td>\n",
       "    </tr>\n",
       "    <tr>\n",
       "      <th>1.0</th>\n",
       "      <td>9136</td>\n",
       "      <td>7583</td>\n",
       "      <td>8109</td>\n",
       "      <td>9266</td>\n",
       "      <td>9170</td>\n",
       "      <td>7955</td>\n",
       "      <td>9269</td>\n",
       "      <td>1667</td>\n",
       "      <td>12318</td>\n",
       "      <td>12261</td>\n",
       "      <td>...</td>\n",
       "      <td>9791</td>\n",
       "      <td>9472</td>\n",
       "      <td>10308</td>\n",
       "      <td>9567</td>\n",
       "      <td>9728</td>\n",
       "      <td>9800</td>\n",
       "      <td>10064</td>\n",
       "      <td>10252</td>\n",
       "      <td>8789</td>\n",
       "      <td>227205</td>\n",
       "    </tr>\n",
       "    <tr>\n",
       "      <th>2.0</th>\n",
       "      <td>1336</td>\n",
       "      <td>1523</td>\n",
       "      <td>1677</td>\n",
       "      <td>1688</td>\n",
       "      <td>1991</td>\n",
       "      <td>1968</td>\n",
       "      <td>904</td>\n",
       "      <td>1172</td>\n",
       "      <td>1396</td>\n",
       "      <td>896</td>\n",
       "      <td>...</td>\n",
       "      <td>1443</td>\n",
       "      <td>1699</td>\n",
       "      <td>1589</td>\n",
       "      <td>1515</td>\n",
       "      <td>1574</td>\n",
       "      <td>1456</td>\n",
       "      <td>1621</td>\n",
       "      <td>1618</td>\n",
       "      <td>1501</td>\n",
       "      <td>36489</td>\n",
       "    </tr>\n",
       "    <tr>\n",
       "      <th>All</th>\n",
       "      <td>28610</td>\n",
       "      <td>28457</td>\n",
       "      <td>28293</td>\n",
       "      <td>26857</td>\n",
       "      <td>24742</td>\n",
       "      <td>25659</td>\n",
       "      <td>33326</td>\n",
       "      <td>21606</td>\n",
       "      <td>28321</td>\n",
       "      <td>32464</td>\n",
       "      <td>...</td>\n",
       "      <td>28511</td>\n",
       "      <td>28682</td>\n",
       "      <td>28552</td>\n",
       "      <td>28315</td>\n",
       "      <td>28974</td>\n",
       "      <td>28574</td>\n",
       "      <td>28625</td>\n",
       "      <td>28945</td>\n",
       "      <td>25552</td>\n",
       "      <td>679332</td>\n",
       "    </tr>\n",
       "  </tbody>\n",
       "</table>\n",
       "<p>4 rows × 25 columns</p>\n",
       "</div>"
      ],
      "text/plain": [
       "date_mois  2021-03  2021-04  2021-05  2021-06  2021-07  2021-08  2021-09  \\\n",
       "categ                                                                      \n",
       "0.0          18138    19351    18507    15903    13581    15736    23153   \n",
       "1.0           9136     7583     8109     9266     9170     7955     9269   \n",
       "2.0           1336     1523     1677     1688     1991     1968      904   \n",
       "All          28610    28457    28293    26857    24742    25659    33326   \n",
       "\n",
       "date_mois  2021-10  2021-11  2021-12  ...  2022-06  2022-07  2022-08  2022-09  \\\n",
       "categ                                 ...                                       \n",
       "0.0          18767    14607    19307  ...    17277    17511    16655    17233   \n",
       "1.0           1667    12318    12261  ...     9791     9472    10308     9567   \n",
       "2.0           1172     1396      896  ...     1443     1699     1589     1515   \n",
       "All          21606    28321    32464  ...    28511    28682    28552    28315   \n",
       "\n",
       "date_mois  2022-10  2022-11  2022-12  2023-01  2023-02     All  \n",
       "categ                                                           \n",
       "0.0          17672    17318    16940    17075    15262  415638  \n",
       "1.0           9728     9800    10064    10252     8789  227205  \n",
       "2.0           1574     1456     1621     1618     1501   36489  \n",
       "All          28974    28574    28625    28945    25552  679332  \n",
       "\n",
       "[4 rows x 25 columns]"
      ]
     },
     "execution_count": 40,
     "metadata": {},
     "output_type": "execute_result"
    }
   ],
   "source": [
    "CA_date = df.pivot_table(index = \"categ\", columns = \"date_mois\", values = \"price\", aggfunc = \"count\", margins = True)\n",
    "CA_date\n",
    "# A 2021-10 On constate une rupture de tendance nette concernant le nb de ventes des produits de cat 1"
   ]
  },
  {
   "cell_type": "code",
   "execution_count": 41,
   "id": "27fff996-3dd7-447d-824f-3f8ab8757d89",
   "metadata": {},
   "outputs": [
    {
     "data": {
      "text/plain": [
       "Text(0, 0.5, 'Nb de ventes')"
      ]
     },
     "execution_count": 41,
     "metadata": {},
     "output_type": "execute_result"
    },
    {
     "data": {
      "image/png": "[encoded data removed]",
      "text/plain": [
       "<Figure size 1008x504 with 1 Axes>"
      ]
     },
     "metadata": {
      "needs_background": "light"
     },
     "output_type": "display_data"
    }
   ],
   "source": [
    "# On visualise le nb de ventes par jour selon catégorie de produits pour le mois d'octobre 2021\n",
    "filtre = (df.date_mois == \"2021-10\")\n",
    "df_oct = df[filtre]\n",
    "df_oct.sort_values(\"date_jour\",ascending = True, inplace = True)\n",
    "days = df_oct.date_jour.apply(lambda x : x[-2:])\n",
    "df_oct.insert(loc = 8, value = days, column = \"days\")\n",
    "df_oct = df_oct.pivot_table(index = [\"days\", \"categ\"], values = \"price\", aggfunc = \"count\")\n",
    "df_oct = df_oct.reset_index()\n",
    "fig, ax = plt.subplots(figsize=(14,7))\n",
    "ax = sns.barplot(x = \"days\", y = \"price\", hue = \"categ\", data = df_oct)\n",
    "ax.set_title(\"Nb de ventes par jour sur 2021-10\", color = \"darkblue\")\n",
    "ax.set_ylabel(\"Nb de ventes\", color = \"darkblue\")"
   ]
  },
  {
   "cell_type": "code",
   "execution_count": 42,
   "id": "8aa87919-6331-4f7e-8284-68bcb82df85c",
   "metadata": {},
   "outputs": [],
   "source": [
    "# On choisit de supprimer totalement le mois d'octobre qui parait en anomalie pour les produits de cat 1\n",
    "filtre = (df.date_mois == \"2021-10\")\n",
    "df = df[~filtre]\n",
    "CA_time = df.pivot_table(index=[\"date_mois\"], values = \"price\", aggfunc = np.sum)\n",
    "CA_time.columns = [\"CA\"]"
   ]
  },
  {
   "cell_type": "code",
   "execution_count": 43,
   "id": "0aa569d9-d2cf-4a18-9daa-8f9cc13a31ef",
   "metadata": {},
   "outputs": [
    {
     "data": {
      "text/plain": [
       "<matplotlib.legend.Legend at 0x7f4895863430>"
      ]
     },
     "execution_count": 43,
     "metadata": {},
     "output_type": "execute_result"
    },
    {
     "data": {
      "image/png": "[encoded data removed]",
      "text/plain": [
       "<Figure size 864x432 with 1 Axes>"
      ]
     },
     "metadata": {
      "needs_background": "light"
     },
     "output_type": "display_data"
    }
   ],
   "source": [
    "# Graph évolution du CA\n",
    "x = CA_time.index\n",
    "x = list(x)\n",
    "ticks = []\n",
    "for i in range(0,len(x),2) :\n",
    "    ticks.append(x[i])\n",
    "\n",
    "fig, ax = plt.subplots(figsize=(12,6))\n",
    "ax = sns.scatterplot(data = CA_time, x = CA_time.index, y=\"CA\")\n",
    "ax.set_xticks(ticks)\n",
    "ax.set_ylim(10000, 650000)\n",
    "ax.set_title(\"Evolution du CA\", fontweight = 520, color = \"darkblue\", fontstyle = \"italic\")\n",
    "ax.set_xlabel(\"Date\", color = \"darkblue\")\n",
    "ax.set_ylabel(\"CA\", color = \"darkblue\")\n",
    "\n",
    "# Ajout moyenne mobile\n",
    "av_mean = CA_time.rolling(3).mean()\n",
    "av_mean = av_mean[2:]\n",
    "ax.plot(av_mean.index, av_mean.values, color = \"green\", lw = 0.7)\n",
    "ax.legend([\"CA\",\"Moyenne mobile\"], loc = 'best')"
   ]
  },
  {
   "cell_type": "markdown",
   "id": "0c9e78f1-9047-4572-b5f6-e52d6ffc193c",
   "metadata": {},
   "source": [
    "## Top/Flop produits"
   ]
  },
  {
   "cell_type": "code",
   "execution_count": 44,
   "id": "c84fdc34-9a4e-4ae9-8fbe-068d586c3487",
   "metadata": {},
   "outputs": [
    {
     "data": {
      "text/html": [
       "<div>\n",
       "<style scoped>\n",
       "    .dataframe tbody tr th:only-of-type {\n",
       "        vertical-align: middle;\n",
       "    }\n",
       "\n",
       "    .dataframe tbody tr th {\n",
       "        vertical-align: top;\n",
       "    }\n",
       "\n",
       "    .dataframe thead th {\n",
       "        text-align: right;\n",
       "    }\n",
       "</style>\n",
       "<table border=\"1\" class=\"dataframe\">\n",
       "  <thead>\n",
       "    <tr style=\"text-align: right;\">\n",
       "      <th></th>\n",
       "      <th></th>\n",
       "      <th>count</th>\n",
       "      <th>sum</th>\n",
       "    </tr>\n",
       "    <tr>\n",
       "      <th>id_prod</th>\n",
       "      <th>categ</th>\n",
       "      <th></th>\n",
       "      <th></th>\n",
       "    </tr>\n",
       "  </thead>\n",
       "  <tbody>\n",
       "    <tr>\n",
       "      <th>1_369</th>\n",
       "      <th>1.0</th>\n",
       "      <td>2237</td>\n",
       "      <td>53665.63</td>\n",
       "    </tr>\n",
       "    <tr>\n",
       "      <th>1_417</th>\n",
       "      <th>1.0</th>\n",
       "      <td>2173</td>\n",
       "      <td>45611.27</td>\n",
       "    </tr>\n",
       "    <tr>\n",
       "      <th>1_414</th>\n",
       "      <th>1.0</th>\n",
       "      <td>2166</td>\n",
       "      <td>51615.78</td>\n",
       "    </tr>\n",
       "    <tr>\n",
       "      <th>1_498</th>\n",
       "      <th>1.0</th>\n",
       "      <td>2117</td>\n",
       "      <td>49474.29</td>\n",
       "    </tr>\n",
       "    <tr>\n",
       "      <th>1_425</th>\n",
       "      <th>1.0</th>\n",
       "      <td>2084</td>\n",
       "      <td>35407.16</td>\n",
       "    </tr>\n",
       "    <tr>\n",
       "      <th>1_403</th>\n",
       "      <th>1.0</th>\n",
       "      <td>1950</td>\n",
       "      <td>35080.50</td>\n",
       "    </tr>\n",
       "    <tr>\n",
       "      <th>1_412</th>\n",
       "      <th>1.0</th>\n",
       "      <td>1938</td>\n",
       "      <td>32267.70</td>\n",
       "    </tr>\n",
       "    <tr>\n",
       "      <th>1_406</th>\n",
       "      <th>1.0</th>\n",
       "      <td>1931</td>\n",
       "      <td>47908.11</td>\n",
       "    </tr>\n",
       "    <tr>\n",
       "      <th>1_413</th>\n",
       "      <th>1.0</th>\n",
       "      <td>1931</td>\n",
       "      <td>34738.69</td>\n",
       "    </tr>\n",
       "    <tr>\n",
       "      <th>1_407</th>\n",
       "      <th>1.0</th>\n",
       "      <td>1923</td>\n",
       "      <td>30748.77</td>\n",
       "    </tr>\n",
       "  </tbody>\n",
       "</table>\n",
       "</div>"
      ],
      "text/plain": [
       "               count       sum\n",
       "id_prod categ                 \n",
       "1_369   1.0     2237  53665.63\n",
       "1_417   1.0     2173  45611.27\n",
       "1_414   1.0     2166  51615.78\n",
       "1_498   1.0     2117  49474.29\n",
       "1_425   1.0     2084  35407.16\n",
       "1_403   1.0     1950  35080.50\n",
       "1_412   1.0     1938  32267.70\n",
       "1_406   1.0     1931  47908.11\n",
       "1_413   1.0     1931  34738.69\n",
       "1_407   1.0     1923  30748.77"
      ]
     },
     "execution_count": 44,
     "metadata": {},
     "output_type": "execute_result"
    }
   ],
   "source": [
    "# calcul du CA par produits\n",
    "CA_prod = df.pivot_table(index = [\"id_prod\",\"categ\"], values = \"price\", aggfunc = (np.sum, \"count\"))\n",
    "Top = CA_prod.sort_values(\"count\",ascending = False)\n",
    "Top.head(10)"
   ]
  },
  {
   "cell_type": "code",
   "execution_count": 45,
   "id": "82c90c6a-d759-4839-bda7-e9742f733138",
   "metadata": {},
   "outputs": [
    {
     "data": {
      "text/html": [
       "<div>\n",
       "<style scoped>\n",
       "    .dataframe tbody tr th:only-of-type {\n",
       "        vertical-align: middle;\n",
       "    }\n",
       "\n",
       "    .dataframe tbody tr th {\n",
       "        vertical-align: top;\n",
       "    }\n",
       "\n",
       "    .dataframe thead th {\n",
       "        text-align: right;\n",
       "    }\n",
       "</style>\n",
       "<table border=\"1\" class=\"dataframe\">\n",
       "  <thead>\n",
       "    <tr style=\"text-align: right;\">\n",
       "      <th></th>\n",
       "      <th></th>\n",
       "      <th>count</th>\n",
       "      <th>sum</th>\n",
       "    </tr>\n",
       "    <tr>\n",
       "      <th>id_prod</th>\n",
       "      <th>categ</th>\n",
       "      <th></th>\n",
       "      <th></th>\n",
       "    </tr>\n",
       "  </thead>\n",
       "  <tbody>\n",
       "    <tr>\n",
       "      <th>0_1151</th>\n",
       "      <th>0.0</th>\n",
       "      <td>1</td>\n",
       "      <td>2.99</td>\n",
       "    </tr>\n",
       "    <tr>\n",
       "      <th>0_1284</th>\n",
       "      <th>0.0</th>\n",
       "      <td>1</td>\n",
       "      <td>1.38</td>\n",
       "    </tr>\n",
       "    <tr>\n",
       "      <th>2_98</th>\n",
       "      <th>2.0</th>\n",
       "      <td>1</td>\n",
       "      <td>149.74</td>\n",
       "    </tr>\n",
       "    <tr>\n",
       "      <th>0_1683</th>\n",
       "      <th>0.0</th>\n",
       "      <td>1</td>\n",
       "      <td>2.99</td>\n",
       "    </tr>\n",
       "    <tr>\n",
       "      <th>0_898</th>\n",
       "      <th>0.0</th>\n",
       "      <td>1</td>\n",
       "      <td>1.27</td>\n",
       "    </tr>\n",
       "    <tr>\n",
       "      <th>0_541</th>\n",
       "      <th>0.0</th>\n",
       "      <td>1</td>\n",
       "      <td>1.99</td>\n",
       "    </tr>\n",
       "    <tr>\n",
       "      <th>0_549</th>\n",
       "      <th>0.0</th>\n",
       "      <td>1</td>\n",
       "      <td>2.99</td>\n",
       "    </tr>\n",
       "    <tr>\n",
       "      <th>0_1601</th>\n",
       "      <th>0.0</th>\n",
       "      <td>1</td>\n",
       "      <td>1.99</td>\n",
       "    </tr>\n",
       "    <tr>\n",
       "      <th>0_807</th>\n",
       "      <th>0.0</th>\n",
       "      <td>1</td>\n",
       "      <td>1.99</td>\n",
       "    </tr>\n",
       "    <tr>\n",
       "      <th>0_1633</th>\n",
       "      <th>0.0</th>\n",
       "      <td>1</td>\n",
       "      <td>24.99</td>\n",
       "    </tr>\n",
       "    <tr>\n",
       "      <th>0_1595</th>\n",
       "      <th>0.0</th>\n",
       "      <td>1</td>\n",
       "      <td>2.99</td>\n",
       "    </tr>\n",
       "    <tr>\n",
       "      <th>0_1498</th>\n",
       "      <th>0.0</th>\n",
       "      <td>1</td>\n",
       "      <td>2.48</td>\n",
       "    </tr>\n",
       "    <tr>\n",
       "      <th>2_23</th>\n",
       "      <th>2.0</th>\n",
       "      <td>1</td>\n",
       "      <td>115.99</td>\n",
       "    </tr>\n",
       "    <tr>\n",
       "      <th>0_980</th>\n",
       "      <th>0.0</th>\n",
       "      <td>1</td>\n",
       "      <td>31.06</td>\n",
       "    </tr>\n",
       "    <tr>\n",
       "      <th>2_81</th>\n",
       "      <th>2.0</th>\n",
       "      <td>1</td>\n",
       "      <td>86.99</td>\n",
       "    </tr>\n",
       "    <tr>\n",
       "      <th>0_833</th>\n",
       "      <th>0.0</th>\n",
       "      <td>1</td>\n",
       "      <td>2.99</td>\n",
       "    </tr>\n",
       "    <tr>\n",
       "      <th>0_886</th>\n",
       "      <th>0.0</th>\n",
       "      <td>1</td>\n",
       "      <td>21.82</td>\n",
       "    </tr>\n",
       "    <tr>\n",
       "      <th>0_1533</th>\n",
       "      <th>0.0</th>\n",
       "      <td>1</td>\n",
       "      <td>27.99</td>\n",
       "    </tr>\n",
       "  </tbody>\n",
       "</table>\n",
       "</div>"
      ],
      "text/plain": [
       "               count     sum\n",
       "id_prod categ               \n",
       "0_1151  0.0        1    2.99\n",
       "0_1284  0.0        1    1.38\n",
       "2_98    2.0        1  149.74\n",
       "0_1683  0.0        1    2.99\n",
       "0_898   0.0        1    1.27\n",
       "0_541   0.0        1    1.99\n",
       "0_549   0.0        1    2.99\n",
       "0_1601  0.0        1    1.99\n",
       "0_807   0.0        1    1.99\n",
       "0_1633  0.0        1   24.99\n",
       "0_1595  0.0        1    2.99\n",
       "0_1498  0.0        1    2.48\n",
       "2_23    2.0        1  115.99\n",
       "0_980   0.0        1   31.06\n",
       "2_81    2.0        1   86.99\n",
       "0_833   0.0        1    2.99\n",
       "0_886   0.0        1   21.82\n",
       "0_1533  0.0        1   27.99"
      ]
     },
     "execution_count": 45,
     "metadata": {},
     "output_type": "execute_result"
    }
   ],
   "source": [
    "Flop = CA_prod.sort_values(\"count\",ascending = True)\n",
    "Flop.head(18)"
   ]
  },
  {
   "cell_type": "markdown",
   "id": "9041a677-82d1-4eb2-ad84-5686d7c1df19",
   "metadata": {},
   "source": [
    "## Focus Catégorie"
   ]
  },
  {
   "cell_type": "code",
   "execution_count": 46,
   "id": "5c16d291-e81a-498a-8034-e37353bb0844",
   "metadata": {},
   "outputs": [
    {
     "data": {
      "text/html": [
       "<div>\n",
       "<style scoped>\n",
       "    .dataframe tbody tr th:only-of-type {\n",
       "        vertical-align: middle;\n",
       "    }\n",
       "\n",
       "    .dataframe tbody tr th {\n",
       "        vertical-align: top;\n",
       "    }\n",
       "\n",
       "    .dataframe thead th {\n",
       "        text-align: right;\n",
       "    }\n",
       "</style>\n",
       "<table border=\"1\" class=\"dataframe\">\n",
       "  <thead>\n",
       "    <tr style=\"text-align: right;\">\n",
       "      <th></th>\n",
       "      <th>Prix moyen</th>\n",
       "    </tr>\n",
       "    <tr>\n",
       "      <th>categ</th>\n",
       "      <th></th>\n",
       "    </tr>\n",
       "  </thead>\n",
       "  <tbody>\n",
       "    <tr>\n",
       "      <th>0.0</th>\n",
       "      <td>10.64</td>\n",
       "    </tr>\n",
       "    <tr>\n",
       "      <th>1.0</th>\n",
       "      <td>20.49</td>\n",
       "    </tr>\n",
       "    <tr>\n",
       "      <th>2.0</th>\n",
       "      <td>76.24</td>\n",
       "    </tr>\n",
       "  </tbody>\n",
       "</table>\n",
       "</div>"
      ],
      "text/plain": [
       "       Prix moyen\n",
       "categ            \n",
       "0.0         10.64\n",
       "1.0         20.49\n",
       "2.0         76.24"
      ]
     },
     "execution_count": 46,
     "metadata": {},
     "output_type": "execute_result"
    }
   ],
   "source": [
    "# calcul du CA par catégorie\n",
    "CA_categ = df.pivot_table(index = \"categ\", values = \"price\", aggfunc = (np.sum, \"count\", np.mean))\n",
    "CA_categ[\"Prix moyen\"] = CA_categ[\"mean\"].apply(lambda x : round(x,2))\n",
    "del CA_categ[\"mean\"]\n",
    "CA_categ.columns = [\"Nb ventes\", \"CA\", \"Prix moyen\"]\n",
    "CA_categ[[\"Prix moyen\"]]"
   ]
  },
  {
   "cell_type": "code",
   "execution_count": 47,
   "id": "b5f54844-cef7-472c-8651-2334a32430f5",
   "metadata": {},
   "outputs": [
    {
     "data": {
      "text/plain": [
       "Text(0.5, 1.0, 'Ventes par catégorie')"
      ]
     },
     "execution_count": 47,
     "metadata": {},
     "output_type": "execute_result"
    },
    {
     "data": {
      "image/png": "[encoded data removed]",
      "text/plain": [
       "<Figure size 864x432 with 2 Axes>"
      ]
     },
     "metadata": {
      "needs_background": "light"
     },
     "output_type": "display_data"
    }
   ],
   "source": [
    "fig, ax = plt.subplots(nrows=1, ncols=2, figsize=(12,6))\n",
    "sns.barplot(ax =ax[0], x = CA_categ.index, y = \"CA\", data = CA_categ)\n",
    "ax[0].set_title(\"CA par catégorie\")\n",
    "sns.barplot(ax =ax[1], x = CA_categ.index, y = \"Nb ventes\", data = CA_categ)\n",
    "ax[1].set_title(\"Ventes par catégorie\")"
   ]
  },
  {
   "cell_type": "markdown",
   "id": "2ad8a8eb-1430-44b4-a220-fc33913e0dc5",
   "metadata": {},
   "source": [
    "## Focus Panier"
   ]
  },
  {
   "cell_type": "code",
   "execution_count": 48,
   "id": "e1601e56-885e-4c1c-9a9d-79f41f6ac4cd",
   "metadata": {},
   "outputs": [
    {
     "data": {
      "text/html": [
       "<div>\n",
       "<style scoped>\n",
       "    .dataframe tbody tr th:only-of-type {\n",
       "        vertical-align: middle;\n",
       "    }\n",
       "\n",
       "    .dataframe tbody tr th {\n",
       "        vertical-align: top;\n",
       "    }\n",
       "\n",
       "    .dataframe thead th {\n",
       "        text-align: right;\n",
       "    }\n",
       "</style>\n",
       "<table border=\"1\" class=\"dataframe\">\n",
       "  <thead>\n",
       "    <tr style=\"text-align: right;\">\n",
       "      <th></th>\n",
       "      <th>session_id</th>\n",
       "      <th>client_id</th>\n",
       "      <th>age</th>\n",
       "      <th>sex</th>\n",
       "      <th>Ventes</th>\n",
       "      <th>CA</th>\n",
       "    </tr>\n",
       "  </thead>\n",
       "  <tbody>\n",
       "    <tr>\n",
       "      <th>0</th>\n",
       "      <td>s_41352</td>\n",
       "      <td>c_3757</td>\n",
       "      <td>63.0</td>\n",
       "      <td>f</td>\n",
       "      <td>1</td>\n",
       "      <td>0.62</td>\n",
       "    </tr>\n",
       "    <tr>\n",
       "      <th>1</th>\n",
       "      <td>s_260416</td>\n",
       "      <td>c_3757</td>\n",
       "      <td>63.0</td>\n",
       "      <td>f</td>\n",
       "      <td>1</td>\n",
       "      <td>0.62</td>\n",
       "    </tr>\n",
       "    <tr>\n",
       "      <th>2</th>\n",
       "      <td>s_34456</td>\n",
       "      <td>c_5510</td>\n",
       "      <td>81.0</td>\n",
       "      <td>f</td>\n",
       "      <td>1</td>\n",
       "      <td>0.62</td>\n",
       "    </tr>\n",
       "    <tr>\n",
       "      <th>3</th>\n",
       "      <td>s_83637</td>\n",
       "      <td>c_5969</td>\n",
       "      <td>57.0</td>\n",
       "      <td>m</td>\n",
       "      <td>1</td>\n",
       "      <td>0.66</td>\n",
       "    </tr>\n",
       "    <tr>\n",
       "      <th>4</th>\n",
       "      <td>s_246917</td>\n",
       "      <td>c_5969</td>\n",
       "      <td>57.0</td>\n",
       "      <td>m</td>\n",
       "      <td>1</td>\n",
       "      <td>0.66</td>\n",
       "    </tr>\n",
       "    <tr>\n",
       "      <th>...</th>\n",
       "      <td>...</td>\n",
       "      <td>...</td>\n",
       "      <td>...</td>\n",
       "      <td>...</td>\n",
       "      <td>...</td>\n",
       "      <td>...</td>\n",
       "    </tr>\n",
       "    <tr>\n",
       "      <th>330764</th>\n",
       "      <td>s_150439</td>\n",
       "      <td>c_667</td>\n",
       "      <td>29.0</td>\n",
       "      <td>m</td>\n",
       "      <td>4</td>\n",
       "      <td>496.22</td>\n",
       "    </tr>\n",
       "    <tr>\n",
       "      <th>330765</th>\n",
       "      <td>s_335005</td>\n",
       "      <td>c_3241</td>\n",
       "      <td>18.0</td>\n",
       "      <td>f</td>\n",
       "      <td>3</td>\n",
       "      <td>535.17</td>\n",
       "    </tr>\n",
       "    <tr>\n",
       "      <th>330766</th>\n",
       "      <td>s_83158</td>\n",
       "      <td>c_3241</td>\n",
       "      <td>18.0</td>\n",
       "      <td>f</td>\n",
       "      <td>3</td>\n",
       "      <td>535.17</td>\n",
       "    </tr>\n",
       "    <tr>\n",
       "      <th>330767</th>\n",
       "      <td>s_123227</td>\n",
       "      <td>c_8345</td>\n",
       "      <td>29.0</td>\n",
       "      <td>f</td>\n",
       "      <td>3</td>\n",
       "      <td>539.23</td>\n",
       "    </tr>\n",
       "    <tr>\n",
       "      <th>330768</th>\n",
       "      <td>s_95844</td>\n",
       "      <td>c_6431</td>\n",
       "      <td>24.0</td>\n",
       "      <td>m</td>\n",
       "      <td>5</td>\n",
       "      <td>568.88</td>\n",
       "    </tr>\n",
       "  </tbody>\n",
       "</table>\n",
       "<p>330769 rows × 6 columns</p>\n",
       "</div>"
      ],
      "text/plain": [
       "       session_id client_id   age sex  Ventes      CA\n",
       "0         s_41352    c_3757  63.0   f       1    0.62\n",
       "1        s_260416    c_3757  63.0   f       1    0.62\n",
       "2         s_34456    c_5510  81.0   f       1    0.62\n",
       "3         s_83637    c_5969  57.0   m       1    0.66\n",
       "4        s_246917    c_5969  57.0   m       1    0.66\n",
       "...           ...       ...   ...  ..     ...     ...\n",
       "330764   s_150439     c_667  29.0   m       4  496.22\n",
       "330765   s_335005    c_3241  18.0   f       3  535.17\n",
       "330766    s_83158    c_3241  18.0   f       3  535.17\n",
       "330767   s_123227    c_8345  29.0   f       3  539.23\n",
       "330768    s_95844    c_6431  24.0   m       5  568.88\n",
       "\n",
       "[330769 rows x 6 columns]"
      ]
     },
     "execution_count": 48,
     "metadata": {},
     "output_type": "execute_result"
    }
   ],
   "source": [
    "# calcul du CA par panier\n",
    "CA_panier = df.pivot_table(index = [\"session_id\", \"client_id\", \"age\", \"sex\"], values = \"price\", aggfunc = (np.sum, \"count\"))\n",
    "CA_panier.sort_values(\"sum\",ascending = True, inplace = True)\n",
    "CA_panier.columns = [\"Ventes\", \"CA\"]\n",
    "CA_panier = CA_panier.reset_index()\n",
    "CA_panier"
   ]
  },
  {
   "cell_type": "markdown",
   "id": "693d8b4d-0545-4451-972a-2c9a4c7a2df4",
   "metadata": {},
   "source": [
    "## Focus Clients"
   ]
  },
  {
   "cell_type": "code",
   "execution_count": 49,
   "id": "5d106ea2-ff7e-49b0-b24e-0bdbb65466dc",
   "metadata": {},
   "outputs": [
    {
     "data": {
      "text/html": [
       "<div>\n",
       "<style scoped>\n",
       "    .dataframe tbody tr th:only-of-type {\n",
       "        vertical-align: middle;\n",
       "    }\n",
       "\n",
       "    .dataframe tbody tr th {\n",
       "        vertical-align: top;\n",
       "    }\n",
       "\n",
       "    .dataframe thead th {\n",
       "        text-align: right;\n",
       "    }\n",
       "</style>\n",
       "<table border=\"1\" class=\"dataframe\">\n",
       "  <thead>\n",
       "    <tr style=\"text-align: right;\">\n",
       "      <th></th>\n",
       "      <th>client_id</th>\n",
       "      <th>age</th>\n",
       "      <th>sex</th>\n",
       "      <th>Ventes</th>\n",
       "      <th>CA</th>\n",
       "    </tr>\n",
       "  </thead>\n",
       "  <tbody>\n",
       "    <tr>\n",
       "      <th>0</th>\n",
       "      <td>c_8140</td>\n",
       "      <td>51.0</td>\n",
       "      <td>m</td>\n",
       "      <td>2</td>\n",
       "      <td>8.300000</td>\n",
       "    </tr>\n",
       "    <tr>\n",
       "      <th>1</th>\n",
       "      <td>c_8114</td>\n",
       "      <td>60.0</td>\n",
       "      <td>m</td>\n",
       "      <td>2</td>\n",
       "      <td>9.980000</td>\n",
       "    </tr>\n",
       "    <tr>\n",
       "      <th>2</th>\n",
       "      <td>c_240</td>\n",
       "      <td>24.0</td>\n",
       "      <td>m</td>\n",
       "      <td>1</td>\n",
       "      <td>11.060000</td>\n",
       "    </tr>\n",
       "    <tr>\n",
       "      <th>3</th>\n",
       "      <td>c_4648</td>\n",
       "      <td>18.0</td>\n",
       "      <td>m</td>\n",
       "      <td>1</td>\n",
       "      <td>11.200000</td>\n",
       "    </tr>\n",
       "    <tr>\n",
       "      <th>4</th>\n",
       "      <td>c_2793</td>\n",
       "      <td>89.0</td>\n",
       "      <td>m</td>\n",
       "      <td>1</td>\n",
       "      <td>12.990000</td>\n",
       "    </tr>\n",
       "    <tr>\n",
       "      <th>...</th>\n",
       "      <td>...</td>\n",
       "      <td>...</td>\n",
       "      <td>...</td>\n",
       "      <td>...</td>\n",
       "      <td>...</td>\n",
       "    </tr>\n",
       "    <tr>\n",
       "      <th>8593</th>\n",
       "      <td>c_2899</td>\n",
       "      <td>28.0</td>\n",
       "      <td>f</td>\n",
       "      <td>105</td>\n",
       "      <td>5214.050000</td>\n",
       "    </tr>\n",
       "    <tr>\n",
       "      <th>8594</th>\n",
       "      <td>c_3454</td>\n",
       "      <td>53.0</td>\n",
       "      <td>m</td>\n",
       "      <td>6635</td>\n",
       "      <td>111817.098413</td>\n",
       "    </tr>\n",
       "    <tr>\n",
       "      <th>8595</th>\n",
       "      <td>c_6714</td>\n",
       "      <td>54.0</td>\n",
       "      <td>f</td>\n",
       "      <td>8903</td>\n",
       "      <td>149884.273482</td>\n",
       "    </tr>\n",
       "    <tr>\n",
       "      <th>8596</th>\n",
       "      <td>c_4958</td>\n",
       "      <td>23.0</td>\n",
       "      <td>m</td>\n",
       "      <td>5090</td>\n",
       "      <td>282654.610000</td>\n",
       "    </tr>\n",
       "    <tr>\n",
       "      <th>8597</th>\n",
       "      <td>c_1609</td>\n",
       "      <td>42.0</td>\n",
       "      <td>m</td>\n",
       "      <td>24472</td>\n",
       "      <td>312755.080000</td>\n",
       "    </tr>\n",
       "  </tbody>\n",
       "</table>\n",
       "<p>8598 rows × 5 columns</p>\n",
       "</div>"
      ],
      "text/plain": [
       "     client_id   age sex  Ventes             CA\n",
       "0       c_8140  51.0   m       2       8.300000\n",
       "1       c_8114  60.0   m       2       9.980000\n",
       "2        c_240  24.0   m       1      11.060000\n",
       "3       c_4648  18.0   m       1      11.200000\n",
       "4       c_2793  89.0   m       1      12.990000\n",
       "...        ...   ...  ..     ...            ...\n",
       "8593    c_2899  28.0   f     105    5214.050000\n",
       "8594    c_3454  53.0   m    6635  111817.098413\n",
       "8595    c_6714  54.0   f    8903  149884.273482\n",
       "8596    c_4958  23.0   m    5090  282654.610000\n",
       "8597    c_1609  42.0   m   24472  312755.080000\n",
       "\n",
       "[8598 rows x 5 columns]"
      ]
     },
     "execution_count": 49,
     "metadata": {},
     "output_type": "execute_result"
    }
   ],
   "source": [
    "# calcul du CA par clients\n",
    "CA_clients = df.pivot_table(index = [\"client_id\", \"age\", \"sex\"], values = \"price\", aggfunc = (np.sum, \"count\"))\n",
    "CA_clients.sort_values(\"sum\",ascending = True, inplace = True)\n",
    "CA_clients.columns = [\"Ventes\", \"CA\"]\n",
    "CA_clients = CA_clients.reset_index()\n",
    "CA_clients"
   ]
  },
  {
   "cell_type": "code",
   "execution_count": 50,
   "id": "69834447-8550-4f2c-b201-3c47dfb7fe6d",
   "metadata": {},
   "outputs": [
    {
     "data": {
      "text/plain": [
       "<matplotlib.legend.Legend at 0x7f4892f7fc70>"
      ]
     },
     "execution_count": 50,
     "metadata": {},
     "output_type": "execute_result"
    },
    {
     "data": {
      "image/png": "[encoded data removed]",
      "text/plain": [
       "<Figure size 864x432 with 1 Axes>"
      ]
     },
     "metadata": {
      "needs_background": "light"
     },
     "output_type": "display_data"
    }
   ],
   "source": [
    "# Courbe de Lorenz\n",
    "fig, ax = plt.subplots(figsize=(12,6))\n",
    "data = CA_clients\n",
    "y = np.cumsum(data.CA) / np.sum(data.CA)\n",
    "y = np.append(0,y)\n",
    "x = np.linspace(0,1,len(y))\n",
    "plt.plot(x, y)\n",
    "plt.plot(x, x, color = \"green\")\n",
    "ax.set_title(\"Courbe de Lorenz\")\n",
    "ax.set_xlabel(\"Part cumulée des clients\", color = \"darkblue\")\n",
    "ax.set_ylabel(\"Part cumulée du CA\", color = \"darkblue\")\n",
    "ax.legend([\"Courbe de Lorenz\",\"Distribution égalitaire\"], loc = 'best')\n"
   ]
  },
  {
   "cell_type": "code",
   "execution_count": 51,
   "id": "2d2ff6c6-c1e5-4c85-b00e-9a5f1e2750f0",
   "metadata": {},
   "outputs": [],
   "source": [
    "CA_moyen = CA_clients[CA_clients.client_id != \"c_1609\"].CA.mean()\n",
    "CA_client = CA_clients[CA_clients.client_id == \"c_1609\"].CA.values[0]\n",
    "Quantite_moyen = CA_clients[CA_clients.client_id != \"c_1609\"].Ventes.mean()\n",
    "Quantite_client = CA_clients[CA_clients.client_id == \"c_1609\"].Ventes.values[0]\n",
    "Panier_moyen = CA_panier[CA_panier.client_id != \"c_1609\"].CA.mean()\n",
    "Panier_client = CA_panier[CA_panier.client_id == \"c_1609\"].CA.mean()\n",
    "Age_moyen = CA_clients[CA_clients.client_id != \"c_1609\"].age.mean()\n",
    "Age_client = CA_clients[CA_clients.client_id == \"c_1609\"].age.values[0]"
   ]
  },
  {
   "cell_type": "code",
   "execution_count": 52,
   "id": "0d584e91-d670-4aa3-befd-91718b411533",
   "metadata": {},
   "outputs": [
    {
     "data": {
      "text/html": [
       "<div>\n",
       "<style scoped>\n",
       "    .dataframe tbody tr th:only-of-type {\n",
       "        vertical-align: middle;\n",
       "    }\n",
       "\n",
       "    .dataframe tbody tr th {\n",
       "        vertical-align: top;\n",
       "    }\n",
       "\n",
       "    .dataframe thead th {\n",
       "        text-align: right;\n",
       "    }\n",
       "</style>\n",
       "<table border=\"1\" class=\"dataframe\">\n",
       "  <thead>\n",
       "    <tr style=\"text-align: right;\">\n",
       "      <th></th>\n",
       "      <th>age</th>\n",
       "      <th>Panier</th>\n",
       "      <th>Quantité</th>\n",
       "      <th>CA</th>\n",
       "    </tr>\n",
       "  </thead>\n",
       "  <tbody>\n",
       "    <tr>\n",
       "      <th>Top client</th>\n",
       "      <td>42.0</td>\n",
       "      <td>29.68</td>\n",
       "      <td>24472.0</td>\n",
       "      <td>312755.08</td>\n",
       "    </tr>\n",
       "    <tr>\n",
       "      <th>Moyenne Pop</th>\n",
       "      <td>44.0</td>\n",
       "      <td>35.05</td>\n",
       "      <td>74.0</td>\n",
       "      <td>1305.00</td>\n",
       "    </tr>\n",
       "  </tbody>\n",
       "</table>\n",
       "</div>"
      ],
      "text/plain": [
       "              age  Panier  Quantité         CA\n",
       "Top client   42.0   29.68   24472.0  312755.08\n",
       "Moyenne Pop  44.0   35.05      74.0    1305.00"
      ]
     },
     "execution_count": 52,
     "metadata": {},
     "output_type": "execute_result"
    }
   ],
   "source": [
    "pd.DataFrame(index = [\"Top client\", \"Moyenne Pop\"], columns = [\"age\",\"Panier\", \"Quantité\", \"CA\"],\n",
    "             data = [[round(Age_client,0), round(Panier_client,2), round(Quantite_client,0), round(CA_client,2)], [round(Age_moyen,0), round(Panier_moyen,2), round(Quantite_moyen,0), round(CA_moyen,0)]])"
   ]
  },
  {
   "cell_type": "code",
   "execution_count": 53,
   "id": "11efdc6a-ef92-489a-b4b5-8a27109ea2c7",
   "metadata": {},
   "outputs": [],
   "source": [
    "# CA_client sans outliers\n",
    "Q1, Q3 = np.percentile(CA_clients.CA,(25,75))\n",
    "IQ = Q3 - Q1\n",
    "upper_bound = Q3 + (1.5 * IQ)\n",
    "lower_bound = Q1 - (1.5 * IQ)\n",
    "filtre = (CA_clients.CA <= upper_bound) & (CA_clients.CA >= lower_bound)\n",
    "CA_clients_sans_outliers = CA_clients[filtre]"
   ]
  },
  {
   "cell_type": "markdown",
   "id": "410b33dd-0e2a-4f46-8283-deebbeb33bd2",
   "metadata": {},
   "source": [
    "# <font color=\"blue\"> Corrélations </font>"
   ]
  },
  {
   "cell_type": "markdown",
   "id": "16b62ae0-6bb5-43a1-a422-288b7093cd4f",
   "metadata": {},
   "source": [
    "## Genre clients et Catégories de livres"
   ]
  },
  {
   "cell_type": "code",
   "execution_count": 54,
   "id": "bf981ef0-d299-4f27-aa4a-18942588eec0",
   "metadata": {},
   "outputs": [
    {
     "data": {
      "text/html": [
       "<div>\n",
       "<style scoped>\n",
       "    .dataframe tbody tr th:only-of-type {\n",
       "        vertical-align: middle;\n",
       "    }\n",
       "\n",
       "    .dataframe tbody tr th {\n",
       "        vertical-align: top;\n",
       "    }\n",
       "\n",
       "    .dataframe thead th {\n",
       "        text-align: right;\n",
       "    }\n",
       "</style>\n",
       "<table border=\"1\" class=\"dataframe\">\n",
       "  <thead>\n",
       "    <tr style=\"text-align: right;\">\n",
       "      <th></th>\n",
       "      <th>client_id</th>\n",
       "      <th>sex</th>\n",
       "      <th>birth</th>\n",
       "      <th>age</th>\n",
       "      <th>id_prod</th>\n",
       "      <th>date</th>\n",
       "      <th>date_mois</th>\n",
       "      <th>date_jour</th>\n",
       "      <th>session_id</th>\n",
       "      <th>price</th>\n",
       "      <th>categ</th>\n",
       "    </tr>\n",
       "  </thead>\n",
       "  <tbody>\n",
       "    <tr>\n",
       "      <th>0</th>\n",
       "      <td>c_4410</td>\n",
       "      <td>f</td>\n",
       "      <td>1967.0</td>\n",
       "      <td>55.0</td>\n",
       "      <td>0_1316</td>\n",
       "      <td>2021-12-29 09:11:18.860592</td>\n",
       "      <td>2021-12</td>\n",
       "      <td>2021-12-29</td>\n",
       "      <td>s_141762</td>\n",
       "      <td>7.2</td>\n",
       "      <td>0.0</td>\n",
       "    </tr>\n",
       "    <tr>\n",
       "      <th>1</th>\n",
       "      <td>c_4410</td>\n",
       "      <td>f</td>\n",
       "      <td>1967.0</td>\n",
       "      <td>55.0</td>\n",
       "      <td>0_1316</td>\n",
       "      <td>2022-03-29 09:11:18.860592</td>\n",
       "      <td>2022-03</td>\n",
       "      <td>2022-03-29</td>\n",
       "      <td>s_186233</td>\n",
       "      <td>7.2</td>\n",
       "      <td>0.0</td>\n",
       "    </tr>\n",
       "    <tr>\n",
       "      <th>2</th>\n",
       "      <td>c_4410</td>\n",
       "      <td>f</td>\n",
       "      <td>1967.0</td>\n",
       "      <td>55.0</td>\n",
       "      <td>0_1316</td>\n",
       "      <td>2022-05-29 09:11:18.860592</td>\n",
       "      <td>2022-05</td>\n",
       "      <td>2022-05-29</td>\n",
       "      <td>s_215758</td>\n",
       "      <td>7.2</td>\n",
       "      <td>0.0</td>\n",
       "    </tr>\n",
       "    <tr>\n",
       "      <th>3</th>\n",
       "      <td>c_3654</td>\n",
       "      <td>f</td>\n",
       "      <td>1978.0</td>\n",
       "      <td>44.0</td>\n",
       "      <td>0_1316</td>\n",
       "      <td>2021-11-26 03:51:34.068872</td>\n",
       "      <td>2021-11</td>\n",
       "      <td>2021-11-26</td>\n",
       "      <td>s_125143</td>\n",
       "      <td>7.2</td>\n",
       "      <td>0.0</td>\n",
       "    </tr>\n",
       "    <tr>\n",
       "      <th>4</th>\n",
       "      <td>c_3654</td>\n",
       "      <td>f</td>\n",
       "      <td>1978.0</td>\n",
       "      <td>44.0</td>\n",
       "      <td>0_1316</td>\n",
       "      <td>2022-08-26 03:51:34.068872</td>\n",
       "      <td>2022-08</td>\n",
       "      <td>2022-08-26</td>\n",
       "      <td>s_258546</td>\n",
       "      <td>7.2</td>\n",
       "      <td>0.0</td>\n",
       "    </tr>\n",
       "  </tbody>\n",
       "</table>\n",
       "</div>"
      ],
      "text/plain": [
       "  client_id sex   birth   age id_prod                        date date_mois  \\\n",
       "0    c_4410   f  1967.0  55.0  0_1316  2021-12-29 09:11:18.860592   2021-12   \n",
       "1    c_4410   f  1967.0  55.0  0_1316  2022-03-29 09:11:18.860592   2022-03   \n",
       "2    c_4410   f  1967.0  55.0  0_1316  2022-05-29 09:11:18.860592   2022-05   \n",
       "3    c_3654   f  1978.0  44.0  0_1316  2021-11-26 03:51:34.068872   2021-11   \n",
       "4    c_3654   f  1978.0  44.0  0_1316  2022-08-26 03:51:34.068872   2022-08   \n",
       "\n",
       "    date_jour session_id  price  categ  \n",
       "0  2021-12-29   s_141762    7.2    0.0  \n",
       "1  2022-03-29   s_186233    7.2    0.0  \n",
       "2  2022-05-29   s_215758    7.2    0.0  \n",
       "3  2021-11-26   s_125143    7.2    0.0  \n",
       "4  2022-08-26   s_258546    7.2    0.0  "
      ]
     },
     "execution_count": 54,
     "metadata": {},
     "output_type": "execute_result"
    }
   ],
   "source": [
    "df.head(5)"
   ]
  },
  {
   "cell_type": "code",
   "execution_count": 55,
   "id": "e44eaeb4-b4d8-42a1-bda2-0b0a3cd77596",
   "metadata": {},
   "outputs": [
    {
     "data": {
      "text/plain": [
       "<AxesSubplot:xlabel='sex', ylabel='pct_client'>"
      ]
     },
     "execution_count": 55,
     "metadata": {},
     "output_type": "execute_result"
    },
    {
     "data": {
      "image/png": "[encoded data removed]",
      "text/plain": [
       "<Figure size 1008x432 with 4 Axes>"
      ]
     },
     "metadata": {
      "needs_background": "light"
     },
     "output_type": "display_data"
    }
   ],
   "source": [
    "# Barplot et Mosaic plot\n",
    "tab = df[[\"client_id\", \"sex\", \"categ\"]].pivot_table(index = [\"sex\", \"categ\"], aggfunc = \"count\")\n",
    "tab = tab.reset_index()\n",
    "tab_f = tab[tab.sex == \"f\"]\n",
    "tab_h = tab[tab.sex == \"m\"]\n",
    "tab_f[\"pct_client\"] = tab_f.client_id / tab_f.client_id.sum()\n",
    "tab_h[\"pct_client\"] = tab_h.client_id / tab_h.client_id.sum()\n",
    "tab = pd.concat([tab_h, tab_f])\n",
    "from statsmodels.graphics.mosaicplot import mosaic\n",
    "df_mosaic = df[[\"sex\",\"categ\"]]\n",
    "\n",
    "fig, ax = plt.subplots(nrows=1, ncols=2, figsize=(14,6))\n",
    "mosaic(ax = ax[1], data = df_mosaic, index = [\"sex\", \"categ\"], title='Mosaic plot', gap = 0.05)\n",
    "sns.barplot(ax = ax[0], x = \"sex\",y = \"pct_client\", hue = \"categ\", data=tab)"
   ]
  },
  {
   "cell_type": "code",
   "execution_count": 56,
   "id": "60415cc2-2205-4faf-b78c-3561466e6094",
   "metadata": {},
   "outputs": [
    {
     "data": {
      "text/html": [
       "<div>\n",
       "<style scoped>\n",
       "    .dataframe tbody tr th:only-of-type {\n",
       "        vertical-align: middle;\n",
       "    }\n",
       "\n",
       "    .dataframe tbody tr th {\n",
       "        vertical-align: top;\n",
       "    }\n",
       "\n",
       "    .dataframe thead th {\n",
       "        text-align: right;\n",
       "    }\n",
       "</style>\n",
       "<table border=\"1\" class=\"dataframe\">\n",
       "  <thead>\n",
       "    <tr style=\"text-align: right;\">\n",
       "      <th>categ</th>\n",
       "      <th>0.0</th>\n",
       "      <th>1.0</th>\n",
       "      <th>2.0</th>\n",
       "    </tr>\n",
       "    <tr>\n",
       "      <th>sex</th>\n",
       "      <th></th>\n",
       "      <th></th>\n",
       "      <th></th>\n",
       "    </tr>\n",
       "  </thead>\n",
       "  <tbody>\n",
       "    <tr>\n",
       "      <th>f</th>\n",
       "      <td>197074</td>\n",
       "      <td>114109</td>\n",
       "      <td>16724</td>\n",
       "    </tr>\n",
       "    <tr>\n",
       "      <th>m</th>\n",
       "      <td>199797</td>\n",
       "      <td>111429</td>\n",
       "      <td>18593</td>\n",
       "    </tr>\n",
       "  </tbody>\n",
       "</table>\n",
       "</div>"
      ],
      "text/plain": [
       "categ     0.0     1.0    2.0\n",
       "sex                         \n",
       "f      197074  114109  16724\n",
       "m      199797  111429  18593"
      ]
     },
     "execution_count": 56,
     "metadata": {},
     "output_type": "execute_result"
    }
   ],
   "source": [
    "# Tableau de contingence entre sexe et catégorie\n",
    "tab = pd.crosstab(df['sex'], df['categ'])\n",
    "table = sm.stats.Table(tab)\n",
    "table.table_orig"
   ]
  },
  {
   "cell_type": "code",
   "execution_count": 57,
   "id": "768c6f26-84f1-491a-bf91-67e5a8dad519",
   "metadata": {},
   "outputs": [
    {
     "data": {
      "text/html": [
       "<div>\n",
       "<style scoped>\n",
       "    .dataframe tbody tr th:only-of-type {\n",
       "        vertical-align: middle;\n",
       "    }\n",
       "\n",
       "    .dataframe tbody tr th {\n",
       "        vertical-align: top;\n",
       "    }\n",
       "\n",
       "    .dataframe thead th {\n",
       "        text-align: right;\n",
       "    }\n",
       "</style>\n",
       "<table border=\"1\" class=\"dataframe\">\n",
       "  <thead>\n",
       "    <tr style=\"text-align: right;\">\n",
       "      <th>categ</th>\n",
       "      <th>0.0</th>\n",
       "      <th>1.0</th>\n",
       "      <th>2.0</th>\n",
       "    </tr>\n",
       "    <tr>\n",
       "      <th>sex</th>\n",
       "      <th></th>\n",
       "      <th></th>\n",
       "      <th></th>\n",
       "    </tr>\n",
       "  </thead>\n",
       "  <tbody>\n",
       "    <tr>\n",
       "      <th>f</th>\n",
       "      <td>197858.650862</td>\n",
       "      <td>112441.182143</td>\n",
       "      <td>17607.166995</td>\n",
       "    </tr>\n",
       "    <tr>\n",
       "      <th>m</th>\n",
       "      <td>199012.349138</td>\n",
       "      <td>113096.817857</td>\n",
       "      <td>17709.833005</td>\n",
       "    </tr>\n",
       "  </tbody>\n",
       "</table>\n",
       "</div>"
      ],
      "text/plain": [
       "categ            0.0            1.0           2.0\n",
       "sex                                              \n",
       "f      197858.650862  112441.182143  17607.166995\n",
       "m      199012.349138  113096.817857  17709.833005"
      ]
     },
     "execution_count": 57,
     "metadata": {},
     "output_type": "execute_result"
    }
   ],
   "source": [
    "# Tableau dans d'une distribution indépendante\n",
    "table.fittedvalues"
   ]
  },
  {
   "cell_type": "code",
   "execution_count": 58,
   "id": "2c694a2c-eadc-4f74-9386-70679f233d99",
   "metadata": {},
   "outputs": [
    {
     "data": {
      "text/plain": [
       "0.0"
      ]
     },
     "execution_count": 58,
     "metadata": {},
     "output_type": "execute_result"
    }
   ],
   "source": [
    "# Test du khi2 d'indépendance\n",
    "res = table.test_nominal_association()\n",
    "res.pvalue #On rejette l'hypothèse d'une indépendance du sexe sur la catégorie de livre acheté"
   ]
  },
  {
   "cell_type": "code",
   "execution_count": 59,
   "id": "705caad3-fbb9-473b-9d28-6d753d991eeb",
   "metadata": {},
   "outputs": [
    {
     "data": {
      "text/plain": [
       "5.711650295264503e-32"
      ]
     },
     "execution_count": 59,
     "metadata": {},
     "output_type": "execute_result"
    }
   ],
   "source": [
    "# Test du khi2 d'indépendance : autre méthode\n",
    "st_chi2, st_p, st_dof, st_exp = st.stats.chi2_contingency(tab)\n",
    "st_p"
   ]
  },
  {
   "cell_type": "code",
   "execution_count": 100,
   "id": "6ad0c5db-8e65-455c-8267-d54c314ef06c",
   "metadata": {},
   "outputs": [
    {
     "data": {
      "text/plain": [
       "0.014790346839867298"
      ]
     },
     "execution_count": 100,
     "metadata": {},
     "output_type": "execute_result"
    }
   ],
   "source": [
    "# V de Cramer\n",
    "array = np.array(tab)\n",
    "n = np.sum(array)\n",
    "minDim = min(array.shape)-1\n",
    "V = np.sqrt((st_chi2/n) / minDim)\n",
    "V"
   ]
  },
  {
   "cell_type": "markdown",
   "id": "c8dc69d1-321f-4b79-b578-03d388c9e014",
   "metadata": {},
   "source": [
    "## Age clients et CA"
   ]
  },
  {
   "cell_type": "code",
   "execution_count": 60,
   "id": "c73df4d6-b002-4ea5-9ee5-8f73a3ab31a8",
   "metadata": {},
   "outputs": [
    {
     "data": {
      "text/html": [
       "<div>\n",
       "<style scoped>\n",
       "    .dataframe tbody tr th:only-of-type {\n",
       "        vertical-align: middle;\n",
       "    }\n",
       "\n",
       "    .dataframe tbody tr th {\n",
       "        vertical-align: top;\n",
       "    }\n",
       "\n",
       "    .dataframe thead th {\n",
       "        text-align: right;\n",
       "    }\n",
       "</style>\n",
       "<table border=\"1\" class=\"dataframe\">\n",
       "  <thead>\n",
       "    <tr style=\"text-align: right;\">\n",
       "      <th></th>\n",
       "      <th>client_id</th>\n",
       "      <th>age</th>\n",
       "      <th>sex</th>\n",
       "      <th>Ventes</th>\n",
       "      <th>CA</th>\n",
       "    </tr>\n",
       "  </thead>\n",
       "  <tbody>\n",
       "    <tr>\n",
       "      <th>0</th>\n",
       "      <td>c_8140</td>\n",
       "      <td>51.0</td>\n",
       "      <td>m</td>\n",
       "      <td>2</td>\n",
       "      <td>8.30</td>\n",
       "    </tr>\n",
       "    <tr>\n",
       "      <th>1</th>\n",
       "      <td>c_8114</td>\n",
       "      <td>60.0</td>\n",
       "      <td>m</td>\n",
       "      <td>2</td>\n",
       "      <td>9.98</td>\n",
       "    </tr>\n",
       "    <tr>\n",
       "      <th>2</th>\n",
       "      <td>c_240</td>\n",
       "      <td>24.0</td>\n",
       "      <td>m</td>\n",
       "      <td>1</td>\n",
       "      <td>11.06</td>\n",
       "    </tr>\n",
       "    <tr>\n",
       "      <th>3</th>\n",
       "      <td>c_4648</td>\n",
       "      <td>18.0</td>\n",
       "      <td>m</td>\n",
       "      <td>1</td>\n",
       "      <td>11.20</td>\n",
       "    </tr>\n",
       "    <tr>\n",
       "      <th>4</th>\n",
       "      <td>c_2793</td>\n",
       "      <td>89.0</td>\n",
       "      <td>m</td>\n",
       "      <td>1</td>\n",
       "      <td>12.99</td>\n",
       "    </tr>\n",
       "    <tr>\n",
       "      <th>...</th>\n",
       "      <td>...</td>\n",
       "      <td>...</td>\n",
       "      <td>...</td>\n",
       "      <td>...</td>\n",
       "      <td>...</td>\n",
       "    </tr>\n",
       "    <tr>\n",
       "      <th>8345</th>\n",
       "      <td>c_1252</td>\n",
       "      <td>47.0</td>\n",
       "      <td>m</td>\n",
       "      <td>282</td>\n",
       "      <td>3504.70</td>\n",
       "    </tr>\n",
       "    <tr>\n",
       "      <th>8346</th>\n",
       "      <td>c_8157</td>\n",
       "      <td>29.0</td>\n",
       "      <td>m</td>\n",
       "      <td>77</td>\n",
       "      <td>3505.28</td>\n",
       "    </tr>\n",
       "    <tr>\n",
       "      <th>8347</th>\n",
       "      <td>c_5545</td>\n",
       "      <td>40.0</td>\n",
       "      <td>f</td>\n",
       "      <td>293</td>\n",
       "      <td>3505.47</td>\n",
       "    </tr>\n",
       "    <tr>\n",
       "      <th>8348</th>\n",
       "      <td>c_7383</td>\n",
       "      <td>41.0</td>\n",
       "      <td>f</td>\n",
       "      <td>264</td>\n",
       "      <td>3516.25</td>\n",
       "    </tr>\n",
       "    <tr>\n",
       "      <th>8349</th>\n",
       "      <td>c_5357</td>\n",
       "      <td>32.0</td>\n",
       "      <td>m</td>\n",
       "      <td>259</td>\n",
       "      <td>3516.27</td>\n",
       "    </tr>\n",
       "  </tbody>\n",
       "</table>\n",
       "<p>8350 rows × 5 columns</p>\n",
       "</div>"
      ],
      "text/plain": [
       "     client_id   age sex  Ventes       CA\n",
       "0       c_8140  51.0   m       2     8.30\n",
       "1       c_8114  60.0   m       2     9.98\n",
       "2        c_240  24.0   m       1    11.06\n",
       "3       c_4648  18.0   m       1    11.20\n",
       "4       c_2793  89.0   m       1    12.99\n",
       "...        ...   ...  ..     ...      ...\n",
       "8345    c_1252  47.0   m     282  3504.70\n",
       "8346    c_8157  29.0   m      77  3505.28\n",
       "8347    c_5545  40.0   f     293  3505.47\n",
       "8348    c_7383  41.0   f     264  3516.25\n",
       "8349    c_5357  32.0   m     259  3516.27\n",
       "\n",
       "[8350 rows x 5 columns]"
      ]
     },
     "execution_count": 60,
     "metadata": {},
     "output_type": "execute_result"
    }
   ],
   "source": [
    "CA_clients_sans_outliers"
   ]
  },
  {
   "cell_type": "code",
   "execution_count": 61,
   "id": "5975b64e-ed10-4544-a587-1c8eaddccfa0",
   "metadata": {},
   "outputs": [],
   "source": [
    "age_CA = CA_clients_sans_outliers.pivot_table(index = \"age\", values= \"CA\", aggfunc = (np.mean, \"count\"))\n",
    "age_CA = age_CA.reset_index()\n",
    "age_CA.columns = [\"age\", \"nb\", \"CA\"]"
   ]
  },
  {
   "cell_type": "code",
   "execution_count": 62,
   "id": "0e890dec-1886-4162-872c-5243a07299c2",
   "metadata": {},
   "outputs": [
    {
     "data": {
      "text/plain": [
       "Text(0, 0.5, 'CA')"
      ]
     },
     "execution_count": 62,
     "metadata": {},
     "output_type": "execute_result"
    },
    {
     "data": {
      "image/png": "[encoded data removed]",
      "text/plain": [
       "<Figure size 432x288 with 1 Axes>"
      ]
     },
     "metadata": {
      "needs_background": "light"
     },
     "output_type": "display_data"
    }
   ],
   "source": [
    "# Nuage de point CA, âge\n",
    "plt.scatter(age_CA.age, age_CA.CA)\n",
    "plt.title(\"CA client selon l'âge\", color = \"darkblue\")\n",
    "plt.xlabel(\"Age\")\n",
    "plt.ylabel(\"CA\")"
   ]
  },
  {
   "cell_type": "code",
   "execution_count": 63,
   "id": "2d479879-e3bf-484e-ab54-b61aa3dec651",
   "metadata": {},
   "outputs": [
    {
     "name": "stdout",
     "output_type": "stream",
     "text": [
      "-0.7580467903543224 2.21928883151444e-15\n"
     ]
    }
   ],
   "source": [
    "# Coefficient de corrélation CA, âge\n",
    "coef, p_value = st.stats.pearsonr(age_CA.age, age_CA.CA)\n",
    "print (coef, p_value) #on rejette l'hypothèse de non corrélation"
   ]
  },
  {
   "cell_type": "code",
   "execution_count": 86,
   "id": "094b5186-3948-419a-9c39-3adda6aafdae",
   "metadata": {},
   "outputs": [],
   "source": [
    "age_vente_av50 = age_CA[age_CA.age <= 50]\n",
    "age_vente_ap50 = age_CA[age_CA.age > 50]"
   ]
  },
  {
   "cell_type": "code",
   "execution_count": 89,
   "id": "026d7d2e-8344-4515-9eac-03c97a163c56",
   "metadata": {},
   "outputs": [
    {
     "name": "stdout",
     "output_type": "stream",
     "text": [
      "0.5265505111632217 0.001644682874028004\n"
     ]
    }
   ],
   "source": [
    "# Coefficient de corrélation CA, âge\n",
    "coef, p_value = st.stats.pearsonr(age_vente_av50.age, age_vente_av50.CA)\n",
    "print (coef, p_value) #on rejette l'hypothèse de non corrélation"
   ]
  },
  {
   "cell_type": "code",
   "execution_count": 90,
   "id": "b57b8f2c-55d2-406f-96d5-afd61ddf86ac",
   "metadata": {},
   "outputs": [
    {
     "name": "stdout",
     "output_type": "stream",
     "text": [
      "-0.2784804917440453 0.07056508672379197\n"
     ]
    }
   ],
   "source": [
    "# Coefficient de corrélation CA, âge\n",
    "coef, p_value = st.stats.pearsonr(age_vente_ap50.age, age_vente_ap50.CA)\n",
    "print (coef, p_value) #on rejette l'hypothèse de non corrélation"
   ]
  },
  {
   "cell_type": "markdown",
   "id": "e62ea8a2-cf59-4eaf-b1ed-9b9a32d9e905",
   "metadata": {},
   "source": [
    "## Age clients et Nb de ventes"
   ]
  },
  {
   "cell_type": "code",
   "execution_count": 64,
   "id": "afe9f483-c900-4981-b0e9-905a5705e96f",
   "metadata": {},
   "outputs": [],
   "source": [
    "nb_session = CA_panier.pivot_table(index = \"client_id\", values= \"session_id\", aggfunc = \"count\")\n",
    "nb_session = nb_session.reset_index()\n",
    "nb_session.columns = [\"client_id\", \"nb_session\"]"
   ]
  },
  {
   "cell_type": "code",
   "execution_count": 65,
   "id": "a74aa711-be7c-428d-aae5-0a0d406a41ce",
   "metadata": {},
   "outputs": [],
   "source": [
    "CA_clients_nb_session = pd.merge(CA_clients_sans_outliers,nb_session, how = \"left\")"
   ]
  },
  {
   "cell_type": "code",
   "execution_count": 66,
   "id": "817a8af7-efc7-4e47-a612-b196e60a06fa",
   "metadata": {},
   "outputs": [],
   "source": [
    "age_vente = CA_clients_nb_session.pivot_table(index = \"age\", values= \"nb_session\", aggfunc = (np.mean, \"count\"))\n",
    "age_vente = age_vente.reset_index()\n",
    "age_vente.columns = [\"age\", \"nb\", \"ventes\"]"
   ]
  },
  {
   "cell_type": "code",
   "execution_count": 67,
   "id": "24098d80-76a4-47bd-8f40-f8f3b226a2e5",
   "metadata": {},
   "outputs": [
    {
     "data": {
      "text/plain": [
       "Text(0, 0.5, 'Nb sessions')"
      ]
     },
     "execution_count": 67,
     "metadata": {},
     "output_type": "execute_result"
    },
    {
     "data": {
      "image/png": "[encoded data removed]",
      "text/plain": [
       "<Figure size 432x288 with 1 Axes>"
      ]
     },
     "metadata": {
      "needs_background": "light"
     },
     "output_type": "display_data"
    }
   ],
   "source": [
    "# Nuage de point ventes, âge\n",
    "plt.scatter(age_vente.age, age_vente.ventes)\n",
    "plt.title(\"Fréquence achats selon âge\", color = \"darkblue\")\n",
    "plt.xlabel(\"Age\")\n",
    "plt.ylabel(\"Nb sessions\")"
   ]
  },
  {
   "cell_type": "code",
   "execution_count": 68,
   "id": "d0c35298-5336-4c8f-a766-98308faee770",
   "metadata": {},
   "outputs": [
    {
     "name": "stdout",
     "output_type": "stream",
     "text": [
      "0.30610734940340295 0.007161540189620991\n"
     ]
    }
   ],
   "source": [
    "# Coefficient de corrélation CA, âge\n",
    "coef, p_value = st.stats.pearsonr(age_vente.age, age_vente.ventes)\n",
    "print (coef, p_value) #on rejette l'hypothèse de non corrélation linéaire"
   ]
  },
  {
   "cell_type": "code",
   "execution_count": 69,
   "id": "f1603110-c988-4e9e-83d8-a5f6fbc639a8",
   "metadata": {},
   "outputs": [],
   "source": [
    "age_vente_av30 = age_vente[age_vente.age <= 30]\n",
    "age_vente_ap30 = age_vente[age_vente.age > 30]"
   ]
  },
  {
   "cell_type": "code",
   "execution_count": 70,
   "id": "23e68749-aaae-4a0f-b095-253d52fef8aa",
   "metadata": {},
   "outputs": [
    {
     "name": "stdout",
     "output_type": "stream",
     "text": [
      "-9.864516633851725e-05 0.9997448148828542\n"
     ]
    }
   ],
   "source": [
    "# Coefficient de corrélation CA, âge pour age <= 30\n",
    "coef, p_value = st.stats.pearsonr(age_vente_av30.age, age_vente_av30.ventes)\n",
    "print (coef, p_value) #on ne rejette pas l'hypothèse de non corrélation linéaire"
   ]
  },
  {
   "cell_type": "code",
   "execution_count": 71,
   "id": "c85ec964-1945-4beb-a38e-1c15fd922bd3",
   "metadata": {},
   "outputs": [
    {
     "name": "stdout",
     "output_type": "stream",
     "text": [
      "-0.6170198841477824 7.232723575493826e-08\n"
     ]
    }
   ],
   "source": [
    "# Coefficient de corrélation CA, âge pour age > 30\n",
    "coef, p_value = st.stats.pearsonr(age_vente_ap30.age, age_vente_ap30.ventes)\n",
    "print (coef, p_value) #on rejette l'hypothèse de non corrélation linéaire"
   ]
  },
  {
   "cell_type": "markdown",
   "id": "3d53638f-f961-4329-9fbd-56c4322d2789",
   "metadata": {},
   "source": [
    "## Age clients et taille du panier"
   ]
  },
  {
   "cell_type": "code",
   "execution_count": 72,
   "id": "28332c7c-581f-4bbb-beba-2fd3cdbe012f",
   "metadata": {},
   "outputs": [
    {
     "data": {
      "text/html": [
       "<div>\n",
       "<style scoped>\n",
       "    .dataframe tbody tr th:only-of-type {\n",
       "        vertical-align: middle;\n",
       "    }\n",
       "\n",
       "    .dataframe tbody tr th {\n",
       "        vertical-align: top;\n",
       "    }\n",
       "\n",
       "    .dataframe thead th {\n",
       "        text-align: right;\n",
       "    }\n",
       "</style>\n",
       "<table border=\"1\" class=\"dataframe\">\n",
       "  <thead>\n",
       "    <tr style=\"text-align: right;\">\n",
       "      <th></th>\n",
       "      <th>age</th>\n",
       "      <th>nb</th>\n",
       "      <th>CA_panier</th>\n",
       "    </tr>\n",
       "  </thead>\n",
       "  <tbody>\n",
       "    <tr>\n",
       "      <th>0</th>\n",
       "      <td>18.0</td>\n",
       "      <td>8341</td>\n",
       "      <td>70.904475</td>\n",
       "    </tr>\n",
       "    <tr>\n",
       "      <th>1</th>\n",
       "      <td>19.0</td>\n",
       "      <td>2484</td>\n",
       "      <td>69.577999</td>\n",
       "    </tr>\n",
       "    <tr>\n",
       "      <th>2</th>\n",
       "      <td>20.0</td>\n",
       "      <td>2527</td>\n",
       "      <td>70.793077</td>\n",
       "    </tr>\n",
       "    <tr>\n",
       "      <th>3</th>\n",
       "      <td>21.0</td>\n",
       "      <td>2371</td>\n",
       "      <td>73.533387</td>\n",
       "    </tr>\n",
       "    <tr>\n",
       "      <th>4</th>\n",
       "      <td>22.0</td>\n",
       "      <td>2358</td>\n",
       "      <td>68.123630</td>\n",
       "    </tr>\n",
       "    <tr>\n",
       "      <th>...</th>\n",
       "      <td>...</td>\n",
       "      <td>...</td>\n",
       "      <td>...</td>\n",
       "    </tr>\n",
       "    <tr>\n",
       "      <th>71</th>\n",
       "      <td>89.0</td>\n",
       "      <td>224</td>\n",
       "      <td>22.755040</td>\n",
       "    </tr>\n",
       "    <tr>\n",
       "      <th>72</th>\n",
       "      <td>90.0</td>\n",
       "      <td>196</td>\n",
       "      <td>24.508367</td>\n",
       "    </tr>\n",
       "    <tr>\n",
       "      <th>73</th>\n",
       "      <td>91.0</td>\n",
       "      <td>91</td>\n",
       "      <td>29.573516</td>\n",
       "    </tr>\n",
       "    <tr>\n",
       "      <th>74</th>\n",
       "      <td>92.0</td>\n",
       "      <td>143</td>\n",
       "      <td>27.686993</td>\n",
       "    </tr>\n",
       "    <tr>\n",
       "      <th>75</th>\n",
       "      <td>93.0</td>\n",
       "      <td>132</td>\n",
       "      <td>24.220303</td>\n",
       "    </tr>\n",
       "  </tbody>\n",
       "</table>\n",
       "<p>76 rows × 3 columns</p>\n",
       "</div>"
      ],
      "text/plain": [
       "     age    nb  CA_panier\n",
       "0   18.0  8341  70.904475\n",
       "1   19.0  2484  69.577999\n",
       "2   20.0  2527  70.793077\n",
       "3   21.0  2371  73.533387\n",
       "4   22.0  2358  68.123630\n",
       "..   ...   ...        ...\n",
       "71  89.0   224  22.755040\n",
       "72  90.0   196  24.508367\n",
       "73  91.0    91  29.573516\n",
       "74  92.0   143  27.686993\n",
       "75  93.0   132  24.220303\n",
       "\n",
       "[76 rows x 3 columns]"
      ]
     },
     "execution_count": 72,
     "metadata": {},
     "output_type": "execute_result"
    }
   ],
   "source": [
    "age_panier = CA_panier.pivot_table(index = \"age\", values= \"CA\", aggfunc = (np.mean, \"count\"))\n",
    "age_panier = age_panier.reset_index()\n",
    "age_panier.columns = [\"age\", \"nb\", \"CA_panier\"]\n",
    "age_panier"
   ]
  },
  {
   "cell_type": "code",
   "execution_count": 73,
   "id": "756b7494-7de3-4e83-b6c9-3ddd908c9e63",
   "metadata": {},
   "outputs": [
    {
     "data": {
      "text/plain": [
       "Text(0, 0.5, 'Taille du panier')"
      ]
     },
     "execution_count": 73,
     "metadata": {},
     "output_type": "execute_result"
    },
    {
     "data": {
      "image/png": "[encoded data removed]",
      "text/plain": [
       "<Figure size 432x288 with 1 Axes>"
      ]
     },
     "metadata": {
      "needs_background": "light"
     },
     "output_type": "display_data"
    }
   ],
   "source": [
    "# Nuage de point taille panier, âge\n",
    "plt.scatter(age_panier.age, age_panier.CA_panier)\n",
    "plt.title(\"Taille du panier selon l'âge\", color = \"darkblue\")\n",
    "plt.xlabel(\"Age\")\n",
    "plt.ylabel(\"Taille du panier\")"
   ]
  },
  {
   "cell_type": "code",
   "execution_count": 74,
   "id": "71d87388-8800-47b7-99b2-889a89bf89df",
   "metadata": {},
   "outputs": [
    {
     "name": "stdout",
     "output_type": "stream",
     "text": [
      "-0.7473934785978524 8.847198275500821e-15\n"
     ]
    }
   ],
   "source": [
    "# Coefficient de corrélation CA, âge\n",
    "coef, p_value = st.stats.pearsonr(age_panier.age, age_panier.CA_panier)\n",
    "print (coef, p_value) #on rejette l'hypothèse de non corrélation"
   ]
  },
  {
   "cell_type": "code",
   "execution_count": 75,
   "id": "093eab4f-e1c0-40db-a823-cb9eb1662540",
   "metadata": {},
   "outputs": [],
   "source": [
    "age_panier_30 = age_panier[age_panier.age <= 30]\n",
    "age_panier_30_50 = age_panier[(age_panier.age > 30) & (age_panier.age < 50)]\n",
    "age_panier_50 = age_panier[age_panier.age > 50]"
   ]
  },
  {
   "cell_type": "code",
   "execution_count": 76,
   "id": "74684ca4-6e1b-4867-afee-30dd8ccf0b13",
   "metadata": {},
   "outputs": [
    {
     "name": "stdout",
     "output_type": "stream",
     "text": [
      "-0.04534385475870731 0.883060994260949\n"
     ]
    }
   ],
   "source": [
    "# Coefficient de corrélation CA, âge avt 30\n",
    "coef, p_value = st.stats.pearsonr(age_panier_30.age, age_panier_30.CA_panier)\n",
    "print (coef, p_value) #on ne rejette pas l'hypothèse de non corrélation"
   ]
  },
  {
   "cell_type": "code",
   "execution_count": 77,
   "id": "9f2241d0-6302-4a34-beb7-83e61a691903",
   "metadata": {},
   "outputs": [
    {
     "name": "stdout",
     "output_type": "stream",
     "text": [
      "0.06907907797045093 0.7787087062357672\n"
     ]
    }
   ],
   "source": [
    "# Coefficient de corrélation CA, âge 30-50\n",
    "coef, p_value = st.stats.pearsonr(age_panier_30_50.age, age_panier_30_50.CA_panier)\n",
    "print (coef, p_value) #on ne rejette pas l'hypothèse de non corrélation"
   ]
  },
  {
   "cell_type": "code",
   "execution_count": 78,
   "id": "3e8e9f2b-ca38-4c8e-893a-4f76d6177279",
   "metadata": {},
   "outputs": [
    {
     "name": "stdout",
     "output_type": "stream",
     "text": [
      "0.0028304770406023215 0.9856278700305763\n"
     ]
    }
   ],
   "source": [
    "# Coefficient de corrélation CA, âge apres 30\n",
    "coef, p_value = st.stats.pearsonr(age_panier_50.age, age_panier_50.CA_panier)\n",
    "print (coef, p_value) #on ne rejette pas l'hypothèse de non corrélation"
   ]
  },
  {
   "cell_type": "markdown",
   "id": "639f47f2-e41e-4532-8451-0816627bb5e9",
   "metadata": {},
   "source": [
    "## Age clients et catégorie de livres achetés"
   ]
  },
  {
   "cell_type": "code",
   "execution_count": 79,
   "id": "877eaf13-7ae4-4c00-a7f1-e3e686df6ea8",
   "metadata": {},
   "outputs": [
    {
     "data": {
      "text/html": [
       "<div>\n",
       "<style scoped>\n",
       "    .dataframe tbody tr th:only-of-type {\n",
       "        vertical-align: middle;\n",
       "    }\n",
       "\n",
       "    .dataframe tbody tr th {\n",
       "        vertical-align: top;\n",
       "    }\n",
       "\n",
       "    .dataframe thead th {\n",
       "        text-align: right;\n",
       "    }\n",
       "</style>\n",
       "<table border=\"1\" class=\"dataframe\">\n",
       "  <thead>\n",
       "    <tr style=\"text-align: right;\">\n",
       "      <th>categ</th>\n",
       "      <th>0.0</th>\n",
       "      <th>1.0</th>\n",
       "      <th>2.0</th>\n",
       "    </tr>\n",
       "    <tr>\n",
       "      <th>age</th>\n",
       "      <th></th>\n",
       "      <th></th>\n",
       "      <th></th>\n",
       "    </tr>\n",
       "  </thead>\n",
       "  <tbody>\n",
       "    <tr>\n",
       "      <th>18.0</th>\n",
       "      <td>3283</td>\n",
       "      <td>5671</td>\n",
       "      <td>5815</td>\n",
       "    </tr>\n",
       "    <tr>\n",
       "      <th>19.0</th>\n",
       "      <td>850</td>\n",
       "      <td>1662</td>\n",
       "      <td>1726</td>\n",
       "    </tr>\n",
       "    <tr>\n",
       "      <th>20.0</th>\n",
       "      <td>967</td>\n",
       "      <td>1716</td>\n",
       "      <td>1785</td>\n",
       "    </tr>\n",
       "    <tr>\n",
       "      <th>21.0</th>\n",
       "      <td>941</td>\n",
       "      <td>1544</td>\n",
       "      <td>1676</td>\n",
       "    </tr>\n",
       "    <tr>\n",
       "      <th>22.0</th>\n",
       "      <td>1051</td>\n",
       "      <td>1616</td>\n",
       "      <td>1632</td>\n",
       "    </tr>\n",
       "    <tr>\n",
       "      <th>...</th>\n",
       "      <td>...</td>\n",
       "      <td>...</td>\n",
       "      <td>...</td>\n",
       "    </tr>\n",
       "    <tr>\n",
       "      <th>89.0</th>\n",
       "      <td>136</td>\n",
       "      <td>178</td>\n",
       "      <td>1</td>\n",
       "    </tr>\n",
       "    <tr>\n",
       "      <th>90.0</th>\n",
       "      <td>116</td>\n",
       "      <td>175</td>\n",
       "      <td>2</td>\n",
       "    </tr>\n",
       "    <tr>\n",
       "      <th>91.0</th>\n",
       "      <td>73</td>\n",
       "      <td>89</td>\n",
       "      <td>2</td>\n",
       "    </tr>\n",
       "    <tr>\n",
       "      <th>92.0</th>\n",
       "      <td>72</td>\n",
       "      <td>148</td>\n",
       "      <td>2</td>\n",
       "    </tr>\n",
       "    <tr>\n",
       "      <th>93.0</th>\n",
       "      <td>76</td>\n",
       "      <td>122</td>\n",
       "      <td>1</td>\n",
       "    </tr>\n",
       "  </tbody>\n",
       "</table>\n",
       "<p>76 rows × 3 columns</p>\n",
       "</div>"
      ],
      "text/plain": [
       "categ   0.0   1.0   2.0\n",
       "age                    \n",
       "18.0   3283  5671  5815\n",
       "19.0    850  1662  1726\n",
       "20.0    967  1716  1785\n",
       "21.0    941  1544  1676\n",
       "22.0   1051  1616  1632\n",
       "...     ...   ...   ...\n",
       "89.0    136   178     1\n",
       "90.0    116   175     2\n",
       "91.0     73    89     2\n",
       "92.0     72   148     2\n",
       "93.0     76   122     1\n",
       "\n",
       "[76 rows x 3 columns]"
      ]
     },
     "execution_count": 79,
     "metadata": {},
     "output_type": "execute_result"
    }
   ],
   "source": [
    "df_pivot = df.pivot_table(index = [\"age\", \"categ\"], values= \"client_id\", aggfunc = \"count\")\n",
    "df_pivot = df_pivot.reset_index()\n",
    "df_pivot = df_pivot.pivot(\"age\", \"categ\", \"client_id\")\n",
    "df_pivot"
   ]
  },
  {
   "cell_type": "code",
   "execution_count": 80,
   "id": "bf1b0c36-cf5d-47fb-8be1-8f668bdc7a7e",
   "metadata": {},
   "outputs": [
    {
     "data": {
      "text/plain": [
       "<AxesSubplot:xlabel='categ', ylabel='age'>"
      ]
     },
     "execution_count": 80,
     "metadata": {},
     "output_type": "execute_result"
    },
    {
     "data": {
      "image/png": "[encoded data removed]",
      "text/plain": [
       "<Figure size 1008x432 with 3 Axes>"
      ]
     },
     "metadata": {
      "needs_background": "light"
     },
     "output_type": "display_data"
    }
   ],
   "source": [
    "# Graphs âge selon catégorie\n",
    "fig, ax = plt.subplots(nrows=1, ncols=2, figsize=(14,6))\n",
    "sns.heatmap(ax = ax[0], data = df_pivot)\n",
    "sns.boxplot(ax = ax[1], x='categ', y='age', data=df)"
   ]
  },
  {
   "cell_type": "code",
   "execution_count": 81,
   "id": "d91e5964-06f3-4efb-8c0d-0702143ac3ac",
   "metadata": {},
   "outputs": [
    {
     "data": {
      "text/plain": [
       "0.0"
      ]
     },
     "execution_count": 81,
     "metadata": {},
     "output_type": "execute_result"
    }
   ],
   "source": [
    "# Test ANOVA\n",
    "age_0 = df[df.categ == 0.0].age\n",
    "age_1 = df[df.categ == 1.0].age\n",
    "age_2 = df[df.categ == 2.0].age\n",
    "fvalue, pvalue = st.stats.f_oneway(age_0, age_1, age_2)\n",
    "pvalue "
   ]
  },
  {
   "cell_type": "code",
   "execution_count": 82,
   "id": "2413f222-6999-4ce5-9366-3433d62a5793",
   "metadata": {},
   "outputs": [
    {
     "data": {
      "text/plain": [
       "BartlettResult(statistic=35849.96466155407, pvalue=0.0)"
      ]
     },
     "execution_count": 82,
     "metadata": {},
     "output_type": "execute_result"
    }
   ],
   "source": [
    "# Verification de l'homogéénité des variances\n",
    "from scipy.stats import bartlett\n",
    "bartlett(age_0, age_1, age_2) # On rejette l'homogéénité des variances"
   ]
  },
  {
   "cell_type": "code",
   "execution_count": 83,
   "id": "4c0a6366-aa3c-436f-8148-5502c2a673be",
   "metadata": {},
   "outputs": [
    {
     "name": "stdout",
     "output_type": "stream",
     "text": [
      "1.2869612012223854e-19 1.2932664716913678e-08 2.1406235341025906e-40\n"
     ]
    }
   ],
   "source": [
    "# Vérification de distribution normale de chaque groupe\n",
    "from scipy.stats import shapiro\n",
    "sampled_age_0 = age_0.sample(n=1000, random_state=1000)\n",
    "sampled_age_1 = age_1.sample(n=1000, random_state=1000)\n",
    "sampled_age_2 = age_2.sample(n=1000, random_state=1000)\n",
    "print(shapiro(sampled_age_0)[1], shapiro(sampled_age_1)[1], shapiro(sampled_age_2)[1])\n",
    "# On rejette la normalité des distributions dans chaque groupe"
   ]
  },
  {
   "cell_type": "code",
   "execution_count": 84,
   "id": "149c0821-2020-40b0-bfbd-7f8212686520",
   "metadata": {},
   "outputs": [
    {
     "data": {
      "text/plain": [
       "ShapiroResult(statistic=0.9609363079071045, pvalue=1.0519151823603018e-15)"
      ]
     },
     "execution_count": 84,
     "metadata": {},
     "output_type": "execute_result"
    }
   ],
   "source": [
    "# Vérification de distribution normale des résidus\n",
    "from statsmodels.formula.api import ols\n",
    "from scipy.stats import shapiro\n",
    "sampled_df = df.sample(n=1000, random_state=1000)\n",
    "model = ols('age ~ categ', data=sampled_df).fit()\n",
    "shapiro(model.resid)   # On rejette la normalité des résidus"
   ]
  },
  {
   "cell_type": "code",
   "execution_count": 85,
   "id": "99722459-ae83-4c7b-aa21-8a5f8c27dace",
   "metadata": {},
   "outputs": [
    {
     "data": {
      "text/plain": [
       "0.0"
      ]
     },
     "execution_count": 85,
     "metadata": {},
     "output_type": "execute_result"
    }
   ],
   "source": [
    "# On utilise un test de krukal wallis car non validation des hypothèses sur ANOVA \n",
    "kruskal = st.stats.kruskal(age_0, age_1, age_2)\n",
    "p_value = kruskal[1]\n",
    "p_value # On rejette l'hypothèse d'une indépendance de l'âge sur la catégorie de livre acheté"
   ]
  },
  {
   "cell_type": "code",
   "execution_count": null,
   "id": "a7c564e1-5c32-476d-a326-09c87b575959",
   "metadata": {},
   "outputs": [],
   "source": []
  }
 ],
 "metadata": {
  "kernelspec": {
   "display_name": "envfoot",
   "language": "python",
   "name": "envfoot"
  },
  "language_info": {
   "codemirror_mode": {
    "name": "ipython",
    "version": 3
   },
   "file_extension": ".py",
   "mimetype": "text/x-python",
   "name": "python",
   "nbconvert_exporter": "python",
   "pygments_lexer": "ipython3",
   "version": "3.9.12"
  }
 },
 "nbformat": 4,
 "nbformat_minor": 5
}
